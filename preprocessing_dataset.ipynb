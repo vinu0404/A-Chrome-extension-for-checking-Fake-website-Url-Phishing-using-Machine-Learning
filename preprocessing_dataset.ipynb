{
 "cells": [
  {
   "cell_type": "code",
   "execution_count": 1,
   "metadata": {},
   "outputs": [],
   "source": [
    "import pandas as pd\n",
    "import itertools"
   ]
  },
  {
   "cell_type": "code",
   "execution_count": 2,
   "metadata": {},
   "outputs": [],
   "source": [
    "df_dom = pd.read_csv('malicious_url/new_domain.csv')"
   ]
  },
  {
   "cell_type": "code",
   "execution_count": 3,
   "metadata": {},
   "outputs": [
    {
     "data": {
      "text/html": [
       "<div>\n",
       "<style scoped>\n",
       "    .dataframe tbody tr th:only-of-type {\n",
       "        vertical-align: middle;\n",
       "    }\n",
       "\n",
       "    .dataframe tbody tr th {\n",
       "        vertical-align: top;\n",
       "    }\n",
       "\n",
       "    .dataframe thead th {\n",
       "        text-align: right;\n",
       "    }\n",
       "</style>\n",
       "<table border=\"1\" class=\"dataframe\">\n",
       "  <thead>\n",
       "    <tr style=\"text-align: right;\">\n",
       "      <th></th>\n",
       "      <th>blank1</th>\n",
       "      <th>blank2</th>\n",
       "      <th>url</th>\n",
       "      <th>type</th>\n",
       "      <th>checking_website</th>\n",
       "      <th>date1</th>\n",
       "      <th>date2</th>\n",
       "      <th>date3</th>\n",
       "    </tr>\n",
       "  </thead>\n",
       "  <tbody>\n",
       "    <tr>\n",
       "      <th>0</th>\n",
       "      <td>NaN</td>\n",
       "      <td>NaN</td>\n",
       "      <td>autosegurancabrasil.com</td>\n",
       "      <td>phishing</td>\n",
       "      <td>openphish.com</td>\n",
       "      <td>20171117</td>\n",
       "      <td>20160527</td>\n",
       "      <td>20160108.0</td>\n",
       "    </tr>\n",
       "    <tr>\n",
       "      <th>1</th>\n",
       "      <td>NaN</td>\n",
       "      <td>NaN</td>\n",
       "      <td>dadossolicitado-antendimento.sad879.mobi</td>\n",
       "      <td>phishing</td>\n",
       "      <td>openphish.com</td>\n",
       "      <td>20171117</td>\n",
       "      <td>20160527</td>\n",
       "      <td>20160108.0</td>\n",
       "    </tr>\n",
       "    <tr>\n",
       "      <th>2</th>\n",
       "      <td>NaN</td>\n",
       "      <td>NaN</td>\n",
       "      <td>hitnrun.com.my</td>\n",
       "      <td>phishing</td>\n",
       "      <td>openphish.com</td>\n",
       "      <td>20171117</td>\n",
       "      <td>20160527</td>\n",
       "      <td>20160108.0</td>\n",
       "    </tr>\n",
       "    <tr>\n",
       "      <th>3</th>\n",
       "      <td>NaN</td>\n",
       "      <td>NaN</td>\n",
       "      <td>maruthorvattomsrianjaneyatemple.org</td>\n",
       "      <td>phishing</td>\n",
       "      <td>openphish.com</td>\n",
       "      <td>20171117</td>\n",
       "      <td>20160527</td>\n",
       "      <td>20160108.0</td>\n",
       "    </tr>\n",
       "    <tr>\n",
       "      <th>4</th>\n",
       "      <td>NaN</td>\n",
       "      <td>NaN</td>\n",
       "      <td>paypalsecure-2016.sucurecode524154241.arita.ac.tz</td>\n",
       "      <td>phishing</td>\n",
       "      <td>openphish.com</td>\n",
       "      <td>20171117</td>\n",
       "      <td>20160527</td>\n",
       "      <td>20160108.0</td>\n",
       "    </tr>\n",
       "  </tbody>\n",
       "</table>\n",
       "</div>"
      ],
      "text/plain": [
       "  blank1  blank2                                                url      type  \\\n",
       "0    NaN     NaN                            autosegurancabrasil.com  phishing   \n",
       "1    NaN     NaN           dadossolicitado-antendimento.sad879.mobi  phishing   \n",
       "2    NaN     NaN                                     hitnrun.com.my  phishing   \n",
       "3    NaN     NaN                maruthorvattomsrianjaneyatemple.org  phishing   \n",
       "4    NaN     NaN  paypalsecure-2016.sucurecode524154241.arita.ac.tz  phishing   \n",
       "\n",
       "  checking_website     date1     date2       date3  \n",
       "0    openphish.com  20171117  20160527  20160108.0  \n",
       "1    openphish.com  20171117  20160527  20160108.0  \n",
       "2    openphish.com  20171117  20160527  20160108.0  \n",
       "3    openphish.com  20171117  20160527  20160108.0  \n",
       "4    openphish.com  20171117  20160527  20160108.0  "
      ]
     },
     "execution_count": 3,
     "metadata": {},
     "output_type": "execute_result"
    }
   ],
   "source": [
    "df_dom.head()"
   ]
  },
  {
   "cell_type": "code",
   "execution_count": 4,
   "metadata": {},
   "outputs": [
    {
     "data": {
      "text/html": [
       "<div>\n",
       "<style scoped>\n",
       "    .dataframe tbody tr th:only-of-type {\n",
       "        vertical-align: middle;\n",
       "    }\n",
       "\n",
       "    .dataframe tbody tr th {\n",
       "        vertical-align: top;\n",
       "    }\n",
       "\n",
       "    .dataframe thead th {\n",
       "        text-align: right;\n",
       "    }\n",
       "</style>\n",
       "<table border=\"1\" class=\"dataframe\">\n",
       "  <thead>\n",
       "    <tr style=\"text-align: right;\">\n",
       "      <th></th>\n",
       "      <th>url</th>\n",
       "      <th>type</th>\n",
       "      <th>checking_website</th>\n",
       "      <th>date1</th>\n",
       "      <th>date2</th>\n",
       "      <th>date3</th>\n",
       "    </tr>\n",
       "  </thead>\n",
       "  <tbody>\n",
       "    <tr>\n",
       "      <th>0</th>\n",
       "      <td>autosegurancabrasil.com</td>\n",
       "      <td>phishing</td>\n",
       "      <td>openphish.com</td>\n",
       "      <td>20171117</td>\n",
       "      <td>20160527</td>\n",
       "      <td>20160108.0</td>\n",
       "    </tr>\n",
       "    <tr>\n",
       "      <th>1</th>\n",
       "      <td>dadossolicitado-antendimento.sad879.mobi</td>\n",
       "      <td>phishing</td>\n",
       "      <td>openphish.com</td>\n",
       "      <td>20171117</td>\n",
       "      <td>20160527</td>\n",
       "      <td>20160108.0</td>\n",
       "    </tr>\n",
       "    <tr>\n",
       "      <th>2</th>\n",
       "      <td>hitnrun.com.my</td>\n",
       "      <td>phishing</td>\n",
       "      <td>openphish.com</td>\n",
       "      <td>20171117</td>\n",
       "      <td>20160527</td>\n",
       "      <td>20160108.0</td>\n",
       "    </tr>\n",
       "    <tr>\n",
       "      <th>3</th>\n",
       "      <td>maruthorvattomsrianjaneyatemple.org</td>\n",
       "      <td>phishing</td>\n",
       "      <td>openphish.com</td>\n",
       "      <td>20171117</td>\n",
       "      <td>20160527</td>\n",
       "      <td>20160108.0</td>\n",
       "    </tr>\n",
       "    <tr>\n",
       "      <th>4</th>\n",
       "      <td>paypalsecure-2016.sucurecode524154241.arita.ac.tz</td>\n",
       "      <td>phishing</td>\n",
       "      <td>openphish.com</td>\n",
       "      <td>20171117</td>\n",
       "      <td>20160527</td>\n",
       "      <td>20160108.0</td>\n",
       "    </tr>\n",
       "  </tbody>\n",
       "</table>\n",
       "</div>"
      ],
      "text/plain": [
       "                                                 url      type  \\\n",
       "0                            autosegurancabrasil.com  phishing   \n",
       "1           dadossolicitado-antendimento.sad879.mobi  phishing   \n",
       "2                                     hitnrun.com.my  phishing   \n",
       "3                maruthorvattomsrianjaneyatemple.org  phishing   \n",
       "4  paypalsecure-2016.sucurecode524154241.arita.ac.tz  phishing   \n",
       "\n",
       "  checking_website     date1     date2       date3  \n",
       "0    openphish.com  20171117  20160527  20160108.0  \n",
       "1    openphish.com  20171117  20160527  20160108.0  \n",
       "2    openphish.com  20171117  20160527  20160108.0  \n",
       "3    openphish.com  20171117  20160527  20160108.0  \n",
       "4    openphish.com  20171117  20160527  20160108.0  "
      ]
     },
     "execution_count": 4,
     "metadata": {},
     "output_type": "execute_result"
    }
   ],
   "source": [
    "df_dom = df_dom.drop(['blank1','blank2'],axis=1)\n",
    "df_dom.head()"
   ]
  },
  {
   "cell_type": "code",
   "execution_count": 6,
   "metadata": {},
   "outputs": [
    {
     "data": {
      "text/plain": [
       "phishing        21156\n",
       "suspicious       1049\n",
       "malware           987\n",
       "botnet            507\n",
       "emotet            220\n",
       "scam              220\n",
       "malicious         189\n",
       "locky              81\n",
       "attackpage         48\n",
       "redirect           34\n",
       "ransomware         29\n",
       "zeus               11\n",
       "pony                9\n",
       "Pony                8\n",
       "suppobox            7\n",
       "teslacrypt          6\n",
       "Citadel             5\n",
       "bedep               4\n",
       "dridex              3\n",
       "C&C                 3\n",
       "virut               3\n",
       "trickbot            3\n",
       "KeyBase             2\n",
       "vawtrak             2\n",
       "cryptowall          2\n",
       "cerber              2\n",
       "JackPos             2\n",
       "fakeav              1\n",
       "nymaim              1\n",
       "malspam             1\n",
       "malvertising        1\n",
       "Lokibot             1\n",
       "iframe              1\n",
       "angler              1\n",
       "nanocore            1\n",
       "rat                 1\n",
       "trojan              1\n",
       "fakescam            1\n",
       "HawkEye             1\n",
       "fakevirus           1\n",
       "pykspa              1\n",
       "autoit              1\n",
       "Kronos              1\n",
       "exploitkit          1\n",
       "Name: type, dtype: int64"
      ]
     },
     "execution_count": 6,
     "metadata": {},
     "output_type": "execute_result"
    }
   ],
   "source": [
    "df_dom['type'].value_counts()"
   ]
  },
  {
   "cell_type": "code",
   "execution_count": 7,
   "metadata": {},
   "outputs": [],
   "source": [
    "to_retain = ['phishing','malware']\n",
    "df_dom = df_dom[df_dom.type.isin(to_retain)]"
   ]
  },
  {
   "cell_type": "code",
   "execution_count": 8,
   "metadata": {},
   "outputs": [
    {
     "data": {
      "text/html": [
       "<div>\n",
       "<style scoped>\n",
       "    .dataframe tbody tr th:only-of-type {\n",
       "        vertical-align: middle;\n",
       "    }\n",
       "\n",
       "    .dataframe tbody tr th {\n",
       "        vertical-align: top;\n",
       "    }\n",
       "\n",
       "    .dataframe thead th {\n",
       "        text-align: right;\n",
       "    }\n",
       "</style>\n",
       "<table border=\"1\" class=\"dataframe\">\n",
       "  <thead>\n",
       "    <tr style=\"text-align: right;\">\n",
       "      <th></th>\n",
       "      <th>url</th>\n",
       "      <th>type</th>\n",
       "      <th>checking_website</th>\n",
       "      <th>date1</th>\n",
       "      <th>date2</th>\n",
       "      <th>date3</th>\n",
       "    </tr>\n",
       "  </thead>\n",
       "  <tbody>\n",
       "    <tr>\n",
       "      <th>0</th>\n",
       "      <td>autosegurancabrasil.com</td>\n",
       "      <td>phishing</td>\n",
       "      <td>openphish.com</td>\n",
       "      <td>20171117</td>\n",
       "      <td>20160527</td>\n",
       "      <td>20160108.0</td>\n",
       "    </tr>\n",
       "    <tr>\n",
       "      <th>1</th>\n",
       "      <td>dadossolicitado-antendimento.sad879.mobi</td>\n",
       "      <td>phishing</td>\n",
       "      <td>openphish.com</td>\n",
       "      <td>20171117</td>\n",
       "      <td>20160527</td>\n",
       "      <td>20160108.0</td>\n",
       "    </tr>\n",
       "    <tr>\n",
       "      <th>2</th>\n",
       "      <td>hitnrun.com.my</td>\n",
       "      <td>phishing</td>\n",
       "      <td>openphish.com</td>\n",
       "      <td>20171117</td>\n",
       "      <td>20160527</td>\n",
       "      <td>20160108.0</td>\n",
       "    </tr>\n",
       "    <tr>\n",
       "      <th>3</th>\n",
       "      <td>maruthorvattomsrianjaneyatemple.org</td>\n",
       "      <td>phishing</td>\n",
       "      <td>openphish.com</td>\n",
       "      <td>20171117</td>\n",
       "      <td>20160527</td>\n",
       "      <td>20160108.0</td>\n",
       "    </tr>\n",
       "    <tr>\n",
       "      <th>4</th>\n",
       "      <td>paypalsecure-2016.sucurecode524154241.arita.ac.tz</td>\n",
       "      <td>phishing</td>\n",
       "      <td>openphish.com</td>\n",
       "      <td>20171117</td>\n",
       "      <td>20160527</td>\n",
       "      <td>20160108.0</td>\n",
       "    </tr>\n",
       "  </tbody>\n",
       "</table>\n",
       "</div>"
      ],
      "text/plain": [
       "                                                 url      type  \\\n",
       "0                            autosegurancabrasil.com  phishing   \n",
       "1           dadossolicitado-antendimento.sad879.mobi  phishing   \n",
       "2                                     hitnrun.com.my  phishing   \n",
       "3                maruthorvattomsrianjaneyatemple.org  phishing   \n",
       "4  paypalsecure-2016.sucurecode524154241.arita.ac.tz  phishing   \n",
       "\n",
       "  checking_website     date1     date2       date3  \n",
       "0    openphish.com  20171117  20160527  20160108.0  \n",
       "1    openphish.com  20171117  20160527  20160108.0  \n",
       "2    openphish.com  20171117  20160527  20160108.0  \n",
       "3    openphish.com  20171117  20160527  20160108.0  \n",
       "4    openphish.com  20171117  20160527  20160108.0  "
      ]
     },
     "execution_count": 8,
     "metadata": {},
     "output_type": "execute_result"
    }
   ],
   "source": [
    "df_dom.head()"
   ]
  },
  {
   "cell_type": "code",
   "execution_count": 9,
   "metadata": {},
   "outputs": [
    {
     "data": {
      "text/plain": [
       "phishing    21156\n",
       "malware       987\n",
       "Name: type, dtype: int64"
      ]
     },
     "execution_count": 9,
     "metadata": {},
     "output_type": "execute_result"
    }
   ],
   "source": [
    "df_dom['type'].value_counts()"
   ]
  },
  {
   "cell_type": "code",
   "execution_count": 30,
   "metadata": {},
   "outputs": [
    {
     "data": {
      "text/html": [
       "<div>\n",
       "<style scoped>\n",
       "    .dataframe tbody tr th:only-of-type {\n",
       "        vertical-align: middle;\n",
       "    }\n",
       "\n",
       "    .dataframe tbody tr th {\n",
       "        vertical-align: top;\n",
       "    }\n",
       "\n",
       "    .dataframe thead th {\n",
       "        text-align: right;\n",
       "    }\n",
       "</style>\n",
       "<table border=\"1\" class=\"dataframe\">\n",
       "  <thead>\n",
       "    <tr style=\"text-align: right;\">\n",
       "      <th></th>\n",
       "      <th>url</th>\n",
       "      <th>type</th>\n",
       "    </tr>\n",
       "  </thead>\n",
       "  <tbody>\n",
       "    <tr>\n",
       "      <th>0</th>\n",
       "      <td>autosegurancabrasil.com</td>\n",
       "      <td>phishing</td>\n",
       "    </tr>\n",
       "    <tr>\n",
       "      <th>1</th>\n",
       "      <td>dadossolicitado-antendimento.sad879.mobi</td>\n",
       "      <td>phishing</td>\n",
       "    </tr>\n",
       "    <tr>\n",
       "      <th>2</th>\n",
       "      <td>hitnrun.com.my</td>\n",
       "      <td>phishing</td>\n",
       "    </tr>\n",
       "    <tr>\n",
       "      <th>3</th>\n",
       "      <td>maruthorvattomsrianjaneyatemple.org</td>\n",
       "      <td>phishing</td>\n",
       "    </tr>\n",
       "    <tr>\n",
       "      <th>4</th>\n",
       "      <td>paypalsecure-2016.sucurecode524154241.arita.ac.tz</td>\n",
       "      <td>phishing</td>\n",
       "    </tr>\n",
       "  </tbody>\n",
       "</table>\n",
       "</div>"
      ],
      "text/plain": [
       "                                                 url      type\n",
       "0                            autosegurancabrasil.com  phishing\n",
       "1           dadossolicitado-antendimento.sad879.mobi  phishing\n",
       "2                                     hitnrun.com.my  phishing\n",
       "3                maruthorvattomsrianjaneyatemple.org  phishing\n",
       "4  paypalsecure-2016.sucurecode524154241.arita.ac.tz  phishing"
      ]
     },
     "execution_count": 30,
     "metadata": {},
     "output_type": "execute_result"
    }
   ],
   "source": [
    "df_dom = df_dom[['url','type']]\n",
    "df_dom.head()"
   ]
  },
  {
   "cell_type": "code",
   "execution_count": 13,
   "metadata": {},
   "outputs": [],
   "source": [
    "colnames = ['url']\n",
    "df_real = pd.read_csv('malicious_url/Benign_list_big_final.csv',names=colnames, header=None)"
   ]
  },
  {
   "cell_type": "code",
   "execution_count": 14,
   "metadata": {},
   "outputs": [
    {
     "data": {
      "text/html": [
       "<div>\n",
       "<style scoped>\n",
       "    .dataframe tbody tr th:only-of-type {\n",
       "        vertical-align: middle;\n",
       "    }\n",
       "\n",
       "    .dataframe tbody tr th {\n",
       "        vertical-align: top;\n",
       "    }\n",
       "\n",
       "    .dataframe thead th {\n",
       "        text-align: right;\n",
       "    }\n",
       "</style>\n",
       "<table border=\"1\" class=\"dataframe\">\n",
       "  <thead>\n",
       "    <tr style=\"text-align: right;\">\n",
       "      <th></th>\n",
       "      <th>url</th>\n",
       "    </tr>\n",
       "  </thead>\n",
       "  <tbody>\n",
       "    <tr>\n",
       "      <th>0</th>\n",
       "      <td>http://1337x.to/torrent/1048648/American-Snipe...</td>\n",
       "    </tr>\n",
       "    <tr>\n",
       "      <th>1</th>\n",
       "      <td>http://1337x.to/torrent/1110018/Blackhat-2015-...</td>\n",
       "    </tr>\n",
       "    <tr>\n",
       "      <th>2</th>\n",
       "      <td>http://1337x.to/torrent/1122940/Blackhat-2015-...</td>\n",
       "    </tr>\n",
       "    <tr>\n",
       "      <th>3</th>\n",
       "      <td>http://1337x.to/torrent/1124395/Fast-and-Furio...</td>\n",
       "    </tr>\n",
       "    <tr>\n",
       "      <th>4</th>\n",
       "      <td>http://1337x.to/torrent/1145504/Avengers-Age-o...</td>\n",
       "    </tr>\n",
       "  </tbody>\n",
       "</table>\n",
       "</div>"
      ],
      "text/plain": [
       "                                                 url\n",
       "0  http://1337x.to/torrent/1048648/American-Snipe...\n",
       "1  http://1337x.to/torrent/1110018/Blackhat-2015-...\n",
       "2  http://1337x.to/torrent/1122940/Blackhat-2015-...\n",
       "3  http://1337x.to/torrent/1124395/Fast-and-Furio...\n",
       "4  http://1337x.to/torrent/1145504/Avengers-Age-o..."
      ]
     },
     "execution_count": 14,
     "metadata": {},
     "output_type": "execute_result"
    }
   ],
   "source": [
    "df_real.head()"
   ]
  },
  {
   "cell_type": "code",
   "execution_count": 15,
   "metadata": {},
   "outputs": [
    {
     "data": {
      "text/html": [
       "<div>\n",
       "<style scoped>\n",
       "    .dataframe tbody tr th:only-of-type {\n",
       "        vertical-align: middle;\n",
       "    }\n",
       "\n",
       "    .dataframe tbody tr th {\n",
       "        vertical-align: top;\n",
       "    }\n",
       "\n",
       "    .dataframe thead th {\n",
       "        text-align: right;\n",
       "    }\n",
       "</style>\n",
       "<table border=\"1\" class=\"dataframe\">\n",
       "  <thead>\n",
       "    <tr style=\"text-align: right;\">\n",
       "      <th></th>\n",
       "      <th>url</th>\n",
       "      <th>type</th>\n",
       "    </tr>\n",
       "  </thead>\n",
       "  <tbody>\n",
       "    <tr>\n",
       "      <th>0</th>\n",
       "      <td>http://1337x.to/torrent/1048648/American-Snipe...</td>\n",
       "      <td>benign</td>\n",
       "    </tr>\n",
       "    <tr>\n",
       "      <th>1</th>\n",
       "      <td>http://1337x.to/torrent/1110018/Blackhat-2015-...</td>\n",
       "      <td>benign</td>\n",
       "    </tr>\n",
       "    <tr>\n",
       "      <th>2</th>\n",
       "      <td>http://1337x.to/torrent/1122940/Blackhat-2015-...</td>\n",
       "      <td>benign</td>\n",
       "    </tr>\n",
       "    <tr>\n",
       "      <th>3</th>\n",
       "      <td>http://1337x.to/torrent/1124395/Fast-and-Furio...</td>\n",
       "      <td>benign</td>\n",
       "    </tr>\n",
       "    <tr>\n",
       "      <th>4</th>\n",
       "      <td>http://1337x.to/torrent/1145504/Avengers-Age-o...</td>\n",
       "      <td>benign</td>\n",
       "    </tr>\n",
       "  </tbody>\n",
       "</table>\n",
       "</div>"
      ],
      "text/plain": [
       "                                                 url    type\n",
       "0  http://1337x.to/torrent/1048648/American-Snipe...  benign\n",
       "1  http://1337x.to/torrent/1110018/Blackhat-2015-...  benign\n",
       "2  http://1337x.to/torrent/1122940/Blackhat-2015-...  benign\n",
       "3  http://1337x.to/torrent/1124395/Fast-and-Furio...  benign\n",
       "4  http://1337x.to/torrent/1145504/Avengers-Age-o...  benign"
      ]
     },
     "execution_count": 15,
     "metadata": {},
     "output_type": "execute_result"
    }
   ],
   "source": [
    "df_real['type'] = 'benign'\n",
    "df_real.head()"
   ]
  },
  {
   "cell_type": "code",
   "execution_count": 17,
   "metadata": {},
   "outputs": [
    {
     "data": {
      "text/html": [
       "<div>\n",
       "<style scoped>\n",
       "    .dataframe tbody tr th:only-of-type {\n",
       "        vertical-align: middle;\n",
       "    }\n",
       "\n",
       "    .dataframe tbody tr th {\n",
       "        vertical-align: top;\n",
       "    }\n",
       "\n",
       "    .dataframe thead th {\n",
       "        text-align: right;\n",
       "    }\n",
       "</style>\n",
       "<table border=\"1\" class=\"dataframe\">\n",
       "  <thead>\n",
       "    <tr style=\"text-align: right;\">\n",
       "      <th></th>\n",
       "      <th>url</th>\n",
       "      <th>label</th>\n",
       "    </tr>\n",
       "  </thead>\n",
       "  <tbody>\n",
       "    <tr>\n",
       "      <th>0</th>\n",
       "      <td>diaryofagameaddict.com</td>\n",
       "      <td>bad</td>\n",
       "    </tr>\n",
       "    <tr>\n",
       "      <th>1</th>\n",
       "      <td>espdesign.com.au</td>\n",
       "      <td>bad</td>\n",
       "    </tr>\n",
       "    <tr>\n",
       "      <th>2</th>\n",
       "      <td>iamagameaddict.com</td>\n",
       "      <td>bad</td>\n",
       "    </tr>\n",
       "    <tr>\n",
       "      <th>3</th>\n",
       "      <td>kalantzis.net</td>\n",
       "      <td>bad</td>\n",
       "    </tr>\n",
       "    <tr>\n",
       "      <th>4</th>\n",
       "      <td>slightlyoffcenter.net</td>\n",
       "      <td>bad</td>\n",
       "    </tr>\n",
       "  </tbody>\n",
       "</table>\n",
       "</div>"
      ],
      "text/plain": [
       "                      url label\n",
       "0  diaryofagameaddict.com   bad\n",
       "1        espdesign.com.au   bad\n",
       "2      iamagameaddict.com   bad\n",
       "3           kalantzis.net   bad\n",
       "4   slightlyoffcenter.net   bad"
      ]
     },
     "execution_count": 17,
     "metadata": {},
     "output_type": "execute_result"
    }
   ],
   "source": [
    "df_data =pd.read_csv('malicious_url/data.csv')\n",
    "df_data.head()"
   ]
  },
  {
   "cell_type": "code",
   "execution_count": 18,
   "metadata": {},
   "outputs": [],
   "source": [
    "df_data = df_data[df_data['label']=='good']"
   ]
  },
  {
   "cell_type": "code",
   "execution_count": 19,
   "metadata": {},
   "outputs": [
    {
     "data": {
      "text/plain": [
       "(344821, 2)"
      ]
     },
     "execution_count": 19,
     "metadata": {},
     "output_type": "execute_result"
    }
   ],
   "source": [
    "df_data.shape"
   ]
  },
  {
   "cell_type": "code",
   "execution_count": 20,
   "metadata": {},
   "outputs": [
    {
     "data": {
      "text/html": [
       "<div>\n",
       "<style scoped>\n",
       "    .dataframe tbody tr th:only-of-type {\n",
       "        vertical-align: middle;\n",
       "    }\n",
       "\n",
       "    .dataframe tbody tr th {\n",
       "        vertical-align: top;\n",
       "    }\n",
       "\n",
       "    .dataframe thead th {\n",
       "        text-align: right;\n",
       "    }\n",
       "</style>\n",
       "<table border=\"1\" class=\"dataframe\">\n",
       "  <thead>\n",
       "    <tr style=\"text-align: right;\">\n",
       "      <th></th>\n",
       "      <th>url</th>\n",
       "      <th>label</th>\n",
       "    </tr>\n",
       "  </thead>\n",
       "  <tbody>\n",
       "    <tr>\n",
       "      <th>42767</th>\n",
       "      <td>01453.com/</td>\n",
       "      <td>good</td>\n",
       "    </tr>\n",
       "    <tr>\n",
       "      <th>42768</th>\n",
       "      <td>015fb31.netsolhost.com/bosstweed.html</td>\n",
       "      <td>good</td>\n",
       "    </tr>\n",
       "    <tr>\n",
       "      <th>42769</th>\n",
       "      <td>02bee66.netsolhost.com/lincolnhomepage/</td>\n",
       "      <td>good</td>\n",
       "    </tr>\n",
       "    <tr>\n",
       "      <th>42770</th>\n",
       "      <td>02ec0a3.netsolhost.com/getperson.php?personID=...</td>\n",
       "      <td>good</td>\n",
       "    </tr>\n",
       "    <tr>\n",
       "      <th>42771</th>\n",
       "      <td>032255.com/</td>\n",
       "      <td>good</td>\n",
       "    </tr>\n",
       "  </tbody>\n",
       "</table>\n",
       "</div>"
      ],
      "text/plain": [
       "                                                     url label\n",
       "42767                                         01453.com/  good\n",
       "42768              015fb31.netsolhost.com/bosstweed.html  good\n",
       "42769            02bee66.netsolhost.com/lincolnhomepage/  good\n",
       "42770  02ec0a3.netsolhost.com/getperson.php?personID=...  good\n",
       "42771                                        032255.com/  good"
      ]
     },
     "execution_count": 20,
     "metadata": {},
     "output_type": "execute_result"
    }
   ],
   "source": [
    "df_data.head()"
   ]
  },
  {
   "cell_type": "code",
   "execution_count": 21,
   "metadata": {},
   "outputs": [],
   "source": [
    "df_data.columns = ['url', 'type']"
   ]
  },
  {
   "cell_type": "code",
   "execution_count": 22,
   "metadata": {},
   "outputs": [
    {
     "data": {
      "text/html": [
       "<div>\n",
       "<style scoped>\n",
       "    .dataframe tbody tr th:only-of-type {\n",
       "        vertical-align: middle;\n",
       "    }\n",
       "\n",
       "    .dataframe tbody tr th {\n",
       "        vertical-align: top;\n",
       "    }\n",
       "\n",
       "    .dataframe thead th {\n",
       "        text-align: right;\n",
       "    }\n",
       "</style>\n",
       "<table border=\"1\" class=\"dataframe\">\n",
       "  <thead>\n",
       "    <tr style=\"text-align: right;\">\n",
       "      <th></th>\n",
       "      <th>url</th>\n",
       "      <th>type</th>\n",
       "    </tr>\n",
       "  </thead>\n",
       "  <tbody>\n",
       "    <tr>\n",
       "      <th>42767</th>\n",
       "      <td>01453.com/</td>\n",
       "      <td>good</td>\n",
       "    </tr>\n",
       "    <tr>\n",
       "      <th>42768</th>\n",
       "      <td>015fb31.netsolhost.com/bosstweed.html</td>\n",
       "      <td>good</td>\n",
       "    </tr>\n",
       "    <tr>\n",
       "      <th>42769</th>\n",
       "      <td>02bee66.netsolhost.com/lincolnhomepage/</td>\n",
       "      <td>good</td>\n",
       "    </tr>\n",
       "    <tr>\n",
       "      <th>42770</th>\n",
       "      <td>02ec0a3.netsolhost.com/getperson.php?personID=...</td>\n",
       "      <td>good</td>\n",
       "    </tr>\n",
       "    <tr>\n",
       "      <th>42771</th>\n",
       "      <td>032255.com/</td>\n",
       "      <td>good</td>\n",
       "    </tr>\n",
       "  </tbody>\n",
       "</table>\n",
       "</div>"
      ],
      "text/plain": [
       "                                                     url  type\n",
       "42767                                         01453.com/  good\n",
       "42768              015fb31.netsolhost.com/bosstweed.html  good\n",
       "42769            02bee66.netsolhost.com/lincolnhomepage/  good\n",
       "42770  02ec0a3.netsolhost.com/getperson.php?personID=...  good\n",
       "42771                                        032255.com/  good"
      ]
     },
     "execution_count": 22,
     "metadata": {},
     "output_type": "execute_result"
    }
   ],
   "source": [
    "df_data.head()"
   ]
  },
  {
   "cell_type": "code",
   "execution_count": 23,
   "metadata": {},
   "outputs": [],
   "source": [
    "df_data=df_data.replace(to_replace =\"good\", \n",
    "                 value =\"benign\") "
   ]
  },
  {
   "cell_type": "code",
   "execution_count": 24,
   "metadata": {},
   "outputs": [
    {
     "data": {
      "text/html": [
       "<div>\n",
       "<style scoped>\n",
       "    .dataframe tbody tr th:only-of-type {\n",
       "        vertical-align: middle;\n",
       "    }\n",
       "\n",
       "    .dataframe tbody tr th {\n",
       "        vertical-align: top;\n",
       "    }\n",
       "\n",
       "    .dataframe thead th {\n",
       "        text-align: right;\n",
       "    }\n",
       "</style>\n",
       "<table border=\"1\" class=\"dataframe\">\n",
       "  <thead>\n",
       "    <tr style=\"text-align: right;\">\n",
       "      <th></th>\n",
       "      <th>url</th>\n",
       "      <th>type</th>\n",
       "    </tr>\n",
       "  </thead>\n",
       "  <tbody>\n",
       "    <tr>\n",
       "      <th>42767</th>\n",
       "      <td>01453.com/</td>\n",
       "      <td>benign</td>\n",
       "    </tr>\n",
       "    <tr>\n",
       "      <th>42768</th>\n",
       "      <td>015fb31.netsolhost.com/bosstweed.html</td>\n",
       "      <td>benign</td>\n",
       "    </tr>\n",
       "    <tr>\n",
       "      <th>42769</th>\n",
       "      <td>02bee66.netsolhost.com/lincolnhomepage/</td>\n",
       "      <td>benign</td>\n",
       "    </tr>\n",
       "    <tr>\n",
       "      <th>42770</th>\n",
       "      <td>02ec0a3.netsolhost.com/getperson.php?personID=...</td>\n",
       "      <td>benign</td>\n",
       "    </tr>\n",
       "    <tr>\n",
       "      <th>42771</th>\n",
       "      <td>032255.com/</td>\n",
       "      <td>benign</td>\n",
       "    </tr>\n",
       "  </tbody>\n",
       "</table>\n",
       "</div>"
      ],
      "text/plain": [
       "                                                     url    type\n",
       "42767                                         01453.com/  benign\n",
       "42768              015fb31.netsolhost.com/bosstweed.html  benign\n",
       "42769            02bee66.netsolhost.com/lincolnhomepage/  benign\n",
       "42770  02ec0a3.netsolhost.com/getperson.php?personID=...  benign\n",
       "42771                                        032255.com/  benign"
      ]
     },
     "execution_count": 24,
     "metadata": {},
     "output_type": "execute_result"
    }
   ],
   "source": [
    "df_data.head()"
   ]
  },
  {
   "cell_type": "code",
   "execution_count": 26,
   "metadata": {},
   "outputs": [
    {
     "data": {
      "text/plain": [
       "(380199, 2)"
      ]
     },
     "execution_count": 26,
     "metadata": {},
     "output_type": "execute_result"
    }
   ],
   "source": [
    "df_good = pd.concat([df_data,df_real], ignore_index=True)\n",
    "df_good.shape"
   ]
  },
  {
   "cell_type": "code",
   "execution_count": 27,
   "metadata": {},
   "outputs": [
    {
     "data": {
      "text/html": [
       "<div>\n",
       "<style scoped>\n",
       "    .dataframe tbody tr th:only-of-type {\n",
       "        vertical-align: middle;\n",
       "    }\n",
       "\n",
       "    .dataframe tbody tr th {\n",
       "        vertical-align: top;\n",
       "    }\n",
       "\n",
       "    .dataframe thead th {\n",
       "        text-align: right;\n",
       "    }\n",
       "</style>\n",
       "<table border=\"1\" class=\"dataframe\">\n",
       "  <thead>\n",
       "    <tr style=\"text-align: right;\">\n",
       "      <th></th>\n",
       "      <th>url</th>\n",
       "      <th>type</th>\n",
       "    </tr>\n",
       "  </thead>\n",
       "  <tbody>\n",
       "    <tr>\n",
       "      <th>0</th>\n",
       "      <td>01453.com/</td>\n",
       "      <td>benign</td>\n",
       "    </tr>\n",
       "    <tr>\n",
       "      <th>1</th>\n",
       "      <td>015fb31.netsolhost.com/bosstweed.html</td>\n",
       "      <td>benign</td>\n",
       "    </tr>\n",
       "    <tr>\n",
       "      <th>2</th>\n",
       "      <td>02bee66.netsolhost.com/lincolnhomepage/</td>\n",
       "      <td>benign</td>\n",
       "    </tr>\n",
       "    <tr>\n",
       "      <th>3</th>\n",
       "      <td>02ec0a3.netsolhost.com/getperson.php?personID=...</td>\n",
       "      <td>benign</td>\n",
       "    </tr>\n",
       "    <tr>\n",
       "      <th>4</th>\n",
       "      <td>032255.com/</td>\n",
       "      <td>benign</td>\n",
       "    </tr>\n",
       "  </tbody>\n",
       "</table>\n",
       "</div>"
      ],
      "text/plain": [
       "                                                 url    type\n",
       "0                                         01453.com/  benign\n",
       "1              015fb31.netsolhost.com/bosstweed.html  benign\n",
       "2            02bee66.netsolhost.com/lincolnhomepage/  benign\n",
       "3  02ec0a3.netsolhost.com/getperson.php?personID=...  benign\n",
       "4                                        032255.com/  benign"
      ]
     },
     "execution_count": 27,
     "metadata": {},
     "output_type": "execute_result"
    }
   ],
   "source": [
    "df_good.head()"
   ]
  },
  {
   "cell_type": "code",
   "execution_count": 31,
   "metadata": {},
   "outputs": [
    {
     "data": {
      "text/plain": [
       "(402342, 2)"
      ]
     },
     "execution_count": 31,
     "metadata": {},
     "output_type": "execute_result"
    }
   ],
   "source": [
    "df1 = pd.concat([df_good,df_dom],ignore_index=True)\n",
    "df1.shape"
   ]
  },
  {
   "cell_type": "code",
   "execution_count": 32,
   "metadata": {},
   "outputs": [
    {
     "data": {
      "text/html": [
       "<div>\n",
       "<style scoped>\n",
       "    .dataframe tbody tr th:only-of-type {\n",
       "        vertical-align: middle;\n",
       "    }\n",
       "\n",
       "    .dataframe tbody tr th {\n",
       "        vertical-align: top;\n",
       "    }\n",
       "\n",
       "    .dataframe thead th {\n",
       "        text-align: right;\n",
       "    }\n",
       "</style>\n",
       "<table border=\"1\" class=\"dataframe\">\n",
       "  <thead>\n",
       "    <tr style=\"text-align: right;\">\n",
       "      <th></th>\n",
       "      <th>url</th>\n",
       "      <th>type</th>\n",
       "    </tr>\n",
       "  </thead>\n",
       "  <tbody>\n",
       "    <tr>\n",
       "      <th>0</th>\n",
       "      <td>01453.com/</td>\n",
       "      <td>benign</td>\n",
       "    </tr>\n",
       "    <tr>\n",
       "      <th>1</th>\n",
       "      <td>015fb31.netsolhost.com/bosstweed.html</td>\n",
       "      <td>benign</td>\n",
       "    </tr>\n",
       "    <tr>\n",
       "      <th>2</th>\n",
       "      <td>02bee66.netsolhost.com/lincolnhomepage/</td>\n",
       "      <td>benign</td>\n",
       "    </tr>\n",
       "    <tr>\n",
       "      <th>3</th>\n",
       "      <td>02ec0a3.netsolhost.com/getperson.php?personID=...</td>\n",
       "      <td>benign</td>\n",
       "    </tr>\n",
       "    <tr>\n",
       "      <th>4</th>\n",
       "      <td>032255.com/</td>\n",
       "      <td>benign</td>\n",
       "    </tr>\n",
       "  </tbody>\n",
       "</table>\n",
       "</div>"
      ],
      "text/plain": [
       "                                                 url    type\n",
       "0                                         01453.com/  benign\n",
       "1              015fb31.netsolhost.com/bosstweed.html  benign\n",
       "2            02bee66.netsolhost.com/lincolnhomepage/  benign\n",
       "3  02ec0a3.netsolhost.com/getperson.php?personID=...  benign\n",
       "4                                        032255.com/  benign"
      ]
     },
     "execution_count": 32,
     "metadata": {},
     "output_type": "execute_result"
    }
   ],
   "source": [
    "df1.head()"
   ]
  },
  {
   "cell_type": "code",
   "execution_count": 34,
   "metadata": {},
   "outputs": [
    {
     "data": {
      "text/html": [
       "<div>\n",
       "<style scoped>\n",
       "    .dataframe tbody tr th:only-of-type {\n",
       "        vertical-align: middle;\n",
       "    }\n",
       "\n",
       "    .dataframe tbody tr th {\n",
       "        vertical-align: top;\n",
       "    }\n",
       "\n",
       "    .dataframe thead th {\n",
       "        text-align: right;\n",
       "    }\n",
       "</style>\n",
       "<table border=\"1\" class=\"dataframe\">\n",
       "  <thead>\n",
       "    <tr style=\"text-align: right;\">\n",
       "      <th></th>\n",
       "      <th>url</th>\n",
       "    </tr>\n",
       "  </thead>\n",
       "  <tbody>\n",
       "    <tr>\n",
       "      <th>0</th>\n",
       "      <td>http://www.sinduscongoias.com.br/index.html</td>\n",
       "    </tr>\n",
       "    <tr>\n",
       "      <th>1</th>\n",
       "      <td>http://www.sinduscongoias.com.br/index.php/ins...</td>\n",
       "    </tr>\n",
       "    <tr>\n",
       "      <th>2</th>\n",
       "      <td>http://www.sinduscongoias.com.br/index.php/ins...</td>\n",
       "    </tr>\n",
       "    <tr>\n",
       "      <th>3</th>\n",
       "      <td>http://www.sinduscongoias.com.br/index.php/ins...</td>\n",
       "    </tr>\n",
       "    <tr>\n",
       "      <th>4</th>\n",
       "      <td>http://www.sinduscongoias.com.br/index.php/ins...</td>\n",
       "    </tr>\n",
       "  </tbody>\n",
       "</table>\n",
       "</div>"
      ],
      "text/plain": [
       "                                                 url\n",
       "0        http://www.sinduscongoias.com.br/index.html\n",
       "1  http://www.sinduscongoias.com.br/index.php/ins...\n",
       "2  http://www.sinduscongoias.com.br/index.php/ins...\n",
       "3  http://www.sinduscongoias.com.br/index.php/ins...\n",
       "4  http://www.sinduscongoias.com.br/index.php/ins..."
      ]
     },
     "execution_count": 34,
     "metadata": {},
     "output_type": "execute_result"
    }
   ],
   "source": [
    "colnames = ['url']\n",
    "\n",
    "df_deface =pd.read_csv('malicious_url/DefacementSitesURLFiltered.csv',names=colnames, header=None)\n",
    "df_deface.head()"
   ]
  },
  {
   "cell_type": "code",
   "execution_count": 35,
   "metadata": {},
   "outputs": [
    {
     "data": {
      "text/html": [
       "<div>\n",
       "<style scoped>\n",
       "    .dataframe tbody tr th:only-of-type {\n",
       "        vertical-align: middle;\n",
       "    }\n",
       "\n",
       "    .dataframe tbody tr th {\n",
       "        vertical-align: top;\n",
       "    }\n",
       "\n",
       "    .dataframe thead th {\n",
       "        text-align: right;\n",
       "    }\n",
       "</style>\n",
       "<table border=\"1\" class=\"dataframe\">\n",
       "  <thead>\n",
       "    <tr style=\"text-align: right;\">\n",
       "      <th></th>\n",
       "      <th>url</th>\n",
       "      <th>type</th>\n",
       "    </tr>\n",
       "  </thead>\n",
       "  <tbody>\n",
       "    <tr>\n",
       "      <th>0</th>\n",
       "      <td>http://www.sinduscongoias.com.br/index.html</td>\n",
       "      <td>defacement</td>\n",
       "    </tr>\n",
       "    <tr>\n",
       "      <th>1</th>\n",
       "      <td>http://www.sinduscongoias.com.br/index.php/ins...</td>\n",
       "      <td>defacement</td>\n",
       "    </tr>\n",
       "    <tr>\n",
       "      <th>2</th>\n",
       "      <td>http://www.sinduscongoias.com.br/index.php/ins...</td>\n",
       "      <td>defacement</td>\n",
       "    </tr>\n",
       "    <tr>\n",
       "      <th>3</th>\n",
       "      <td>http://www.sinduscongoias.com.br/index.php/ins...</td>\n",
       "      <td>defacement</td>\n",
       "    </tr>\n",
       "    <tr>\n",
       "      <th>4</th>\n",
       "      <td>http://www.sinduscongoias.com.br/index.php/ins...</td>\n",
       "      <td>defacement</td>\n",
       "    </tr>\n",
       "  </tbody>\n",
       "</table>\n",
       "</div>"
      ],
      "text/plain": [
       "                                                 url        type\n",
       "0        http://www.sinduscongoias.com.br/index.html  defacement\n",
       "1  http://www.sinduscongoias.com.br/index.php/ins...  defacement\n",
       "2  http://www.sinduscongoias.com.br/index.php/ins...  defacement\n",
       "3  http://www.sinduscongoias.com.br/index.php/ins...  defacement\n",
       "4  http://www.sinduscongoias.com.br/index.php/ins...  defacement"
      ]
     },
     "execution_count": 35,
     "metadata": {},
     "output_type": "execute_result"
    }
   ],
   "source": [
    "df_deface['type'] = 'defacement'\n",
    "df_deface.head()"
   ]
  },
  {
   "cell_type": "code",
   "execution_count": 36,
   "metadata": {},
   "outputs": [
    {
     "data": {
      "text/plain": [
       "(498799, 2)"
      ]
     },
     "execution_count": 36,
     "metadata": {},
     "output_type": "execute_result"
    }
   ],
   "source": [
    "df2 = pd.concat([df1,df_deface],ignore_index=True)\n",
    "df2.shape"
   ]
  },
  {
   "cell_type": "code",
   "execution_count": 37,
   "metadata": {},
   "outputs": [
    {
     "data": {
      "text/html": [
       "<div>\n",
       "<style scoped>\n",
       "    .dataframe tbody tr th:only-of-type {\n",
       "        vertical-align: middle;\n",
       "    }\n",
       "\n",
       "    .dataframe tbody tr th {\n",
       "        vertical-align: top;\n",
       "    }\n",
       "\n",
       "    .dataframe thead th {\n",
       "        text-align: right;\n",
       "    }\n",
       "</style>\n",
       "<table border=\"1\" class=\"dataframe\">\n",
       "  <thead>\n",
       "    <tr style=\"text-align: right;\">\n",
       "      <th></th>\n",
       "      <th>url</th>\n",
       "      <th>type</th>\n",
       "    </tr>\n",
       "  </thead>\n",
       "  <tbody>\n",
       "    <tr>\n",
       "      <th>0</th>\n",
       "      <td>01453.com/</td>\n",
       "      <td>benign</td>\n",
       "    </tr>\n",
       "    <tr>\n",
       "      <th>1</th>\n",
       "      <td>015fb31.netsolhost.com/bosstweed.html</td>\n",
       "      <td>benign</td>\n",
       "    </tr>\n",
       "    <tr>\n",
       "      <th>2</th>\n",
       "      <td>02bee66.netsolhost.com/lincolnhomepage/</td>\n",
       "      <td>benign</td>\n",
       "    </tr>\n",
       "    <tr>\n",
       "      <th>3</th>\n",
       "      <td>02ec0a3.netsolhost.com/getperson.php?personID=...</td>\n",
       "      <td>benign</td>\n",
       "    </tr>\n",
       "    <tr>\n",
       "      <th>4</th>\n",
       "      <td>032255.com/</td>\n",
       "      <td>benign</td>\n",
       "    </tr>\n",
       "  </tbody>\n",
       "</table>\n",
       "</div>"
      ],
      "text/plain": [
       "                                                 url    type\n",
       "0                                         01453.com/  benign\n",
       "1              015fb31.netsolhost.com/bosstweed.html  benign\n",
       "2            02bee66.netsolhost.com/lincolnhomepage/  benign\n",
       "3  02ec0a3.netsolhost.com/getperson.php?personID=...  benign\n",
       "4                                        032255.com/  benign"
      ]
     },
     "execution_count": 37,
     "metadata": {},
     "output_type": "execute_result"
    }
   ],
   "source": [
    "df2.head()"
   ]
  },
  {
   "cell_type": "code",
   "execution_count": 38,
   "metadata": {},
   "outputs": [
    {
     "data": {
      "text/html": [
       "<div>\n",
       "<style scoped>\n",
       "    .dataframe tbody tr th:only-of-type {\n",
       "        vertical-align: middle;\n",
       "    }\n",
       "\n",
       "    .dataframe tbody tr th {\n",
       "        vertical-align: top;\n",
       "    }\n",
       "\n",
       "    .dataframe thead th {\n",
       "        text-align: right;\n",
       "    }\n",
       "</style>\n",
       "<table border=\"1\" class=\"dataframe\">\n",
       "  <thead>\n",
       "    <tr style=\"text-align: right;\">\n",
       "      <th></th>\n",
       "      <th>url</th>\n",
       "    </tr>\n",
       "  </thead>\n",
       "  <tbody>\n",
       "    <tr>\n",
       "      <th>0</th>\n",
       "      <td>http://v2.email-marketing.adminsimple.com/trac...</td>\n",
       "    </tr>\n",
       "    <tr>\n",
       "      <th>1</th>\n",
       "      <td>http://bid.openx.net/json?amp;amp;amp;amp;cid;...</td>\n",
       "    </tr>\n",
       "    <tr>\n",
       "      <th>2</th>\n",
       "      <td>http://webmail2.centurytel.net/hwebmail/servic...</td>\n",
       "    </tr>\n",
       "    <tr>\n",
       "      <th>3</th>\n",
       "      <td>http://www.google.com.ng/imgres?imgurl=http://...</td>\n",
       "    </tr>\n",
       "    <tr>\n",
       "      <th>4</th>\n",
       "      <td>http://webmail2.centurytel.net/hwebmail/servic...</td>\n",
       "    </tr>\n",
       "  </tbody>\n",
       "</table>\n",
       "</div>"
      ],
      "text/plain": [
       "                                                 url\n",
       "0  http://v2.email-marketing.adminsimple.com/trac...\n",
       "1  http://bid.openx.net/json?amp;amp;amp;amp;cid;...\n",
       "2  http://webmail2.centurytel.net/hwebmail/servic...\n",
       "3  http://www.google.com.ng/imgres?imgurl=http://...\n",
       "4  http://webmail2.centurytel.net/hwebmail/servic..."
      ]
     },
     "execution_count": 38,
     "metadata": {},
     "output_type": "execute_result"
    }
   ],
   "source": [
    "colnames = ['url']\n",
    "\n",
    "df_phishing =pd.read_csv('malicious_url/phishing_dataset.csv',names=colnames, header=None)\n",
    "df_phishing.head()"
   ]
  },
  {
   "cell_type": "code",
   "execution_count": 39,
   "metadata": {},
   "outputs": [
    {
     "data": {
      "text/plain": [
       "(508764, 2)"
      ]
     },
     "execution_count": 39,
     "metadata": {},
     "output_type": "execute_result"
    }
   ],
   "source": [
    "df_phishing['type'] = 'phishing'\n",
    "df3 = pd.concat([df2,df_phishing],ignore_index=True)\n",
    "df3.shape"
   ]
  },
  {
   "cell_type": "code",
   "execution_count": 40,
   "metadata": {},
   "outputs": [
    {
     "data": {
      "text/plain": [
       "(520330, 2)"
      ]
     },
     "execution_count": 40,
     "metadata": {},
     "output_type": "execute_result"
    }
   ],
   "source": [
    "df_mal = pd.read_csv('malicious_url/Malware_dataset.csv', header=None,names=colnames)\n",
    "df_mal['type'] = 'malware'\n",
    "df4 = pd.concat([df3,df_mal],ignore_index=True)\n",
    "df4.shape"
   ]
  },
  {
   "cell_type": "code",
   "execution_count": 47,
   "metadata": {},
   "outputs": [
    {
     "data": {
      "text/plain": [
       "benign        380199\n",
       "defacement     96457\n",
       "phishing       31121\n",
       "malware        12553\n",
       "Name: type, dtype: int64"
      ]
     },
     "execution_count": 47,
     "metadata": {},
     "output_type": "execute_result"
    }
   ],
   "source": [
    "df4['type'].value_counts()"
   ]
  },
  {
   "cell_type": "code",
   "execution_count": 2,
   "metadata": {},
   "outputs": [
    {
     "data": {
      "text/html": [
       "<div>\n",
       "<style scoped>\n",
       "    .dataframe tbody tr th:only-of-type {\n",
       "        vertical-align: middle;\n",
       "    }\n",
       "\n",
       "    .dataframe tbody tr th {\n",
       "        vertical-align: top;\n",
       "    }\n",
       "\n",
       "    .dataframe thead th {\n",
       "        text-align: right;\n",
       "    }\n",
       "</style>\n",
       "<table border=\"1\" class=\"dataframe\">\n",
       "  <thead>\n",
       "    <tr style=\"text-align: right;\">\n",
       "      <th></th>\n",
       "      <th>url</th>\n",
       "      <th>type</th>\n",
       "    </tr>\n",
       "  </thead>\n",
       "  <tbody>\n",
       "    <tr>\n",
       "      <th>0</th>\n",
       "      <td>br-icloud.com.br</td>\n",
       "      <td>phishing</td>\n",
       "    </tr>\n",
       "    <tr>\n",
       "      <th>1</th>\n",
       "      <td>mp3raid.com/music/krizz_kaliko.html</td>\n",
       "      <td>benign</td>\n",
       "    </tr>\n",
       "    <tr>\n",
       "      <th>2</th>\n",
       "      <td>bopsecrets.org/rexroth/cr/1.htm</td>\n",
       "      <td>benign</td>\n",
       "    </tr>\n",
       "    <tr>\n",
       "      <th>3</th>\n",
       "      <td>http://www.garage-pirenne.be/index.php?option=...</td>\n",
       "      <td>defacement</td>\n",
       "    </tr>\n",
       "    <tr>\n",
       "      <th>4</th>\n",
       "      <td>http://adventure-nicaragua.net/index.php?optio...</td>\n",
       "      <td>defacement</td>\n",
       "    </tr>\n",
       "  </tbody>\n",
       "</table>\n",
       "</div>"
      ],
      "text/plain": [
       "                                                 url        type\n",
       "0                                   br-icloud.com.br    phishing\n",
       "1                mp3raid.com/music/krizz_kaliko.html      benign\n",
       "2                    bopsecrets.org/rexroth/cr/1.htm      benign\n",
       "3  http://www.garage-pirenne.be/index.php?option=...  defacement\n",
       "4  http://adventure-nicaragua.net/index.php?optio...  defacement"
      ]
     },
     "execution_count": 2,
     "metadata": {},
     "output_type": "execute_result"
    }
   ],
   "source": [
    "df=pd.read_csv('malicious_urls.csv')\n",
    "df.head()"
   ]
  },
  {
   "cell_type": "code",
   "execution_count": 3,
   "metadata": {},
   "outputs": [
    {
     "data": {
      "text/plain": [
       "(520330, 2)"
      ]
     },
     "execution_count": 3,
     "metadata": {},
     "output_type": "execute_result"
    }
   ],
   "source": [
    "df.shape"
   ]
  },
  {
   "cell_type": "code",
   "execution_count": 5,
   "metadata": {},
   "outputs": [
    {
     "data": {
      "text/html": [
       "<div>\n",
       "<style scoped>\n",
       "    .dataframe tbody tr th:only-of-type {\n",
       "        vertical-align: middle;\n",
       "    }\n",
       "\n",
       "    .dataframe tbody tr th {\n",
       "        vertical-align: top;\n",
       "    }\n",
       "\n",
       "    .dataframe thead th {\n",
       "        text-align: right;\n",
       "    }\n",
       "</style>\n",
       "<table border=\"1\" class=\"dataframe\">\n",
       "  <thead>\n",
       "    <tr style=\"text-align: right;\">\n",
       "      <th></th>\n",
       "      <th>phish_id</th>\n",
       "      <th>url</th>\n",
       "      <th>phish_detail_url</th>\n",
       "      <th>submission_time</th>\n",
       "      <th>verified</th>\n",
       "      <th>verification_time</th>\n",
       "      <th>online</th>\n",
       "      <th>target</th>\n",
       "    </tr>\n",
       "  </thead>\n",
       "  <tbody>\n",
       "    <tr>\n",
       "      <th>0</th>\n",
       "      <td>6561569</td>\n",
       "      <td>http://eclecticstate.com/chase/97ec3268108b63d...</td>\n",
       "      <td>http://www.phishtank.com/phish_detail.php?phis...</td>\n",
       "      <td>2020-05-12T06:00:34+00:00</td>\n",
       "      <td>yes</td>\n",
       "      <td>2020-05-12T06:02:04+00:00</td>\n",
       "      <td>yes</td>\n",
       "      <td>Other</td>\n",
       "    </tr>\n",
       "    <tr>\n",
       "      <th>1</th>\n",
       "      <td>6561568</td>\n",
       "      <td>http://caravelstudio.gr/www.linkedIn.com</td>\n",
       "      <td>http://www.phishtank.com/phish_detail.php?phis...</td>\n",
       "      <td>2020-05-12T06:00:30+00:00</td>\n",
       "      <td>yes</td>\n",
       "      <td>2020-05-12T06:02:04+00:00</td>\n",
       "      <td>yes</td>\n",
       "      <td>Other</td>\n",
       "    </tr>\n",
       "    <tr>\n",
       "      <th>2</th>\n",
       "      <td>6561546</td>\n",
       "      <td>https://z-e.top/de/phone.php</td>\n",
       "      <td>http://www.phishtank.com/phish_detail.php?phis...</td>\n",
       "      <td>2020-05-12T05:37:33+00:00</td>\n",
       "      <td>yes</td>\n",
       "      <td>2020-05-12T05:38:51+00:00</td>\n",
       "      <td>yes</td>\n",
       "      <td>Other</td>\n",
       "    </tr>\n",
       "    <tr>\n",
       "      <th>3</th>\n",
       "      <td>6561542</td>\n",
       "      <td>https://post-r.top/de/</td>\n",
       "      <td>http://www.phishtank.com/phish_detail.php?phis...</td>\n",
       "      <td>2020-05-12T05:31:11+00:00</td>\n",
       "      <td>yes</td>\n",
       "      <td>2020-05-12T05:32:31+00:00</td>\n",
       "      <td>yes</td>\n",
       "      <td>Other</td>\n",
       "    </tr>\n",
       "    <tr>\n",
       "      <th>4</th>\n",
       "      <td>6561541</td>\n",
       "      <td>https://post-r.top/de/phone.php</td>\n",
       "      <td>http://www.phishtank.com/phish_detail.php?phis...</td>\n",
       "      <td>2020-05-12T05:31:07+00:00</td>\n",
       "      <td>yes</td>\n",
       "      <td>2020-05-12T05:32:31+00:00</td>\n",
       "      <td>yes</td>\n",
       "      <td>Other</td>\n",
       "    </tr>\n",
       "  </tbody>\n",
       "</table>\n",
       "</div>"
      ],
      "text/plain": [
       "   phish_id                                                url  \\\n",
       "0   6561569  http://eclecticstate.com/chase/97ec3268108b63d...   \n",
       "1   6561568           http://caravelstudio.gr/www.linkedIn.com   \n",
       "2   6561546                       https://z-e.top/de/phone.php   \n",
       "3   6561542                             https://post-r.top/de/   \n",
       "4   6561541                    https://post-r.top/de/phone.php   \n",
       "\n",
       "                                    phish_detail_url  \\\n",
       "0  http://www.phishtank.com/phish_detail.php?phis...   \n",
       "1  http://www.phishtank.com/phish_detail.php?phis...   \n",
       "2  http://www.phishtank.com/phish_detail.php?phis...   \n",
       "3  http://www.phishtank.com/phish_detail.php?phis...   \n",
       "4  http://www.phishtank.com/phish_detail.php?phis...   \n",
       "\n",
       "             submission_time verified          verification_time online target  \n",
       "0  2020-05-12T06:00:34+00:00      yes  2020-05-12T06:02:04+00:00    yes  Other  \n",
       "1  2020-05-12T06:00:30+00:00      yes  2020-05-12T06:02:04+00:00    yes  Other  \n",
       "2  2020-05-12T05:37:33+00:00      yes  2020-05-12T05:38:51+00:00    yes  Other  \n",
       "3  2020-05-12T05:31:11+00:00      yes  2020-05-12T05:32:31+00:00    yes  Other  \n",
       "4  2020-05-12T05:31:07+00:00      yes  2020-05-12T05:32:31+00:00    yes  Other  "
      ]
     },
     "execution_count": 5,
     "metadata": {},
     "output_type": "execute_result"
    }
   ],
   "source": [
    "df_phishing = pd.read_csv('malicious_url/verified_online.csv')\n",
    "df_phishing.head()"
   ]
  },
  {
   "cell_type": "code",
   "execution_count": 7,
   "metadata": {},
   "outputs": [],
   "source": [
    "df_phishing = df_phishing[['url']]"
   ]
  },
  {
   "cell_type": "code",
   "execution_count": 8,
   "metadata": {},
   "outputs": [
    {
     "name": "stderr",
     "output_type": "stream",
     "text": [
      "C:\\Users\\sid321axn\\Anaconda3\\lib\\site-packages\\ipykernel_launcher.py:1: SettingWithCopyWarning: \n",
      "A value is trying to be set on a copy of a slice from a DataFrame.\n",
      "Try using .loc[row_indexer,col_indexer] = value instead\n",
      "\n",
      "See the caveats in the documentation: http://pandas.pydata.org/pandas-docs/stable/indexing.html#indexing-view-versus-copy\n",
      "  \"\"\"Entry point for launching an IPython kernel.\n"
     ]
    },
    {
     "data": {
      "text/html": [
       "<div>\n",
       "<style scoped>\n",
       "    .dataframe tbody tr th:only-of-type {\n",
       "        vertical-align: middle;\n",
       "    }\n",
       "\n",
       "    .dataframe tbody tr th {\n",
       "        vertical-align: top;\n",
       "    }\n",
       "\n",
       "    .dataframe thead th {\n",
       "        text-align: right;\n",
       "    }\n",
       "</style>\n",
       "<table border=\"1\" class=\"dataframe\">\n",
       "  <thead>\n",
       "    <tr style=\"text-align: right;\">\n",
       "      <th></th>\n",
       "      <th>url</th>\n",
       "      <th>type</th>\n",
       "    </tr>\n",
       "  </thead>\n",
       "  <tbody>\n",
       "    <tr>\n",
       "      <th>0</th>\n",
       "      <td>http://eclecticstate.com/chase/97ec3268108b63d...</td>\n",
       "      <td>phishing</td>\n",
       "    </tr>\n",
       "    <tr>\n",
       "      <th>1</th>\n",
       "      <td>http://caravelstudio.gr/www.linkedIn.com</td>\n",
       "      <td>phishing</td>\n",
       "    </tr>\n",
       "    <tr>\n",
       "      <th>2</th>\n",
       "      <td>https://z-e.top/de/phone.php</td>\n",
       "      <td>phishing</td>\n",
       "    </tr>\n",
       "    <tr>\n",
       "      <th>3</th>\n",
       "      <td>https://post-r.top/de/</td>\n",
       "      <td>phishing</td>\n",
       "    </tr>\n",
       "    <tr>\n",
       "      <th>4</th>\n",
       "      <td>https://post-r.top/de/phone.php</td>\n",
       "      <td>phishing</td>\n",
       "    </tr>\n",
       "  </tbody>\n",
       "</table>\n",
       "</div>"
      ],
      "text/plain": [
       "                                                 url      type\n",
       "0  http://eclecticstate.com/chase/97ec3268108b63d...  phishing\n",
       "1           http://caravelstudio.gr/www.linkedIn.com  phishing\n",
       "2                       https://z-e.top/de/phone.php  phishing\n",
       "3                             https://post-r.top/de/  phishing\n",
       "4                    https://post-r.top/de/phone.php  phishing"
      ]
     },
     "execution_count": 8,
     "metadata": {},
     "output_type": "execute_result"
    }
   ],
   "source": [
    "df_phishing['type']='phishing'\n",
    "df_phishing.head()"
   ]
  },
  {
   "cell_type": "code",
   "execution_count": 9,
   "metadata": {},
   "outputs": [
    {
     "data": {
      "text/plain": [
       "(14889, 2)"
      ]
     },
     "execution_count": 9,
     "metadata": {},
     "output_type": "execute_result"
    }
   ],
   "source": [
    "df_phishing.shape"
   ]
  },
  {
   "cell_type": "code",
   "execution_count": 10,
   "metadata": {},
   "outputs": [
    {
     "data": {
      "text/plain": [
       "(535219, 2)"
      ]
     },
     "execution_count": 10,
     "metadata": {},
     "output_type": "execute_result"
    }
   ],
   "source": [
    "df5 = pd.concat([df,df_phishing],ignore_index=True)\n",
    "df5.shape"
   ]
  },
  {
   "cell_type": "code",
   "execution_count": 16,
   "metadata": {},
   "outputs": [
    {
     "name": "stderr",
     "output_type": "stream",
     "text": [
      "b'Skipping line 778: expected 10 fields, saw 12\\nSkipping line 779: expected 10 fields, saw 12\\nSkipping line 781: expected 10 fields, saw 12\\nSkipping line 1243: expected 10 fields, saw 11\\nSkipping line 1244: expected 10 fields, saw 11\\nSkipping line 1245: expected 10 fields, saw 11\\nSkipping line 1246: expected 10 fields, saw 11\\nSkipping line 1247: expected 10 fields, saw 11\\nSkipping line 1248: expected 10 fields, saw 11\\nSkipping line 1249: expected 10 fields, saw 11\\nSkipping line 1250: expected 10 fields, saw 11\\nSkipping line 1251: expected 10 fields, saw 11\\nSkipping line 1252: expected 10 fields, saw 11\\nSkipping line 1253: expected 10 fields, saw 11\\nSkipping line 1254: expected 10 fields, saw 11\\nSkipping line 1292: expected 10 fields, saw 11\\nSkipping line 1733: expected 10 fields, saw 11\\nSkipping line 1734: expected 10 fields, saw 11\\nSkipping line 1735: expected 10 fields, saw 11\\nSkipping line 1736: expected 10 fields, saw 11\\nSkipping line 1837: expected 10 fields, saw 11\\nSkipping line 1838: expected 10 fields, saw 11\\nSkipping line 1839: expected 10 fields, saw 11\\nSkipping line 1840: expected 10 fields, saw 11\\nSkipping line 1841: expected 10 fields, saw 11\\nSkipping line 1842: expected 10 fields, saw 11\\nSkipping line 1843: expected 10 fields, saw 11\\nSkipping line 1844: expected 10 fields, saw 11\\nSkipping line 1845: expected 10 fields, saw 11\\nSkipping line 1846: expected 10 fields, saw 11\\nSkipping line 1847: expected 10 fields, saw 11\\nSkipping line 1848: expected 10 fields, saw 11\\nSkipping line 1849: expected 10 fields, saw 11\\nSkipping line 1862: expected 10 fields, saw 11\\nSkipping line 1863: expected 10 fields, saw 11\\nSkipping line 1864: expected 10 fields, saw 11\\nSkipping line 1865: expected 10 fields, saw 11\\nSkipping line 1866: expected 10 fields, saw 11\\nSkipping line 1867: expected 10 fields, saw 11\\nSkipping line 1868: expected 10 fields, saw 11\\nSkipping line 1869: expected 10 fields, saw 11\\nSkipping line 1903: expected 10 fields, saw 11\\nSkipping line 1904: expected 10 fields, saw 11\\nSkipping line 1905: expected 10 fields, saw 11\\nSkipping line 1909: expected 10 fields, saw 11\\nSkipping line 2258: expected 10 fields, saw 11\\nSkipping line 2259: expected 10 fields, saw 11\\nSkipping line 2262: expected 10 fields, saw 11\\nSkipping line 2263: expected 10 fields, saw 11\\nSkipping line 2264: expected 10 fields, saw 11\\nSkipping line 2298: expected 10 fields, saw 11\\nSkipping line 2299: expected 10 fields, saw 11\\nSkipping line 2300: expected 10 fields, saw 11\\nSkipping line 2301: expected 10 fields, saw 11\\nSkipping line 2302: expected 10 fields, saw 11\\nSkipping line 2303: expected 10 fields, saw 11\\nSkipping line 2304: expected 10 fields, saw 11\\nSkipping line 2305: expected 10 fields, saw 11\\nSkipping line 2306: expected 10 fields, saw 11\\nSkipping line 2307: expected 10 fields, saw 11\\nSkipping line 2308: expected 10 fields, saw 11\\nSkipping line 2309: expected 10 fields, saw 11\\nSkipping line 2310: expected 10 fields, saw 11\\nSkipping line 2311: expected 10 fields, saw 11\\nSkipping line 2312: expected 10 fields, saw 11\\nSkipping line 2313: expected 10 fields, saw 11\\nSkipping line 2314: expected 10 fields, saw 11\\nSkipping line 2315: expected 10 fields, saw 11\\nSkipping line 2316: expected 10 fields, saw 11\\nSkipping line 2317: expected 10 fields, saw 11\\nSkipping line 2318: expected 10 fields, saw 11\\nSkipping line 2319: expected 10 fields, saw 11\\nSkipping line 2320: expected 10 fields, saw 11\\nSkipping line 2321: expected 10 fields, saw 11\\nSkipping line 2322: expected 10 fields, saw 11\\nSkipping line 2323: expected 10 fields, saw 11\\nSkipping line 2324: expected 10 fields, saw 11\\nSkipping line 2325: expected 10 fields, saw 11\\nSkipping line 2326: expected 10 fields, saw 11\\nSkipping line 2327: expected 10 fields, saw 11\\nSkipping line 2328: expected 10 fields, saw 11\\nSkipping line 2329: expected 10 fields, saw 11\\nSkipping line 2330: expected 10 fields, saw 11\\nSkipping line 2331: expected 10 fields, saw 11\\nSkipping line 2332: expected 10 fields, saw 11\\nSkipping line 2333: expected 10 fields, saw 11\\nSkipping line 2334: expected 10 fields, saw 11\\nSkipping line 2335: expected 10 fields, saw 11\\nSkipping line 2336: expected 10 fields, saw 11\\nSkipping line 2337: expected 10 fields, saw 11\\nSkipping line 2338: expected 10 fields, saw 11\\nSkipping line 2339: expected 10 fields, saw 11\\nSkipping line 2340: expected 10 fields, saw 11\\nSkipping line 2341: expected 10 fields, saw 11\\nSkipping line 2342: expected 10 fields, saw 11\\nSkipping line 2343: expected 10 fields, saw 11\\nSkipping line 2344: expected 10 fields, saw 11\\nSkipping line 2345: expected 10 fields, saw 11\\nSkipping line 2346: expected 10 fields, saw 11\\nSkipping line 2347: expected 10 fields, saw 11\\nSkipping line 2348: expected 10 fields, saw 11\\nSkipping line 2349: expected 10 fields, saw 11\\nSkipping line 2350: expected 10 fields, saw 11\\nSkipping line 2351: expected 10 fields, saw 11\\nSkipping line 2352: expected 10 fields, saw 11\\nSkipping line 2353: expected 10 fields, saw 11\\nSkipping line 2354: expected 10 fields, saw 11\\nSkipping line 2355: expected 10 fields, saw 11\\nSkipping line 2356: expected 10 fields, saw 11\\nSkipping line 2357: expected 10 fields, saw 11\\nSkipping line 2358: expected 10 fields, saw 11\\nSkipping line 2359: expected 10 fields, saw 11\\nSkipping line 2360: expected 10 fields, saw 11\\nSkipping line 2361: expected 10 fields, saw 11\\nSkipping line 2362: expected 10 fields, saw 11\\nSkipping line 2363: expected 10 fields, saw 11\\nSkipping line 2364: expected 10 fields, saw 11\\nSkipping line 2365: expected 10 fields, saw 11\\nSkipping line 2366: expected 10 fields, saw 11\\nSkipping line 2367: expected 10 fields, saw 11\\nSkipping line 2368: expected 10 fields, saw 11\\nSkipping line 2369: expected 10 fields, saw 11\\nSkipping line 2370: expected 10 fields, saw 11\\nSkipping line 2371: expected 10 fields, saw 11\\nSkipping line 2372: expected 10 fields, saw 11\\nSkipping line 2373: expected 10 fields, saw 11\\nSkipping line 2374: expected 10 fields, saw 11\\nSkipping line 2375: expected 10 fields, saw 11\\nSkipping line 2376: expected 10 fields, saw 11\\nSkipping line 2377: expected 10 fields, saw 11\\nSkipping line 2378: expected 10 fields, saw 11\\nSkipping line 2379: expected 10 fields, saw 11\\nSkipping line 2410: expected 10 fields, saw 12\\nSkipping line 2411: expected 10 fields, saw 12\\nSkipping line 2412: expected 10 fields, saw 12\\nSkipping line 2413: expected 10 fields, saw 12\\nSkipping line 2414: expected 10 fields, saw 12\\nSkipping line 2415: expected 10 fields, saw 12\\nSkipping line 2416: expected 10 fields, saw 12\\nSkipping line 2464: expected 10 fields, saw 11\\nSkipping line 2465: expected 10 fields, saw 11\\nSkipping line 2466: expected 10 fields, saw 11\\nSkipping line 2467: expected 10 fields, saw 11\\nSkipping line 2468: expected 10 fields, saw 11\\nSkipping line 2469: expected 10 fields, saw 11\\nSkipping line 2470: expected 10 fields, saw 11\\nSkipping line 2536: expected 10 fields, saw 11\\nSkipping line 2537: expected 10 fields, saw 11\\nSkipping line 2538: expected 10 fields, saw 11\\nSkipping line 2539: expected 10 fields, saw 11\\nSkipping line 2550: expected 10 fields, saw 12\\nSkipping line 2551: expected 10 fields, saw 12\\nSkipping line 2552: expected 10 fields, saw 12\\nSkipping line 2553: expected 10 fields, saw 12\\nSkipping line 2554: expected 10 fields, saw 12\\nSkipping line 2555: expected 10 fields, saw 12\\nSkipping line 2556: expected 10 fields, saw 12\\nSkipping line 2557: expected 10 fields, saw 12\\nSkipping line 2558: expected 10 fields, saw 11\\nSkipping line 2559: expected 10 fields, saw 11\\nSkipping line 2560: expected 10 fields, saw 11\\nSkipping line 2562: expected 10 fields, saw 11\\nSkipping line 2738: expected 10 fields, saw 12\\nSkipping line 2739: expected 10 fields, saw 12\\nSkipping line 2742: expected 10 fields, saw 12\\nSkipping line 2744: expected 10 fields, saw 12\\nSkipping line 2746: expected 10 fields, saw 12\\nSkipping line 2757: expected 10 fields, saw 12\\nSkipping line 2758: expected 10 fields, saw 12\\nSkipping line 2759: expected 10 fields, saw 12\\nSkipping line 2761: expected 10 fields, saw 12\\nSkipping line 2762: expected 10 fields, saw 12\\nSkipping line 2763: expected 10 fields, saw 12\\nSkipping line 2764: expected 10 fields, saw 12\\nSkipping line 2765: expected 10 fields, saw 12\\nSkipping line 2766: expected 10 fields, saw 12\\nSkipping line 2767: expected 10 fields, saw 12\\nSkipping line 2768: expected 10 fields, saw 12\\nSkipping line 2771: expected 10 fields, saw 12\\nSkipping line 2866: expected 10 fields, saw 11\\nSkipping line 2867: expected 10 fields, saw 11\\nSkipping line 2868: expected 10 fields, saw 11\\nSkipping line 2869: expected 10 fields, saw 11\\nSkipping line 2870: expected 10 fields, saw 11\\nSkipping line 2871: expected 10 fields, saw 11\\nSkipping line 2872: expected 10 fields, saw 11\\nSkipping line 2873: expected 10 fields, saw 11\\nSkipping line 2874: expected 10 fields, saw 11\\nSkipping line 2875: expected 10 fields, saw 11\\nSkipping line 2876: expected 10 fields, saw 11\\nSkipping line 2877: expected 10 fields, saw 11\\nSkipping line 2878: expected 10 fields, saw 11\\nSkipping line 2879: expected 10 fields, saw 11\\nSkipping line 2880: expected 10 fields, saw 11\\nSkipping line 2881: expected 10 fields, saw 11\\nSkipping line 2882: expected 10 fields, saw 11\\nSkipping line 2883: expected 10 fields, saw 11\\nSkipping line 2884: expected 10 fields, saw 11\\nSkipping line 2885: expected 10 fields, saw 11\\nSkipping line 2886: expected 10 fields, saw 11\\nSkipping line 2887: expected 10 fields, saw 11\\nSkipping line 2888: expected 10 fields, saw 11\\nSkipping line 2889: expected 10 fields, saw 11\\nSkipping line 2890: expected 10 fields, saw 11\\nSkipping line 2891: expected 10 fields, saw 11\\nSkipping line 2892: expected 10 fields, saw 11\\nSkipping line 2893: expected 10 fields, saw 11\\nSkipping line 2894: expected 10 fields, saw 11\\nSkipping line 2895: expected 10 fields, saw 11\\nSkipping line 2896: expected 10 fields, saw 11\\nSkipping line 2897: expected 10 fields, saw 11\\nSkipping line 2898: expected 10 fields, saw 11\\nSkipping line 2902: expected 10 fields, saw 11\\nSkipping line 2903: expected 10 fields, saw 11\\nSkipping line 2904: expected 10 fields, saw 11\\nSkipping line 2905: expected 10 fields, saw 11\\nSkipping line 2906: expected 10 fields, saw 11\\nSkipping line 2907: expected 10 fields, saw 11\\nSkipping line 2908: expected 10 fields, saw 11\\nSkipping line 2909: expected 10 fields, saw 11\\nSkipping line 2910: expected 10 fields, saw 11\\nSkipping line 2911: expected 10 fields, saw 11\\nSkipping line 2912: expected 10 fields, saw 11\\nSkipping line 2913: expected 10 fields, saw 11\\nSkipping line 2914: expected 10 fields, saw 11\\nSkipping line 2915: expected 10 fields, saw 11\\nSkipping line 2916: expected 10 fields, saw 11\\nSkipping line 2917: expected 10 fields, saw 11\\nSkipping line 2918: expected 10 fields, saw 11\\nSkipping line 2919: expected 10 fields, saw 11\\nSkipping line 2920: expected 10 fields, saw 11\\nSkipping line 2921: expected 10 fields, saw 11\\nSkipping line 2922: expected 10 fields, saw 11\\nSkipping line 2923: expected 10 fields, saw 11\\nSkipping line 2924: expected 10 fields, saw 11\\nSkipping line 2925: expected 10 fields, saw 11\\nSkipping line 2926: expected 10 fields, saw 11\\nSkipping line 2927: expected 10 fields, saw 11\\nSkipping line 2928: expected 10 fields, saw 11\\nSkipping line 2929: expected 10 fields, saw 11\\nSkipping line 2930: expected 10 fields, saw 11\\nSkipping line 2931: expected 10 fields, saw 11\\nSkipping line 2932: expected 10 fields, saw 11\\nSkipping line 2933: expected 10 fields, saw 11\\nSkipping line 2934: expected 10 fields, saw 11\\nSkipping line 2935: expected 10 fields, saw 11\\nSkipping line 2936: expected 10 fields, saw 11\\nSkipping line 2937: expected 10 fields, saw 11\\nSkipping line 2938: expected 10 fields, saw 11\\nSkipping line 2939: expected 10 fields, saw 11\\nSkipping line 2940: expected 10 fields, saw 11\\nSkipping line 2941: expected 10 fields, saw 11\\nSkipping line 2942: expected 10 fields, saw 11\\nSkipping line 3050: expected 10 fields, saw 11\\nSkipping line 3053: expected 10 fields, saw 11\\nSkipping line 3055: expected 10 fields, saw 11\\nSkipping line 3058: expected 10 fields, saw 11\\nSkipping line 3060: expected 10 fields, saw 11\\nSkipping line 3175: expected 10 fields, saw 12\\nSkipping line 3177: expected 10 fields, saw 12\\nSkipping line 3178: expected 10 fields, saw 12\\nSkipping line 3181: expected 10 fields, saw 12\\nSkipping line 3182: expected 10 fields, saw 12\\nSkipping line 3185: expected 10 fields, saw 12\\nSkipping line 3186: expected 10 fields, saw 12\\nSkipping line 3189: expected 10 fields, saw 12\\nSkipping line 3190: expected 10 fields, saw 12\\nSkipping line 3191: expected 10 fields, saw 12\\nSkipping line 3194: expected 10 fields, saw 12\\nSkipping line 3195: expected 10 fields, saw 12\\nSkipping line 3196: expected 10 fields, saw 12\\nSkipping line 3197: expected 10 fields, saw 12\\nSkipping line 3198: expected 10 fields, saw 12\\nSkipping line 3199: expected 10 fields, saw 12\\nSkipping line 3200: expected 10 fields, saw 12\\nSkipping line 3202: expected 10 fields, saw 12\\nSkipping line 3203: expected 10 fields, saw 12\\nSkipping line 3204: expected 10 fields, saw 12\\nSkipping line 3205: expected 10 fields, saw 12\\nSkipping line 3208: expected 10 fields, saw 12\\nSkipping line 3209: expected 10 fields, saw 12\\nSkipping line 3328: expected 10 fields, saw 12\\nSkipping line 3854: expected 10 fields, saw 12\\nSkipping line 3885: expected 10 fields, saw 12\\nSkipping line 3889: expected 10 fields, saw 12\\nSkipping line 3894: expected 10 fields, saw 12\\nSkipping line 3926: expected 10 fields, saw 12\\nSkipping line 4026: expected 10 fields, saw 12\\nSkipping line 4129: expected 10 fields, saw 12\\nSkipping line 4130: expected 10 fields, saw 12\\nSkipping line 4131: expected 10 fields, saw 12\\nSkipping line 4132: expected 10 fields, saw 12\\nSkipping line 4133: expected 10 fields, saw 12\\nSkipping line 4134: expected 10 fields, saw 12\\nSkipping line 4135: expected 10 fields, saw 12\\nSkipping line 4141: expected 10 fields, saw 12\\nSkipping line 4142: expected 10 fields, saw 12\\nSkipping line 4143: expected 10 fields, saw 12\\nSkipping line 4146: expected 10 fields, saw 12\\nSkipping line 4148: expected 10 fields, saw 12\\nSkipping line 4185: expected 10 fields, saw 12\\nSkipping line 4186: expected 10 fields, saw 12\\nSkipping line 4202: expected 10 fields, saw 12\\nSkipping line 4203: expected 10 fields, saw 12\\nSkipping line 4204: expected 10 fields, saw 12\\nSkipping line 4205: expected 10 fields, saw 12\\nSkipping line 4206: expected 10 fields, saw 12\\nSkipping line 4207: expected 10 fields, saw 12\\nSkipping line 4208: expected 10 fields, saw 12\\nSkipping line 4209: expected 10 fields, saw 12\\nSkipping line 4210: expected 10 fields, saw 12\\nSkipping line 4211: expected 10 fields, saw 12\\nSkipping line 4212: expected 10 fields, saw 12\\nSkipping line 4213: expected 10 fields, saw 12\\nSkipping line 4214: expected 10 fields, saw 12\\nSkipping line 4215: expected 10 fields, saw 12\\nSkipping line 4216: expected 10 fields, saw 12\\nSkipping line 4217: expected 10 fields, saw 12\\nSkipping line 4218: expected 10 fields, saw 12\\nSkipping line 4219: expected 10 fields, saw 12\\nSkipping line 4221: expected 10 fields, saw 12\\nSkipping line 4222: expected 10 fields, saw 12\\nSkipping line 4223: expected 10 fields, saw 12\\nSkipping line 4225: expected 10 fields, saw 12\\nSkipping line 4228: expected 10 fields, saw 12\\nSkipping line 4229: expected 10 fields, saw 12\\nSkipping line 4230: expected 10 fields, saw 12\\nSkipping line 4231: expected 10 fields, saw 12\\nSkipping line 4232: expected 10 fields, saw 12\\nSkipping line 4233: expected 10 fields, saw 12\\nSkipping line 4297: expected 10 fields, saw 12\\nSkipping line 4298: expected 10 fields, saw 12\\nSkipping line 4299: expected 10 fields, saw 12\\nSkipping line 4300: expected 10 fields, saw 12\\nSkipping line 4315: expected 10 fields, saw 12\\nSkipping line 4316: expected 10 fields, saw 12\\nSkipping line 4317: expected 10 fields, saw 12\\nSkipping line 4318: expected 10 fields, saw 12\\nSkipping line 4319: expected 10 fields, saw 12\\nSkipping line 4320: expected 10 fields, saw 12\\nSkipping line 4321: expected 10 fields, saw 12\\nSkipping line 4323: expected 10 fields, saw 12\\nSkipping line 4324: expected 10 fields, saw 12\\nSkipping line 4343: expected 10 fields, saw 12\\nSkipping line 4344: expected 10 fields, saw 12\\nSkipping line 4345: expected 10 fields, saw 12\\nSkipping line 4346: expected 10 fields, saw 12\\nSkipping line 4347: expected 10 fields, saw 12\\nSkipping line 4348: expected 10 fields, saw 12\\nSkipping line 4349: expected 10 fields, saw 12\\nSkipping line 4350: expected 10 fields, saw 12\\nSkipping line 4374: expected 10 fields, saw 12\\nSkipping line 4375: expected 10 fields, saw 12\\nSkipping line 4376: expected 10 fields, saw 12\\nSkipping line 4377: expected 10 fields, saw 12\\nSkipping line 4391: expected 10 fields, saw 11\\nSkipping line 4392: expected 10 fields, saw 11\\nSkipping line 4393: expected 10 fields, saw 11\\nSkipping line 4394: expected 10 fields, saw 11\\nSkipping line 4923: expected 10 fields, saw 11\\nSkipping line 4932: expected 10 fields, saw 12\\nSkipping line 4933: expected 10 fields, saw 12\\nSkipping line 4934: expected 10 fields, saw 12\\nSkipping line 4935: expected 10 fields, saw 12\\nSkipping line 5077: expected 10 fields, saw 12\\nSkipping line 5198: expected 10 fields, saw 12\\nSkipping line 5199: expected 10 fields, saw 12\\nSkipping line 5200: expected 10 fields, saw 12\\nSkipping line 5201: expected 10 fields, saw 12\\nSkipping line 5202: expected 10 fields, saw 12\\nSkipping line 5203: expected 10 fields, saw 12\\nSkipping line 5204: expected 10 fields, saw 12\\nSkipping line 5205: expected 10 fields, saw 12\\nSkipping line 5206: expected 10 fields, saw 12\\nSkipping line 5207: expected 10 fields, saw 12\\nSkipping line 5208: expected 10 fields, saw 12\\nSkipping line 5209: expected 10 fields, saw 12\\nSkipping line 5210: expected 10 fields, saw 12\\nSkipping line 5211: expected 10 fields, saw 12\\nSkipping line 5212: expected 10 fields, saw 12\\nSkipping line 5213: expected 10 fields, saw 12\\nSkipping line 5214: expected 10 fields, saw 12\\nSkipping line 5215: expected 10 fields, saw 12\\nSkipping line 5216: expected 10 fields, saw 12\\nSkipping line 5217: expected 10 fields, saw 12\\nSkipping line 5218: expected 10 fields, saw 12\\nSkipping line 5219: expected 10 fields, saw 12\\nSkipping line 5220: expected 10 fields, saw 12\\nSkipping line 5221: expected 10 fields, saw 12\\nSkipping line 5222: expected 10 fields, saw 12\\nSkipping line 5223: expected 10 fields, saw 12\\nSkipping line 5224: expected 10 fields, saw 12\\nSkipping line 5225: expected 10 fields, saw 12\\nSkipping line 5226: expected 10 fields, saw 12\\nSkipping line 5227: expected 10 fields, saw 12\\nSkipping line 5228: expected 10 fields, saw 12\\nSkipping line 5229: expected 10 fields, saw 12\\nSkipping line 5230: expected 10 fields, saw 12\\nSkipping line 5231: expected 10 fields, saw 12\\nSkipping line 5232: expected 10 fields, saw 12\\nSkipping line 5233: expected 10 fields, saw 12\\nSkipping line 5234: expected 10 fields, saw 12\\nSkipping line 5235: expected 10 fields, saw 12\\nSkipping line 5236: expected 10 fields, saw 12\\nSkipping line 5237: expected 10 fields, saw 12\\nSkipping line 5238: expected 10 fields, saw 12\\nSkipping line 5239: expected 10 fields, saw 12\\nSkipping line 5240: expected 10 fields, saw 12\\nSkipping line 5241: expected 10 fields, saw 12\\nSkipping line 5242: expected 10 fields, saw 12\\nSkipping line 5243: expected 10 fields, saw 12\\nSkipping line 5244: expected 10 fields, saw 12\\nSkipping line 5245: expected 10 fields, saw 12\\nSkipping line 5246: expected 10 fields, saw 12\\nSkipping line 5247: expected 10 fields, saw 12\\nSkipping line 5248: expected 10 fields, saw 12\\nSkipping line 5249: expected 10 fields, saw 12\\nSkipping line 5250: expected 10 fields, saw 12\\nSkipping line 5251: expected 10 fields, saw 12\\nSkipping line 5252: expected 10 fields, saw 12\\nSkipping line 5254: expected 10 fields, saw 12\\nSkipping line 5255: expected 10 fields, saw 12\\nSkipping line 5256: expected 10 fields, saw 12\\nSkipping line 5257: expected 10 fields, saw 12\\nSkipping line 5258: expected 10 fields, saw 12\\nSkipping line 5259: expected 10 fields, saw 12\\nSkipping line 5260: expected 10 fields, saw 12\\nSkipping line 5261: expected 10 fields, saw 12\\nSkipping line 5262: expected 10 fields, saw 12\\nSkipping line 5263: expected 10 fields, saw 12\\nSkipping line 5264: expected 10 fields, saw 12\\nSkipping line 5265: expected 10 fields, saw 12\\nSkipping line 5266: expected 10 fields, saw 12\\nSkipping line 5267: expected 10 fields, saw 12\\nSkipping line 5268: expected 10 fields, saw 12\\nSkipping line 5269: expected 10 fields, saw 12\\nSkipping line 5270: expected 10 fields, saw 12\\nSkipping line 5271: expected 10 fields, saw 12\\nSkipping line 5272: expected 10 fields, saw 12\\nSkipping line 5273: expected 10 fields, saw 12\\nSkipping line 5274: expected 10 fields, saw 12\\nSkipping line 5275: expected 10 fields, saw 12\\nSkipping line 5276: expected 10 fields, saw 12\\nSkipping line 5277: expected 10 fields, saw 12\\nSkipping line 5278: expected 10 fields, saw 12\\nSkipping line 5279: expected 10 fields, saw 12\\nSkipping line 5280: expected 10 fields, saw 12\\nSkipping line 5281: expected 10 fields, saw 12\\nSkipping line 5282: expected 10 fields, saw 12\\nSkipping line 5283: expected 10 fields, saw 12\\nSkipping line 5284: expected 10 fields, saw 12\\nSkipping line 5285: expected 10 fields, saw 12\\nSkipping line 5286: expected 10 fields, saw 12\\nSkipping line 5287: expected 10 fields, saw 12\\nSkipping line 5288: expected 10 fields, saw 12\\nSkipping line 5289: expected 10 fields, saw 12\\nSkipping line 5290: expected 10 fields, saw 12\\nSkipping line 5291: expected 10 fields, saw 12\\nSkipping line 5292: expected 10 fields, saw 12\\nSkipping line 5293: expected 10 fields, saw 12\\nSkipping line 5294: expected 10 fields, saw 12\\nSkipping line 5295: expected 10 fields, saw 12\\nSkipping line 5296: expected 10 fields, saw 12\\nSkipping line 5297: expected 10 fields, saw 12\\nSkipping line 5298: expected 10 fields, saw 12\\nSkipping line 5299: expected 10 fields, saw 12\\nSkipping line 5300: expected 10 fields, saw 12\\nSkipping line 5301: expected 10 fields, saw 12\\nSkipping line 5302: expected 10 fields, saw 12\\nSkipping line 5303: expected 10 fields, saw 12\\nSkipping line 5304: expected 10 fields, saw 12\\nSkipping line 5305: expected 10 fields, saw 12\\nSkipping line 5306: expected 10 fields, saw 12\\nSkipping line 5307: expected 10 fields, saw 12\\nSkipping line 5308: expected 10 fields, saw 12\\nSkipping line 5309: expected 10 fields, saw 12\\nSkipping line 5310: expected 10 fields, saw 12\\nSkipping line 5311: expected 10 fields, saw 12\\nSkipping line 5312: expected 10 fields, saw 12\\nSkipping line 5313: expected 10 fields, saw 12\\nSkipping line 5315: expected 10 fields, saw 12\\nSkipping line 5316: expected 10 fields, saw 12\\nSkipping line 5317: expected 10 fields, saw 12\\nSkipping line 5318: expected 10 fields, saw 12\\nSkipping line 5319: expected 10 fields, saw 12\\nSkipping line 5320: expected 10 fields, saw 12\\nSkipping line 5321: expected 10 fields, saw 12\\nSkipping line 5322: expected 10 fields, saw 12\\nSkipping line 5323: expected 10 fields, saw 12\\nSkipping line 5325: expected 10 fields, saw 12\\nSkipping line 5326: expected 10 fields, saw 12\\nSkipping line 5327: expected 10 fields, saw 12\\nSkipping line 5328: expected 10 fields, saw 12\\nSkipping line 5329: expected 10 fields, saw 12\\nSkipping line 5330: expected 10 fields, saw 12\\nSkipping line 5331: expected 10 fields, saw 12\\nSkipping line 5332: expected 10 fields, saw 12\\nSkipping line 5333: expected 10 fields, saw 12\\nSkipping line 5334: expected 10 fields, saw 12\\nSkipping line 5335: expected 10 fields, saw 12\\nSkipping line 5336: expected 10 fields, saw 12\\nSkipping line 5337: expected 10 fields, saw 12\\nSkipping line 5338: expected 10 fields, saw 12\\nSkipping line 5339: expected 10 fields, saw 12\\nSkipping line 5340: expected 10 fields, saw 12\\nSkipping line 5341: expected 10 fields, saw 12\\nSkipping line 5342: expected 10 fields, saw 12\\nSkipping line 5343: expected 10 fields, saw 12\\nSkipping line 5344: expected 10 fields, saw 12\\nSkipping line 5345: expected 10 fields, saw 12\\nSkipping line 5346: expected 10 fields, saw 12\\nSkipping line 5347: expected 10 fields, saw 12\\nSkipping line 5348: expected 10 fields, saw 12\\nSkipping line 5349: expected 10 fields, saw 12\\nSkipping line 5350: expected 10 fields, saw 12\\nSkipping line 5351: expected 10 fields, saw 12\\nSkipping line 5352: expected 10 fields, saw 12\\nSkipping line 5354: expected 10 fields, saw 12\\nSkipping line 5355: expected 10 fields, saw 12\\nSkipping line 5356: expected 10 fields, saw 12\\nSkipping line 5357: expected 10 fields, saw 12\\nSkipping line 5358: expected 10 fields, saw 12\\nSkipping line 5359: expected 10 fields, saw 12\\nSkipping line 5360: expected 10 fields, saw 12\\nSkipping line 5361: expected 10 fields, saw 12\\nSkipping line 5365: expected 10 fields, saw 12\\nSkipping line 5366: expected 10 fields, saw 12\\nSkipping line 5367: expected 10 fields, saw 12\\nSkipping line 5368: expected 10 fields, saw 12\\nSkipping line 5369: expected 10 fields, saw 12\\nSkipping line 5370: expected 10 fields, saw 12\\nSkipping line 5371: expected 10 fields, saw 12\\nSkipping line 5372: expected 10 fields, saw 12\\nSkipping line 5374: expected 10 fields, saw 12\\nSkipping line 5375: expected 10 fields, saw 12\\nSkipping line 5378: expected 10 fields, saw 12\\nSkipping line 5584: expected 10 fields, saw 11\\nSkipping line 5585: expected 10 fields, saw 11\\nSkipping line 5586: expected 10 fields, saw 11\\nSkipping line 5587: expected 10 fields, saw 11\\nSkipping line 5588: expected 10 fields, saw 11\\nSkipping line 5589: expected 10 fields, saw 11\\nSkipping line 5590: expected 10 fields, saw 11\\nSkipping line 5591: expected 10 fields, saw 11\\nSkipping line 5592: expected 10 fields, saw 11\\nSkipping line 5593: expected 10 fields, saw 11\\nSkipping line 5594: expected 10 fields, saw 11\\nSkipping line 5595: expected 10 fields, saw 11\\nSkipping line 5596: expected 10 fields, saw 11\\nSkipping line 5597: expected 10 fields, saw 11\\nSkipping line 5598: expected 10 fields, saw 11\\nSkipping line 5599: expected 10 fields, saw 11\\nSkipping line 5600: expected 10 fields, saw 11\\nSkipping line 5601: expected 10 fields, saw 11\\nSkipping line 5602: expected 10 fields, saw 11\\nSkipping line 5603: expected 10 fields, saw 11\\nSkipping line 5604: expected 10 fields, saw 11\\nSkipping line 5605: expected 10 fields, saw 11\\nSkipping line 5606: expected 10 fields, saw 11\\nSkipping line 5607: expected 10 fields, saw 11\\nSkipping line 5608: expected 10 fields, saw 11\\nSkipping line 5609: expected 10 fields, saw 11\\nSkipping line 5610: expected 10 fields, saw 11\\nSkipping line 5611: expected 10 fields, saw 11\\nSkipping line 5612: expected 10 fields, saw 11\\nSkipping line 5613: expected 10 fields, saw 11\\nSkipping line 5614: expected 10 fields, saw 11\\nSkipping line 5615: expected 10 fields, saw 11\\nSkipping line 5616: expected 10 fields, saw 11\\nSkipping line 5617: expected 10 fields, saw 11\\nSkipping line 5618: expected 10 fields, saw 11\\nSkipping line 5619: expected 10 fields, saw 11\\nSkipping line 5620: expected 10 fields, saw 11\\nSkipping line 5621: expected 10 fields, saw 11\\nSkipping line 5622: expected 10 fields, saw 11\\nSkipping line 5623: expected 10 fields, saw 11\\nSkipping line 5756: expected 10 fields, saw 12\\nSkipping line 5757: expected 10 fields, saw 12\\nSkipping line 5758: expected 10 fields, saw 12\\nSkipping line 5759: expected 10 fields, saw 12\\nSkipping line 5774: expected 10 fields, saw 12\\nSkipping line 5776: expected 10 fields, saw 12\\nSkipping line 5777: expected 10 fields, saw 12\\nSkipping line 5778: expected 10 fields, saw 12\\nSkipping line 5779: expected 10 fields, saw 12\\nSkipping line 5780: expected 10 fields, saw 12\\nSkipping line 5781: expected 10 fields, saw 12\\nSkipping line 5782: expected 10 fields, saw 12\\nSkipping line 5783: expected 10 fields, saw 12\\nSkipping line 5784: expected 10 fields, saw 12\\nSkipping line 5785: expected 10 fields, saw 12\\nSkipping line 5786: expected 10 fields, saw 12\\nSkipping line 5787: expected 10 fields, saw 12\\nSkipping line 5788: expected 10 fields, saw 12\\nSkipping line 5789: expected 10 fields, saw 12\\nSkipping line 5790: expected 10 fields, saw 12\\nSkipping line 5791: expected 10 fields, saw 12\\nSkipping line 5792: expected 10 fields, saw 12\\nSkipping line 5793: expected 10 fields, saw 12\\nSkipping line 5794: expected 10 fields, saw 12\\nSkipping line 5795: expected 10 fields, saw 12\\nSkipping line 5796: expected 10 fields, saw 12\\nSkipping line 5797: expected 10 fields, saw 12\\nSkipping line 5798: expected 10 fields, saw 12\\nSkipping line 5799: expected 10 fields, saw 12\\nSkipping line 5800: expected 10 fields, saw 12\\nSkipping line 5801: expected 10 fields, saw 12\\nSkipping line 5802: expected 10 fields, saw 12\\nSkipping line 5803: expected 10 fields, saw 12\\nSkipping line 5804: expected 10 fields, saw 12\\nSkipping line 5805: expected 10 fields, saw 12\\nSkipping line 5806: expected 10 fields, saw 12\\nSkipping line 5807: expected 10 fields, saw 12\\nSkipping line 5808: expected 10 fields, saw 12\\nSkipping line 5809: expected 10 fields, saw 12\\nSkipping line 5810: expected 10 fields, saw 12\\nSkipping line 5811: expected 10 fields, saw 12\\nSkipping line 5812: expected 10 fields, saw 12\\nSkipping line 5813: expected 10 fields, saw 12\\nSkipping line 5814: expected 10 fields, saw 12\\nSkipping line 5815: expected 10 fields, saw 12\\nSkipping line 5817: expected 10 fields, saw 12\\nSkipping line 5818: expected 10 fields, saw 12\\nSkipping line 5819: expected 10 fields, saw 12\\nSkipping line 5820: expected 10 fields, saw 12\\nSkipping line 5836: expected 10 fields, saw 12\\nSkipping line 5837: expected 10 fields, saw 12\\nSkipping line 5838: expected 10 fields, saw 12\\nSkipping line 5840: expected 10 fields, saw 12\\nSkipping line 5841: expected 10 fields, saw 12\\nSkipping line 5842: expected 10 fields, saw 12\\nSkipping line 5843: expected 10 fields, saw 12\\nSkipping line 5844: expected 10 fields, saw 12\\nSkipping line 5845: expected 10 fields, saw 12\\nSkipping line 5846: expected 10 fields, saw 12\\nSkipping line 5847: expected 10 fields, saw 12\\nSkipping line 5849: expected 10 fields, saw 12\\nSkipping line 5850: expected 10 fields, saw 12\\nSkipping line 5851: expected 10 fields, saw 12\\nSkipping line 5852: expected 10 fields, saw 12\\nSkipping line 5854: expected 10 fields, saw 12\\nSkipping line 5856: expected 10 fields, saw 12\\nSkipping line 5858: expected 10 fields, saw 12\\nSkipping line 5859: expected 10 fields, saw 12\\nSkipping line 5860: expected 10 fields, saw 12\\nSkipping line 5861: expected 10 fields, saw 12\\nSkipping line 5862: expected 10 fields, saw 12\\nSkipping line 5863: expected 10 fields, saw 12\\nSkipping line 5864: expected 10 fields, saw 12\\nSkipping line 5865: expected 10 fields, saw 12\\nSkipping line 5875: expected 10 fields, saw 12\\nSkipping line 5876: expected 10 fields, saw 12\\nSkipping line 5877: expected 10 fields, saw 12\\nSkipping line 5878: expected 10 fields, saw 12\\nSkipping line 5879: expected 10 fields, saw 12\\nSkipping line 5880: expected 10 fields, saw 12\\nSkipping line 5885: expected 10 fields, saw 12\\nSkipping line 5886: expected 10 fields, saw 12\\nSkipping line 5923: expected 10 fields, saw 12\\nSkipping line 5939: expected 10 fields, saw 11\\nSkipping line 5940: expected 10 fields, saw 12\\nSkipping line 5943: expected 10 fields, saw 11\\nSkipping line 5947: expected 10 fields, saw 11\\nSkipping line 5952: expected 10 fields, saw 11\\nSkipping line 5973: expected 10 fields, saw 12\\nSkipping line 5980: expected 10 fields, saw 12\\nSkipping line 5982: expected 10 fields, saw 12\\nSkipping line 5983: expected 10 fields, saw 12\\nSkipping line 6191: expected 10 fields, saw 11\\nSkipping line 6192: expected 10 fields, saw 11\\nSkipping line 6193: expected 10 fields, saw 11\\nSkipping line 6194: expected 10 fields, saw 11\\nSkipping line 6195: expected 10 fields, saw 11\\nSkipping line 6196: expected 10 fields, saw 11\\nSkipping line 6197: expected 10 fields, saw 11\\nSkipping line 6198: expected 10 fields, saw 11\\nSkipping line 6199: expected 10 fields, saw 11\\nSkipping line 6200: expected 10 fields, saw 11\\nSkipping line 6201: expected 10 fields, saw 11\\nSkipping line 6202: expected 10 fields, saw 11\\nSkipping line 6203: expected 10 fields, saw 11\\nSkipping line 6204: expected 10 fields, saw 11\\nSkipping line 6205: expected 10 fields, saw 11\\nSkipping line 6206: expected 10 fields, saw 11\\nSkipping line 6207: expected 10 fields, saw 11\\nSkipping line 6208: expected 10 fields, saw 11\\nSkipping line 6209: expected 10 fields, saw 11\\nSkipping line 6210: expected 10 fields, saw 11\\nSkipping line 6211: expected 10 fields, saw 11\\nSkipping line 6212: expected 10 fields, saw 11\\nSkipping line 6213: expected 10 fields, saw 11\\nSkipping line 6214: expected 10 fields, saw 11\\nSkipping line 6215: expected 10 fields, saw 11\\nSkipping line 6216: expected 10 fields, saw 11\\nSkipping line 6217: expected 10 fields, saw 11\\nSkipping line 6218: expected 10 fields, saw 11\\nSkipping line 6219: expected 10 fields, saw 11\\nSkipping line 6220: expected 10 fields, saw 11\\nSkipping line 6221: expected 10 fields, saw 11\\nSkipping line 6222: expected 10 fields, saw 11\\nSkipping line 6223: expected 10 fields, saw 11\\nSkipping line 6224: expected 10 fields, saw 11\\nSkipping line 6225: expected 10 fields, saw 11\\nSkipping line 6226: expected 10 fields, saw 11\\nSkipping line 6227: expected 10 fields, saw 11\\nSkipping line 6228: expected 10 fields, saw 11\\nSkipping line 6229: expected 10 fields, saw 11\\nSkipping line 6230: expected 10 fields, saw 11\\nSkipping line 6231: expected 10 fields, saw 11\\nSkipping line 6232: expected 10 fields, saw 11\\nSkipping line 6233: expected 10 fields, saw 11\\nSkipping line 6234: expected 10 fields, saw 11\\nSkipping line 6235: expected 10 fields, saw 11\\nSkipping line 6236: expected 10 fields, saw 11\\nSkipping line 6237: expected 10 fields, saw 11\\nSkipping line 6238: expected 10 fields, saw 11\\nSkipping line 6239: expected 10 fields, saw 11\\nSkipping line 6240: expected 10 fields, saw 11\\nSkipping line 6241: expected 10 fields, saw 11\\nSkipping line 6242: expected 10 fields, saw 11\\nSkipping line 6243: expected 10 fields, saw 11\\nSkipping line 6244: expected 10 fields, saw 11\\nSkipping line 6245: expected 10 fields, saw 11\\nSkipping line 6246: expected 10 fields, saw 11\\nSkipping line 6247: expected 10 fields, saw 11\\nSkipping line 6248: expected 10 fields, saw 11\\nSkipping line 6249: expected 10 fields, saw 11\\nSkipping line 6250: expected 10 fields, saw 11\\nSkipping line 6251: expected 10 fields, saw 11\\nSkipping line 6252: expected 10 fields, saw 11\\nSkipping line 6253: expected 10 fields, saw 11\\nSkipping line 6254: expected 10 fields, saw 11\\nSkipping line 6255: expected 10 fields, saw 11\\nSkipping line 6256: expected 10 fields, saw 11\\nSkipping line 6257: expected 10 fields, saw 11\\nSkipping line 6258: expected 10 fields, saw 11\\nSkipping line 6259: expected 10 fields, saw 11\\nSkipping line 6260: expected 10 fields, saw 11\\nSkipping line 6261: expected 10 fields, saw 11\\nSkipping line 6262: expected 10 fields, saw 11\\nSkipping line 6263: expected 10 fields, saw 11\\nSkipping line 6264: expected 10 fields, saw 11\\nSkipping line 6265: expected 10 fields, saw 11\\nSkipping line 6266: expected 10 fields, saw 11\\nSkipping line 6267: expected 10 fields, saw 11\\nSkipping line 6268: expected 10 fields, saw 11\\nSkipping line 6269: expected 10 fields, saw 11\\nSkipping line 6270: expected 10 fields, saw 11\\nSkipping line 6271: expected 10 fields, saw 11\\nSkipping line 6272: expected 10 fields, saw 11\\nSkipping line 6273: expected 10 fields, saw 11\\nSkipping line 6274: expected 10 fields, saw 11\\nSkipping line 6275: expected 10 fields, saw 11\\nSkipping line 6276: expected 10 fields, saw 11\\nSkipping line 6277: expected 10 fields, saw 11\\nSkipping line 6278: expected 10 fields, saw 11\\nSkipping line 6279: expected 10 fields, saw 11\\nSkipping line 6280: expected 10 fields, saw 11\\nSkipping line 6281: expected 10 fields, saw 11\\nSkipping line 6282: expected 10 fields, saw 11\\nSkipping line 6283: expected 10 fields, saw 11\\nSkipping line 6284: expected 10 fields, saw 11\\nSkipping line 6285: expected 10 fields, saw 11\\nSkipping line 6286: expected 10 fields, saw 11\\nSkipping line 6287: expected 10 fields, saw 11\\nSkipping line 6288: expected 10 fields, saw 11\\nSkipping line 6289: expected 10 fields, saw 11\\nSkipping line 6290: expected 10 fields, saw 11\\nSkipping line 6291: expected 10 fields, saw 11\\nSkipping line 6292: expected 10 fields, saw 11\\nSkipping line 6293: expected 10 fields, saw 11\\nSkipping line 6294: expected 10 fields, saw 11\\nSkipping line 6295: expected 10 fields, saw 11\\nSkipping line 6296: expected 10 fields, saw 11\\nSkipping line 6297: expected 10 fields, saw 11\\nSkipping line 6298: expected 10 fields, saw 11\\nSkipping line 6299: expected 10 fields, saw 11\\nSkipping line 6300: expected 10 fields, saw 11\\nSkipping line 6301: expected 10 fields, saw 11\\nSkipping line 6302: expected 10 fields, saw 11\\nSkipping line 6303: expected 10 fields, saw 11\\nSkipping line 6304: expected 10 fields, saw 11\\nSkipping line 6305: expected 10 fields, saw 11\\nSkipping line 6306: expected 10 fields, saw 11\\nSkipping line 6307: expected 10 fields, saw 11\\nSkipping line 6308: expected 10 fields, saw 11\\nSkipping line 6309: expected 10 fields, saw 11\\nSkipping line 6310: expected 10 fields, saw 11\\nSkipping line 6311: expected 10 fields, saw 11\\nSkipping line 6312: expected 10 fields, saw 11\\nSkipping line 6313: expected 10 fields, saw 11\\nSkipping line 6314: expected 10 fields, saw 11\\nSkipping line 6315: expected 10 fields, saw 11\\nSkipping line 6316: expected 10 fields, saw 11\\nSkipping line 6317: expected 10 fields, saw 11\\nSkipping line 6318: expected 10 fields, saw 11\\nSkipping line 6319: expected 10 fields, saw 11\\nSkipping line 6320: expected 10 fields, saw 11\\nSkipping line 6342: expected 10 fields, saw 11\\nSkipping line 6343: expected 10 fields, saw 11\\nSkipping line 6344: expected 10 fields, saw 11\\nSkipping line 6345: expected 10 fields, saw 11\\nSkipping line 6346: expected 10 fields, saw 11\\nSkipping line 6347: expected 10 fields, saw 11\\nSkipping line 6348: expected 10 fields, saw 11\\nSkipping line 6349: expected 10 fields, saw 11\\nSkipping line 6350: expected 10 fields, saw 11\\nSkipping line 6351: expected 10 fields, saw 11\\nSkipping line 6352: expected 10 fields, saw 11\\nSkipping line 6353: expected 10 fields, saw 11\\nSkipping line 6354: expected 10 fields, saw 11\\nSkipping line 6355: expected 10 fields, saw 11\\nSkipping line 6356: expected 10 fields, saw 11\\nSkipping line 6357: expected 10 fields, saw 11\\nSkipping line 6358: expected 10 fields, saw 11\\nSkipping line 6359: expected 10 fields, saw 11\\nSkipping line 6360: expected 10 fields, saw 11\\nSkipping line 6361: expected 10 fields, saw 11\\nSkipping line 6362: expected 10 fields, saw 11\\nSkipping line 6363: expected 10 fields, saw 11\\nSkipping line 6364: expected 10 fields, saw 11\\nSkipping line 6365: expected 10 fields, saw 11\\nSkipping line 6366: expected 10 fields, saw 11\\nSkipping line 6367: expected 10 fields, saw 11\\nSkipping line 6368: expected 10 fields, saw 11\\nSkipping line 6369: expected 10 fields, saw 11\\nSkipping line 6370: expected 10 fields, saw 11\\nSkipping line 6371: expected 10 fields, saw 11\\nSkipping line 6372: expected 10 fields, saw 11\\nSkipping line 6373: expected 10 fields, saw 11\\nSkipping line 6374: expected 10 fields, saw 11\\nSkipping line 6375: expected 10 fields, saw 11\\nSkipping line 6376: expected 10 fields, saw 11\\nSkipping line 6377: expected 10 fields, saw 11\\nSkipping line 6378: expected 10 fields, saw 11\\nSkipping line 6379: expected 10 fields, saw 11\\nSkipping line 6380: expected 10 fields, saw 11\\nSkipping line 6381: expected 10 fields, saw 11\\nSkipping line 6428: expected 10 fields, saw 12\\nSkipping line 6429: expected 10 fields, saw 12\\nSkipping line 6430: expected 10 fields, saw 12\\nSkipping line 6431: expected 10 fields, saw 12\\nSkipping line 6432: expected 10 fields, saw 12\\nSkipping line 6433: expected 10 fields, saw 12\\nSkipping line 6434: expected 10 fields, saw 12\\nSkipping line 6435: expected 10 fields, saw 12\\nSkipping line 6441: expected 10 fields, saw 12\\nSkipping line 6442: expected 10 fields, saw 12\\nSkipping line 6443: expected 10 fields, saw 12\\nSkipping line 6473: expected 10 fields, saw 11\\nSkipping line 6474: expected 10 fields, saw 11\\nSkipping line 6476: expected 10 fields, saw 12\\nSkipping line 6477: expected 10 fields, saw 12\\nSkipping line 6478: expected 10 fields, saw 12\\nSkipping line 6479: expected 10 fields, saw 12\\nSkipping line 6484: expected 10 fields, saw 12\\nSkipping line 6485: expected 10 fields, saw 12\\nSkipping line 6486: expected 10 fields, saw 12\\nSkipping line 6490: expected 10 fields, saw 12\\nSkipping line 6491: expected 10 fields, saw 11\\nSkipping line 6492: expected 10 fields, saw 11\\nSkipping line 6493: expected 10 fields, saw 11\\nSkipping line 6494: expected 10 fields, saw 11\\nSkipping line 6502: expected 10 fields, saw 12\\nSkipping line 6525: expected 10 fields, saw 12\\nSkipping line 6528: expected 10 fields, saw 12\\nSkipping line 6529: expected 10 fields, saw 12\\nSkipping line 6530: expected 10 fields, saw 12\\nSkipping line 6534: expected 10 fields, saw 12\\nSkipping line 6536: expected 10 fields, saw 12\\nSkipping line 6537: expected 10 fields, saw 12\\nSkipping line 6542: expected 10 fields, saw 12\\nSkipping line 6545: expected 10 fields, saw 12\\nSkipping line 6546: expected 10 fields, saw 12\\nSkipping line 6746: expected 10 fields, saw 12\\nSkipping line 6747: expected 10 fields, saw 12\\nSkipping line 6762: expected 10 fields, saw 12\\nSkipping line 6763: expected 10 fields, saw 12\\nSkipping line 6773: expected 10 fields, saw 12\\nSkipping line 6776: expected 10 fields, saw 12\\nSkipping line 6777: expected 10 fields, saw 12\\nSkipping line 6780: expected 10 fields, saw 12\\nSkipping line 6781: expected 10 fields, saw 12\\nSkipping line 6782: expected 10 fields, saw 12\\nSkipping line 6809: expected 10 fields, saw 12\\nSkipping line 6810: expected 10 fields, saw 12\\nSkipping line 6811: expected 10 fields, saw 12\\nSkipping line 6812: expected 10 fields, saw 12\\nSkipping line 6813: expected 10 fields, saw 12\\nSkipping line 6814: expected 10 fields, saw 12\\nSkipping line 6815: expected 10 fields, saw 12\\nSkipping line 6816: expected 10 fields, saw 12\\nSkipping line 6817: expected 10 fields, saw 12\\nSkipping line 6818: expected 10 fields, saw 12\\nSkipping line 6819: expected 10 fields, saw 12\\nSkipping line 6820: expected 10 fields, saw 12\\nSkipping line 6821: expected 10 fields, saw 12\\nSkipping line 6822: expected 10 fields, saw 12\\nSkipping line 6823: expected 10 fields, saw 12\\nSkipping line 6824: expected 10 fields, saw 12\\nSkipping line 6825: expected 10 fields, saw 12\\nSkipping line 6829: expected 10 fields, saw 12\\nSkipping line 6830: expected 10 fields, saw 12\\nSkipping line 6831: expected 10 fields, saw 12\\nSkipping line 6832: expected 10 fields, saw 12\\nSkipping line 6833: expected 10 fields, saw 12\\nSkipping line 6834: expected 10 fields, saw 12\\nSkipping line 6835: expected 10 fields, saw 12\\nSkipping line 6836: expected 10 fields, saw 12\\nSkipping line 6837: expected 10 fields, saw 12\\nSkipping line 6838: expected 10 fields, saw 12\\nSkipping line 6839: expected 10 fields, saw 12\\nSkipping line 6840: expected 10 fields, saw 12\\nSkipping line 6841: expected 10 fields, saw 12\\nSkipping line 6842: expected 10 fields, saw 12\\nSkipping line 6846: expected 10 fields, saw 11\\nSkipping line 6847: expected 10 fields, saw 12\\nSkipping line 6848: expected 10 fields, saw 12\\nSkipping line 6849: expected 10 fields, saw 12\\nSkipping line 6850: expected 10 fields, saw 12\\nSkipping line 6851: expected 10 fields, saw 12\\nSkipping line 6852: expected 10 fields, saw 12\\nSkipping line 6853: expected 10 fields, saw 12\\nSkipping line 6854: expected 10 fields, saw 12\\nSkipping line 6855: expected 10 fields, saw 12\\nSkipping line 6856: expected 10 fields, saw 12\\nSkipping line 6857: expected 10 fields, saw 12\\nSkipping line 6858: expected 10 fields, saw 12\\nSkipping line 6859: expected 10 fields, saw 12\\nSkipping line 6860: expected 10 fields, saw 12\\nSkipping line 6863: expected 10 fields, saw 12\\nSkipping line 6864: expected 10 fields, saw 12\\nSkipping line 6865: expected 10 fields, saw 12\\nSkipping line 6867: expected 10 fields, saw 12\\nSkipping line 6870: expected 10 fields, saw 12\\nSkipping line 6871: expected 10 fields, saw 12\\nSkipping line 6873: expected 10 fields, saw 12\\nSkipping line 6875: expected 10 fields, saw 12\\nSkipping line 6876: expected 10 fields, saw 12\\nSkipping line 6878: expected 10 fields, saw 12\\nSkipping line 6879: expected 10 fields, saw 12\\nSkipping line 6880: expected 10 fields, saw 12\\nSkipping line 6881: expected 10 fields, saw 12\\nSkipping line 6882: expected 10 fields, saw 12\\nSkipping line 6883: expected 10 fields, saw 12\\nSkipping line 6884: expected 10 fields, saw 12\\nSkipping line 6885: expected 10 fields, saw 12\\nSkipping line 6886: expected 10 fields, saw 12\\nSkipping line 6887: expected 10 fields, saw 12\\nSkipping line 6888: expected 10 fields, saw 12\\nSkipping line 6906: expected 10 fields, saw 12\\nSkipping line 6907: expected 10 fields, saw 12\\nSkipping line 6908: expected 10 fields, saw 12\\nSkipping line 6909: expected 10 fields, saw 12\\nSkipping line 6910: expected 10 fields, saw 12\\nSkipping line 6911: expected 10 fields, saw 12\\nSkipping line 6913: expected 10 fields, saw 12\\nSkipping line 6914: expected 10 fields, saw 12\\nSkipping line 6915: expected 10 fields, saw 12\\nSkipping line 6916: expected 10 fields, saw 12\\nSkipping line 6917: expected 10 fields, saw 12\\nSkipping line 6918: expected 10 fields, saw 12\\nSkipping line 6919: expected 10 fields, saw 12\\nSkipping line 6920: expected 10 fields, saw 12\\nSkipping line 6921: expected 10 fields, saw 12\\nSkipping line 6922: expected 10 fields, saw 12\\nSkipping line 6923: expected 10 fields, saw 12\\nSkipping line 6924: expected 10 fields, saw 12\\nSkipping line 6925: expected 10 fields, saw 12\\nSkipping line 6926: expected 10 fields, saw 12\\nSkipping line 6927: expected 10 fields, saw 12\\nSkipping line 6928: expected 10 fields, saw 12\\nSkipping line 6930: expected 10 fields, saw 12\\nSkipping line 6931: expected 10 fields, saw 12\\nSkipping line 6932: expected 10 fields, saw 12\\nSkipping line 6933: expected 10 fields, saw 12\\nSkipping line 6934: expected 10 fields, saw 12\\nSkipping line 6935: expected 10 fields, saw 12\\nSkipping line 6936: expected 10 fields, saw 12\\nSkipping line 6937: expected 10 fields, saw 12\\nSkipping line 6938: expected 10 fields, saw 12\\nSkipping line 6939: expected 10 fields, saw 12\\nSkipping line 6945: expected 10 fields, saw 12\\nSkipping line 6947: expected 10 fields, saw 12\\nSkipping line 6948: expected 10 fields, saw 12\\nSkipping line 6952: expected 10 fields, saw 12\\nSkipping line 6957: expected 10 fields, saw 12\\nSkipping line 6959: expected 10 fields, saw 12\\nSkipping line 6960: expected 10 fields, saw 12\\nSkipping line 6961: expected 10 fields, saw 12\\nSkipping line 6962: expected 10 fields, saw 12\\nSkipping line 6963: expected 10 fields, saw 12\\nSkipping line 6964: expected 10 fields, saw 12\\nSkipping line 6965: expected 10 fields, saw 12\\nSkipping line 6966: expected 10 fields, saw 12\\nSkipping line 6967: expected 10 fields, saw 12\\nSkipping line 6968: expected 10 fields, saw 12\\nSkipping line 6969: expected 10 fields, saw 12\\nSkipping line 6970: expected 10 fields, saw 12\\nSkipping line 6971: expected 10 fields, saw 12\\nSkipping line 6972: expected 10 fields, saw 12\\nSkipping line 6973: expected 10 fields, saw 12\\nSkipping line 6974: expected 10 fields, saw 12\\nSkipping line 6977: expected 10 fields, saw 12\\nSkipping line 6978: expected 10 fields, saw 12\\nSkipping line 6979: expected 10 fields, saw 12\\nSkipping line 6980: expected 10 fields, saw 12\\nSkipping line 6981: expected 10 fields, saw 12\\nSkipping line 6982: expected 10 fields, saw 12\\nSkipping line 6983: expected 10 fields, saw 12\\nSkipping line 6984: expected 10 fields, saw 12\\nSkipping line 6985: expected 10 fields, saw 12\\nSkipping line 6986: expected 10 fields, saw 12\\nSkipping line 6987: expected 10 fields, saw 12\\nSkipping line 6988: expected 10 fields, saw 12\\nSkipping line 6989: expected 10 fields, saw 12\\nSkipping line 6990: expected 10 fields, saw 12\\nSkipping line 6991: expected 10 fields, saw 12\\nSkipping line 6992: expected 10 fields, saw 12\\nSkipping line 6993: expected 10 fields, saw 12\\nSkipping line 6996: expected 10 fields, saw 12\\nSkipping line 6997: expected 10 fields, saw 12\\nSkipping line 6998: expected 10 fields, saw 12\\nSkipping line 6999: expected 10 fields, saw 12\\nSkipping line 7000: expected 10 fields, saw 12\\nSkipping line 7001: expected 10 fields, saw 12\\nSkipping line 7002: expected 10 fields, saw 12\\nSkipping line 7003: expected 10 fields, saw 12\\nSkipping line 7004: expected 10 fields, saw 12\\nSkipping line 7005: expected 10 fields, saw 12\\nSkipping line 7006: expected 10 fields, saw 12\\nSkipping line 7008: expected 10 fields, saw 12\\nSkipping line 7009: expected 10 fields, saw 12\\nSkipping line 7010: expected 10 fields, saw 12\\nSkipping line 7011: expected 10 fields, saw 12\\nSkipping line 7012: expected 10 fields, saw 12\\nSkipping line 7013: expected 10 fields, saw 12\\nSkipping line 7190: expected 10 fields, saw 12\\nSkipping line 7191: expected 10 fields, saw 12\\nSkipping line 7192: expected 10 fields, saw 12\\nSkipping line 7193: expected 10 fields, saw 12\\nSkipping line 7194: expected 10 fields, saw 12\\nSkipping line 7195: expected 10 fields, saw 12\\nSkipping line 7196: expected 10 fields, saw 12\\nSkipping line 7197: expected 10 fields, saw 12\\nSkipping line 7198: expected 10 fields, saw 12\\nSkipping line 7200: expected 10 fields, saw 12\\nSkipping line 7202: expected 10 fields, saw 12\\nSkipping line 7203: expected 10 fields, saw 12\\nSkipping line 7218: expected 10 fields, saw 12\\nSkipping line 7219: expected 10 fields, saw 12\\nSkipping line 7220: expected 10 fields, saw 12\\nSkipping line 7221: expected 10 fields, saw 12\\nSkipping line 7222: expected 10 fields, saw 12\\nSkipping line 7223: expected 10 fields, saw 12\\nSkipping line 7224: expected 10 fields, saw 12\\nSkipping line 7225: expected 10 fields, saw 12\\nSkipping line 7226: expected 10 fields, saw 12\\nSkipping line 7227: expected 10 fields, saw 12\\nSkipping line 7228: expected 10 fields, saw 12\\nSkipping line 7256: expected 10 fields, saw 12\\nSkipping line 7258: expected 10 fields, saw 12\\nSkipping line 7259: expected 10 fields, saw 12\\nSkipping line 7260: expected 10 fields, saw 12\\nSkipping line 7261: expected 10 fields, saw 12\\nSkipping line 7262: expected 10 fields, saw 12\\nSkipping line 7263: expected 10 fields, saw 12\\nSkipping line 7264: expected 10 fields, saw 12\\nSkipping line 7266: expected 10 fields, saw 12\\nSkipping line 7268: expected 10 fields, saw 12\\nSkipping line 7270: expected 10 fields, saw 12\\nSkipping line 7271: expected 10 fields, saw 12\\nSkipping line 7272: expected 10 fields, saw 12\\nSkipping line 7273: expected 10 fields, saw 12\\nSkipping line 7274: expected 10 fields, saw 12\\nSkipping line 7275: expected 10 fields, saw 12\\nSkipping line 7276: expected 10 fields, saw 12\\nSkipping line 7279: expected 10 fields, saw 12\\nSkipping line 7280: expected 10 fields, saw 12\\nSkipping line 7281: expected 10 fields, saw 12\\nSkipping line 7282: expected 10 fields, saw 12\\nSkipping line 7283: expected 10 fields, saw 12\\nSkipping line 7284: expected 10 fields, saw 12\\nSkipping line 7286: expected 10 fields, saw 12\\nSkipping line 7287: expected 10 fields, saw 12\\nSkipping line 7288: expected 10 fields, saw 12\\nSkipping line 7289: expected 10 fields, saw 12\\nSkipping line 7290: expected 10 fields, saw 12\\nSkipping line 7291: expected 10 fields, saw 12\\nSkipping line 7292: expected 10 fields, saw 12\\nSkipping line 7293: expected 10 fields, saw 12\\nSkipping line 7294: expected 10 fields, saw 12\\nSkipping line 7297: expected 10 fields, saw 12\\nSkipping line 7298: expected 10 fields, saw 12\\nSkipping line 7299: expected 10 fields, saw 12\\nSkipping line 7300: expected 10 fields, saw 12\\nSkipping line 7301: expected 10 fields, saw 12\\nSkipping line 7302: expected 10 fields, saw 12\\nSkipping line 7303: expected 10 fields, saw 12\\nSkipping line 7304: expected 10 fields, saw 12\\nSkipping line 7305: expected 10 fields, saw 12\\nSkipping line 7306: expected 10 fields, saw 12\\nSkipping line 7307: expected 10 fields, saw 12\\nSkipping line 7308: expected 10 fields, saw 12\\nSkipping line 7309: expected 10 fields, saw 12\\nSkipping line 7323: expected 10 fields, saw 12\\nSkipping line 7324: expected 10 fields, saw 12\\nSkipping line 7325: expected 10 fields, saw 12\\nSkipping line 7326: expected 10 fields, saw 12\\nSkipping line 7327: expected 10 fields, saw 12\\nSkipping line 7328: expected 10 fields, saw 12\\nSkipping line 7329: expected 10 fields, saw 12\\nSkipping line 7330: expected 10 fields, saw 12\\nSkipping line 7331: expected 10 fields, saw 12\\nSkipping line 7332: expected 10 fields, saw 12\\nSkipping line 7333: expected 10 fields, saw 12\\nSkipping line 7334: expected 10 fields, saw 12\\nSkipping line 7335: expected 10 fields, saw 12\\nSkipping line 7336: expected 10 fields, saw 12\\nSkipping line 7337: expected 10 fields, saw 12\\nSkipping line 7339: expected 10 fields, saw 12\\nSkipping line 7340: expected 10 fields, saw 12\\nSkipping line 7341: expected 10 fields, saw 12\\nSkipping line 7342: expected 10 fields, saw 12\\nSkipping line 7343: expected 10 fields, saw 12\\nSkipping line 7344: expected 10 fields, saw 12\\nSkipping line 7345: expected 10 fields, saw 12\\nSkipping line 7346: expected 10 fields, saw 12\\nSkipping line 7347: expected 10 fields, saw 12\\nSkipping line 7348: expected 10 fields, saw 12\\nSkipping line 7349: expected 10 fields, saw 12\\nSkipping line 7350: expected 10 fields, saw 12\\nSkipping line 7351: expected 10 fields, saw 12\\nSkipping line 7352: expected 10 fields, saw 12\\nSkipping line 7353: expected 10 fields, saw 12\\nSkipping line 7354: expected 10 fields, saw 12\\nSkipping line 7355: expected 10 fields, saw 12\\nSkipping line 7357: expected 10 fields, saw 12\\nSkipping line 7358: expected 10 fields, saw 12\\nSkipping line 7360: expected 10 fields, saw 12\\nSkipping line 7362: expected 10 fields, saw 12\\nSkipping line 7365: expected 10 fields, saw 12\\nSkipping line 7366: expected 10 fields, saw 12\\nSkipping line 7367: expected 10 fields, saw 12\\nSkipping line 7368: expected 10 fields, saw 12\\nSkipping line 7369: expected 10 fields, saw 12\\nSkipping line 7370: expected 10 fields, saw 12\\nSkipping line 7371: expected 10 fields, saw 12\\nSkipping line 7372: expected 10 fields, saw 12\\nSkipping line 7373: expected 10 fields, saw 12\\nSkipping line 7374: expected 10 fields, saw 12\\nSkipping line 7375: expected 10 fields, saw 12\\nSkipping line 7376: expected 10 fields, saw 12\\nSkipping line 7377: expected 10 fields, saw 12\\nSkipping line 7378: expected 10 fields, saw 12\\nSkipping line 7379: expected 10 fields, saw 12\\nSkipping line 7380: expected 10 fields, saw 12\\nSkipping line 7381: expected 10 fields, saw 12\\nSkipping line 7382: expected 10 fields, saw 12\\nSkipping line 7383: expected 10 fields, saw 12\\nSkipping line 7384: expected 10 fields, saw 12\\nSkipping line 7386: expected 10 fields, saw 12\\nSkipping line 7387: expected 10 fields, saw 12\\nSkipping line 7388: expected 10 fields, saw 12\\nSkipping line 7389: expected 10 fields, saw 12\\nSkipping line 7390: expected 10 fields, saw 12\\nSkipping line 7391: expected 10 fields, saw 12\\nSkipping line 7392: expected 10 fields, saw 12\\nSkipping line 7393: expected 10 fields, saw 12\\nSkipping line 7394: expected 10 fields, saw 12\\nSkipping line 7395: expected 10 fields, saw 12\\nSkipping line 7396: expected 10 fields, saw 12\\nSkipping line 7397: expected 10 fields, saw 12\\nSkipping line 7398: expected 10 fields, saw 12\\nSkipping line 7399: expected 10 fields, saw 12\\nSkipping line 7400: expected 10 fields, saw 12\\nSkipping line 7401: expected 10 fields, saw 12\\nSkipping line 7402: expected 10 fields, saw 12\\nSkipping line 7403: expected 10 fields, saw 12\\nSkipping line 7404: expected 10 fields, saw 12\\nSkipping line 7405: expected 10 fields, saw 12\\nSkipping line 7406: expected 10 fields, saw 12\\nSkipping line 7407: expected 10 fields, saw 12\\nSkipping line 7410: expected 10 fields, saw 12\\nSkipping line 7411: expected 10 fields, saw 12\\nSkipping line 7412: expected 10 fields, saw 12\\nSkipping line 7413: expected 10 fields, saw 12\\nSkipping line 7414: expected 10 fields, saw 12\\nSkipping line 7415: expected 10 fields, saw 12\\nSkipping line 7416: expected 10 fields, saw 12\\nSkipping line 7417: expected 10 fields, saw 12\\nSkipping line 7418: expected 10 fields, saw 12\\nSkipping line 7419: expected 10 fields, saw 12\\nSkipping line 7420: expected 10 fields, saw 12\\nSkipping line 7436: expected 10 fields, saw 12\\nSkipping line 7437: expected 10 fields, saw 12\\nSkipping line 7438: expected 10 fields, saw 12\\nSkipping line 7439: expected 10 fields, saw 12\\nSkipping line 7440: expected 10 fields, saw 12\\nSkipping line 7441: expected 10 fields, saw 12\\nSkipping line 7442: expected 10 fields, saw 12\\nSkipping line 7443: expected 10 fields, saw 12\\nSkipping line 7444: expected 10 fields, saw 12\\nSkipping line 7445: expected 10 fields, saw 12\\nSkipping line 7446: expected 10 fields, saw 12\\nSkipping line 7447: expected 10 fields, saw 12\\nSkipping line 7448: expected 10 fields, saw 12\\nSkipping line 7449: expected 10 fields, saw 12\\nSkipping line 7450: expected 10 fields, saw 12\\nSkipping line 7451: expected 10 fields, saw 12\\nSkipping line 7452: expected 10 fields, saw 12\\nSkipping line 7453: expected 10 fields, saw 12\\nSkipping line 7455: expected 10 fields, saw 12\\nSkipping line 7456: expected 10 fields, saw 12\\nSkipping line 7457: expected 10 fields, saw 12\\nSkipping line 7458: expected 10 fields, saw 12\\nSkipping line 7459: expected 10 fields, saw 12\\nSkipping line 7460: expected 10 fields, saw 12\\nSkipping line 7461: expected 10 fields, saw 12\\nSkipping line 7462: expected 10 fields, saw 12\\nSkipping line 7463: expected 10 fields, saw 12\\nSkipping line 7464: expected 10 fields, saw 12\\nSkipping line 7465: expected 10 fields, saw 12\\nSkipping line 7466: expected 10 fields, saw 12\\nSkipping line 7467: expected 10 fields, saw 12\\nSkipping line 7468: expected 10 fields, saw 12\\nSkipping line 7469: expected 10 fields, saw 12\\nSkipping line 7472: expected 10 fields, saw 12\\nSkipping line 7473: expected 10 fields, saw 12\\nSkipping line 7474: expected 10 fields, saw 11\\nSkipping line 7476: expected 10 fields, saw 12\\nSkipping line 7477: expected 10 fields, saw 12\\nSkipping line 7480: expected 10 fields, saw 12\\nSkipping line 7481: expected 10 fields, saw 12\\nSkipping line 7482: expected 10 fields, saw 12\\nSkipping line 7483: expected 10 fields, saw 12\\nSkipping line 7484: expected 10 fields, saw 12\\nSkipping line 7485: expected 10 fields, saw 12\\nSkipping line 7486: expected 10 fields, saw 12\\nSkipping line 7487: expected 10 fields, saw 12\\nSkipping line 7488: expected 10 fields, saw 12\\nSkipping line 7489: expected 10 fields, saw 12\\nSkipping line 7490: expected 10 fields, saw 12\\nSkipping line 7491: expected 10 fields, saw 12\\nSkipping line 7492: expected 10 fields, saw 12\\nSkipping line 7493: expected 10 fields, saw 12\\nSkipping line 7494: expected 10 fields, saw 12\\nSkipping line 7495: expected 10 fields, saw 12\\nSkipping line 7496: expected 10 fields, saw 12\\nSkipping line 7497: expected 10 fields, saw 12\\nSkipping line 7498: expected 10 fields, saw 12\\nSkipping line 7499: expected 10 fields, saw 12\\nSkipping line 7500: expected 10 fields, saw 12\\nSkipping line 7501: expected 10 fields, saw 12\\nSkipping line 7502: expected 10 fields, saw 12\\nSkipping line 7503: expected 10 fields, saw 12\\nSkipping line 7504: expected 10 fields, saw 12\\nSkipping line 7505: expected 10 fields, saw 12\\nSkipping line 7506: expected 10 fields, saw 12\\nSkipping line 7507: expected 10 fields, saw 12\\nSkipping line 7508: expected 10 fields, saw 12\\nSkipping line 7509: expected 10 fields, saw 12\\nSkipping line 7510: expected 10 fields, saw 12\\nSkipping line 7524: expected 10 fields, saw 12\\nSkipping line 7525: expected 10 fields, saw 12\\nSkipping line 7526: expected 10 fields, saw 12\\nSkipping line 7528: expected 10 fields, saw 12\\nSkipping line 7529: expected 10 fields, saw 12\\nSkipping line 7530: expected 10 fields, saw 12\\nSkipping line 7531: expected 10 fields, saw 12\\nSkipping line 7532: expected 10 fields, saw 12\\nSkipping line 7534: expected 10 fields, saw 12\\nSkipping line 7535: expected 10 fields, saw 12\\nSkipping line 7536: expected 10 fields, saw 12\\nSkipping line 7537: expected 10 fields, saw 12\\nSkipping line 7538: expected 10 fields, saw 12\\nSkipping line 7539: expected 10 fields, saw 12\\nSkipping line 7540: expected 10 fields, saw 12\\nSkipping line 7541: expected 10 fields, saw 12\\nSkipping line 7542: expected 10 fields, saw 12\\nSkipping line 7543: expected 10 fields, saw 12\\nSkipping line 7544: expected 10 fields, saw 12\\nSkipping line 7545: expected 10 fields, saw 12\\nSkipping line 7546: expected 10 fields, saw 12\\nSkipping line 7547: expected 10 fields, saw 12\\nSkipping line 7548: expected 10 fields, saw 12\\nSkipping line 7549: expected 10 fields, saw 12\\nSkipping line 7550: expected 10 fields, saw 12\\nSkipping line 7551: expected 10 fields, saw 12\\nSkipping line 7552: expected 10 fields, saw 12\\nSkipping line 7553: expected 10 fields, saw 12\\nSkipping line 7554: expected 10 fields, saw 12\\nSkipping line 7555: expected 10 fields, saw 12\\nSkipping line 7556: expected 10 fields, saw 12\\nSkipping line 7557: expected 10 fields, saw 12\\nSkipping line 7558: expected 10 fields, saw 12\\nSkipping line 7559: expected 10 fields, saw 12\\nSkipping line 7560: expected 10 fields, saw 12\\nSkipping line 7561: expected 10 fields, saw 12\\nSkipping line 7562: expected 10 fields, saw 12\\nSkipping line 7563: expected 10 fields, saw 12\\nSkipping line 7564: expected 10 fields, saw 12\\nSkipping line 7565: expected 10 fields, saw 12\\nSkipping line 7566: expected 10 fields, saw 12\\nSkipping line 7567: expected 10 fields, saw 12\\nSkipping line 7568: expected 10 fields, saw 12\\nSkipping line 7569: expected 10 fields, saw 12\\nSkipping line 7570: expected 10 fields, saw 12\\nSkipping line 7571: expected 10 fields, saw 12\\nSkipping line 7572: expected 10 fields, saw 12\\nSkipping line 7573: expected 10 fields, saw 12\\nSkipping line 7574: expected 10 fields, saw 12\\nSkipping line 7575: expected 10 fields, saw 12\\nSkipping line 7576: expected 10 fields, saw 12\\nSkipping line 7577: expected 10 fields, saw 12\\nSkipping line 7578: expected 10 fields, saw 12\\nSkipping line 7579: expected 10 fields, saw 12\\nSkipping line 7623: expected 10 fields, saw 11\\nSkipping line 7624: expected 10 fields, saw 11\\nSkipping line 7625: expected 10 fields, saw 11\\nSkipping line 7626: expected 10 fields, saw 11\\nSkipping line 7627: expected 10 fields, saw 11\\nSkipping line 7628: expected 10 fields, saw 11\\nSkipping line 7629: expected 10 fields, saw 11\\nSkipping line 7630: expected 10 fields, saw 11\\nSkipping line 7631: expected 10 fields, saw 11\\nSkipping line 7632: expected 10 fields, saw 11\\nSkipping line 7633: expected 10 fields, saw 11\\nSkipping line 7634: expected 10 fields, saw 11\\nSkipping line 7643: expected 10 fields, saw 11\\nSkipping line 7644: expected 10 fields, saw 11\\nSkipping line 7662: expected 10 fields, saw 11\\nSkipping line 7663: expected 10 fields, saw 11\\nSkipping line 7664: expected 10 fields, saw 11\\nSkipping line 7665: expected 10 fields, saw 11\\nSkipping line 7666: expected 10 fields, saw 11\\nSkipping line 7667: expected 10 fields, saw 11\\nSkipping line 7668: expected 10 fields, saw 11\\nSkipping line 7669: expected 10 fields, saw 11\\nSkipping line 7670: expected 10 fields, saw 11\\nSkipping line 7671: expected 10 fields, saw 11\\nSkipping line 7672: expected 10 fields, saw 11\\nSkipping line 7673: expected 10 fields, saw 11\\nSkipping line 7674: expected 10 fields, saw 11\\nSkipping line 7675: expected 10 fields, saw 11\\nSkipping line 7680: expected 10 fields, saw 13\\nSkipping line 7681: expected 10 fields, saw 12\\nSkipping line 7682: expected 10 fields, saw 12\\nSkipping line 7683: expected 10 fields, saw 12\\nSkipping line 7684: expected 10 fields, saw 12\\nSkipping line 7685: expected 10 fields, saw 12\\nSkipping line 7686: expected 10 fields, saw 12\\nSkipping line 7687: expected 10 fields, saw 12\\nSkipping line 7688: expected 10 fields, saw 12\\nSkipping line 7689: expected 10 fields, saw 12\\nSkipping line 7690: expected 10 fields, saw 12\\nSkipping line 7691: expected 10 fields, saw 12\\nSkipping line 7692: expected 10 fields, saw 12\\nSkipping line 7693: expected 10 fields, saw 12\\nSkipping line 7694: expected 10 fields, saw 12\\nSkipping line 7695: expected 10 fields, saw 12\\nSkipping line 7696: expected 10 fields, saw 12\\nSkipping line 7697: expected 10 fields, saw 12\\nSkipping line 7698: expected 10 fields, saw 12\\nSkipping line 7699: expected 10 fields, saw 12\\nSkipping line 7700: expected 10 fields, saw 12\\nSkipping line 7701: expected 10 fields, saw 12\\nSkipping line 7715: expected 10 fields, saw 12\\nSkipping line 7716: expected 10 fields, saw 12\\nSkipping line 7717: expected 10 fields, saw 12\\nSkipping line 7718: expected 10 fields, saw 12\\nSkipping line 7719: expected 10 fields, saw 12\\nSkipping line 7720: expected 10 fields, saw 12\\nSkipping line 7721: expected 10 fields, saw 12\\nSkipping line 7722: expected 10 fields, saw 12\\nSkipping line 7723: expected 10 fields, saw 12\\nSkipping line 7724: expected 10 fields, saw 12\\nSkipping line 7725: expected 10 fields, saw 12\\nSkipping line 7726: expected 10 fields, saw 12\\nSkipping line 7727: expected 10 fields, saw 12\\nSkipping line 7728: expected 10 fields, saw 12\\nSkipping line 7729: expected 10 fields, saw 12\\nSkipping line 7730: expected 10 fields, saw 12\\nSkipping line 7731: expected 10 fields, saw 12\\nSkipping line 7732: expected 10 fields, saw 12\\nSkipping line 7733: expected 10 fields, saw 12\\nSkipping line 7734: expected 10 fields, saw 12\\nSkipping line 7735: expected 10 fields, saw 12\\nSkipping line 7738: expected 10 fields, saw 12\\nSkipping line 7739: expected 10 fields, saw 12\\nSkipping line 7740: expected 10 fields, saw 12\\nSkipping line 7741: expected 10 fields, saw 12\\nSkipping line 7742: expected 10 fields, saw 12\\nSkipping line 7743: expected 10 fields, saw 12\\nSkipping line 7744: expected 10 fields, saw 12\\nSkipping line 7745: expected 10 fields, saw 12\\nSkipping line 7746: expected 10 fields, saw 12\\nSkipping line 7747: expected 10 fields, saw 12\\nSkipping line 7748: expected 10 fields, saw 12\\nSkipping line 7749: expected 10 fields, saw 12\\nSkipping line 7750: expected 10 fields, saw 12\\nSkipping line 7751: expected 10 fields, saw 12\\nSkipping line 7752: expected 10 fields, saw 12\\nSkipping line 7753: expected 10 fields, saw 12\\nSkipping line 7754: expected 10 fields, saw 12\\nSkipping line 7755: expected 10 fields, saw 12\\nSkipping line 7756: expected 10 fields, saw 12\\nSkipping line 7758: expected 10 fields, saw 12\\nSkipping line 7759: expected 10 fields, saw 12\\nSkipping line 7760: expected 10 fields, saw 12\\nSkipping line 7761: expected 10 fields, saw 12\\nSkipping line 7762: expected 10 fields, saw 12\\nSkipping line 7763: expected 10 fields, saw 12\\nSkipping line 7764: expected 10 fields, saw 12\\nSkipping line 7765: expected 10 fields, saw 12\\nSkipping line 7766: expected 10 fields, saw 12\\nSkipping line 7767: expected 10 fields, saw 12\\nSkipping line 7768: expected 10 fields, saw 12\\nSkipping line 7769: expected 10 fields, saw 12\\nSkipping line 7770: expected 10 fields, saw 12\\nSkipping line 7771: expected 10 fields, saw 12\\nSkipping line 7772: expected 10 fields, saw 12\\nSkipping line 7773: expected 10 fields, saw 12\\nSkipping line 7774: expected 10 fields, saw 12\\nSkipping line 7775: expected 10 fields, saw 12\\nSkipping line 7776: expected 10 fields, saw 12\\nSkipping line 7777: expected 10 fields, saw 12\\nSkipping line 7778: expected 10 fields, saw 12\\nSkipping line 7779: expected 10 fields, saw 12\\nSkipping line 7780: expected 10 fields, saw 12\\nSkipping line 7781: expected 10 fields, saw 12\\nSkipping line 7783: expected 10 fields, saw 12\\nSkipping line 7785: expected 10 fields, saw 12\\nSkipping line 7786: expected 10 fields, saw 12\\nSkipping line 7787: expected 10 fields, saw 12\\nSkipping line 7788: expected 10 fields, saw 12\\nSkipping line 7790: expected 10 fields, saw 12\\nSkipping line 7791: expected 10 fields, saw 12\\nSkipping line 7792: expected 10 fields, saw 12\\nSkipping line 7793: expected 10 fields, saw 12\\nSkipping line 7794: expected 10 fields, saw 12\\nSkipping line 7795: expected 10 fields, saw 12\\nSkipping line 7796: expected 10 fields, saw 12\\nSkipping line 7797: expected 10 fields, saw 12\\nSkipping line 7799: expected 10 fields, saw 12\\nSkipping line 7800: expected 10 fields, saw 12\\nSkipping line 7801: expected 10 fields, saw 12\\nSkipping line 7802: expected 10 fields, saw 12\\nSkipping line 7803: expected 10 fields, saw 12\\nSkipping line 7804: expected 10 fields, saw 12\\nSkipping line 7805: expected 10 fields, saw 12\\nSkipping line 7806: expected 10 fields, saw 12\\nSkipping line 7807: expected 10 fields, saw 12\\nSkipping line 7808: expected 10 fields, saw 12\\nSkipping line 7809: expected 10 fields, saw 12\\nSkipping line 7810: expected 10 fields, saw 12\\nSkipping line 7811: expected 10 fields, saw 12\\nSkipping line 7812: expected 10 fields, saw 12\\nSkipping line 7813: expected 10 fields, saw 12\\nSkipping line 7814: expected 10 fields, saw 12\\nSkipping line 7815: expected 10 fields, saw 12\\nSkipping line 7816: expected 10 fields, saw 12\\nSkipping line 7817: expected 10 fields, saw 12\\nSkipping line 7818: expected 10 fields, saw 12\\nSkipping line 7819: expected 10 fields, saw 12\\nSkipping line 7820: expected 10 fields, saw 12\\nSkipping line 7821: expected 10 fields, saw 12\\nSkipping line 7822: expected 10 fields, saw 12\\nSkipping line 7823: expected 10 fields, saw 12\\nSkipping line 7824: expected 10 fields, saw 12\\nSkipping line 7836: expected 10 fields, saw 12\\nSkipping line 7837: expected 10 fields, saw 12\\nSkipping line 7838: expected 10 fields, saw 12\\nSkipping line 7839: expected 10 fields, saw 12\\nSkipping line 7841: expected 10 fields, saw 12\\nSkipping line 7842: expected 10 fields, saw 12\\nSkipping line 7843: expected 10 fields, saw 12\\nSkipping line 7844: expected 10 fields, saw 12\\nSkipping line 7845: expected 10 fields, saw 12\\nSkipping line 7846: expected 10 fields, saw 12\\nSkipping line 7847: expected 10 fields, saw 12\\nSkipping line 7848: expected 10 fields, saw 12\\nSkipping line 7849: expected 10 fields, saw 12\\nSkipping line 7850: expected 10 fields, saw 12\\nSkipping line 7851: expected 10 fields, saw 12\\nSkipping line 7852: expected 10 fields, saw 12\\nSkipping line 7853: expected 10 fields, saw 12\\nSkipping line 7854: expected 10 fields, saw 12\\nSkipping line 7855: expected 10 fields, saw 12\\nSkipping line 7856: expected 10 fields, saw 12\\nSkipping line 7857: expected 10 fields, saw 12\\nSkipping line 7858: expected 10 fields, saw 12\\nSkipping line 7859: expected 10 fields, saw 12\\nSkipping line 7860: expected 10 fields, saw 12\\nSkipping line 7861: expected 10 fields, saw 12\\nSkipping line 7862: expected 10 fields, saw 12\\nSkipping line 7863: expected 10 fields, saw 12\\nSkipping line 7866: expected 10 fields, saw 12\\nSkipping line 7867: expected 10 fields, saw 12\\nSkipping line 7868: expected 10 fields, saw 12\\nSkipping line 7869: expected 10 fields, saw 12\\nSkipping line 7870: expected 10 fields, saw 12\\nSkipping line 7871: expected 10 fields, saw 12\\nSkipping line 7874: expected 10 fields, saw 12\\nSkipping line 7875: expected 10 fields, saw 12\\nSkipping line 7878: expected 10 fields, saw 12\\nSkipping line 7879: expected 10 fields, saw 12\\nSkipping line 7880: expected 10 fields, saw 12\\nSkipping line 7881: expected 10 fields, saw 12\\nSkipping line 7882: expected 10 fields, saw 12\\nSkipping line 7883: expected 10 fields, saw 12\\nSkipping line 7884: expected 10 fields, saw 12\\nSkipping line 7885: expected 10 fields, saw 12\\nSkipping line 7886: expected 10 fields, saw 12\\nSkipping line 7887: expected 10 fields, saw 12\\nSkipping line 7888: expected 10 fields, saw 12\\nSkipping line 7889: expected 10 fields, saw 12\\nSkipping line 7890: expected 10 fields, saw 12\\nSkipping line 7891: expected 10 fields, saw 12\\nSkipping line 7892: expected 10 fields, saw 12\\nSkipping line 7893: expected 10 fields, saw 12\\nSkipping line 7894: expected 10 fields, saw 12\\nSkipping line 7895: expected 10 fields, saw 12\\nSkipping line 7897: expected 10 fields, saw 12\\nSkipping line 7898: expected 10 fields, saw 12\\nSkipping line 7900: expected 10 fields, saw 12\\nSkipping line 7904: expected 10 fields, saw 12\\nSkipping line 7905: expected 10 fields, saw 12\\nSkipping line 7906: expected 10 fields, saw 12\\nSkipping line 7907: expected 10 fields, saw 12\\nSkipping line 7908: expected 10 fields, saw 12\\nSkipping line 7909: expected 10 fields, saw 12\\nSkipping line 7910: expected 10 fields, saw 12\\nSkipping line 7912: expected 10 fields, saw 11\\nSkipping line 7913: expected 10 fields, saw 11\\nSkipping line 7914: expected 10 fields, saw 11\\nSkipping line 7915: expected 10 fields, saw 11\\nSkipping line 7916: expected 10 fields, saw 11\\nSkipping line 7917: expected 10 fields, saw 11\\nSkipping line 7918: expected 10 fields, saw 11\\nSkipping line 7919: expected 10 fields, saw 11\\nSkipping line 7920: expected 10 fields, saw 11\\nSkipping line 7921: expected 10 fields, saw 11\\nSkipping line 7922: expected 10 fields, saw 11\\nSkipping line 7923: expected 10 fields, saw 11\\nSkipping line 7924: expected 10 fields, saw 11\\nSkipping line 7925: expected 10 fields, saw 11\\nSkipping line 7926: expected 10 fields, saw 11\\nSkipping line 7927: expected 10 fields, saw 11\\nSkipping line 7928: expected 10 fields, saw 11\\nSkipping line 7929: expected 10 fields, saw 11\\nSkipping line 7930: expected 10 fields, saw 11\\nSkipping line 7931: expected 10 fields, saw 11\\nSkipping line 7932: expected 10 fields, saw 11\\nSkipping line 7976: expected 10 fields, saw 11\\nSkipping line 7977: expected 10 fields, saw 11\\nSkipping line 7978: expected 10 fields, saw 11\\nSkipping line 7979: expected 10 fields, saw 11\\nSkipping line 7980: expected 10 fields, saw 11\\nSkipping line 7981: expected 10 fields, saw 11\\nSkipping line 7982: expected 10 fields, saw 11\\nSkipping line 7983: expected 10 fields, saw 11\\nSkipping line 7984: expected 10 fields, saw 11\\nSkipping line 7985: expected 10 fields, saw 11\\nSkipping line 7986: expected 10 fields, saw 11\\nSkipping line 7987: expected 10 fields, saw 11\\nSkipping line 7988: expected 10 fields, saw 11\\nSkipping line 7989: expected 10 fields, saw 11\\nSkipping line 7990: expected 10 fields, saw 11\\nSkipping line 7991: expected 10 fields, saw 11\\nSkipping line 7992: expected 10 fields, saw 11\\nSkipping line 7993: expected 10 fields, saw 11\\nSkipping line 7994: expected 10 fields, saw 11\\nSkipping line 7995: expected 10 fields, saw 11\\nSkipping line 7996: expected 10 fields, saw 11\\nSkipping line 8002: expected 10 fields, saw 11\\nSkipping line 8003: expected 10 fields, saw 11\\nSkipping line 8004: expected 10 fields, saw 11\\nSkipping line 8005: expected 10 fields, saw 11\\nSkipping line 8006: expected 10 fields, saw 11\\nSkipping line 8007: expected 10 fields, saw 11\\nSkipping line 8008: expected 10 fields, saw 11\\nSkipping line 8009: expected 10 fields, saw 11\\nSkipping line 8010: expected 10 fields, saw 11\\nSkipping line 8011: expected 10 fields, saw 11\\nSkipping line 8012: expected 10 fields, saw 11\\nSkipping line 8013: expected 10 fields, saw 11\\nSkipping line 8014: expected 10 fields, saw 11\\nSkipping line 8015: expected 10 fields, saw 11\\nSkipping line 8016: expected 10 fields, saw 11\\nSkipping line 8017: expected 10 fields, saw 11\\nSkipping line 8022: expected 10 fields, saw 11\\nSkipping line 8023: expected 10 fields, saw 11\\nSkipping line 8024: expected 10 fields, saw 11\\nSkipping line 8025: expected 10 fields, saw 11\\nSkipping line 8026: expected 10 fields, saw 11\\nSkipping line 8045: expected 10 fields, saw 12\\nSkipping line 8046: expected 10 fields, saw 12\\nSkipping line 8047: expected 10 fields, saw 12\\nSkipping line 8056: expected 10 fields, saw 12\\nSkipping line 8057: expected 10 fields, saw 12\\nSkipping line 8058: expected 10 fields, saw 12\\nSkipping line 8059: expected 10 fields, saw 12\\nSkipping line 8060: expected 10 fields, saw 12\\nSkipping line 8061: expected 10 fields, saw 12\\nSkipping line 8062: expected 10 fields, saw 12\\nSkipping line 8063: expected 10 fields, saw 12\\nSkipping line 8064: expected 10 fields, saw 12\\nSkipping line 8065: expected 10 fields, saw 12\\nSkipping line 8066: expected 10 fields, saw 12\\nSkipping line 8067: expected 10 fields, saw 12\\nSkipping line 8078: expected 10 fields, saw 12\\nSkipping line 8079: expected 10 fields, saw 12\\nSkipping line 8080: expected 10 fields, saw 12\\nSkipping line 8081: expected 10 fields, saw 12\\nSkipping line 8082: expected 10 fields, saw 12\\nSkipping line 8083: expected 10 fields, saw 12\\nSkipping line 8085: expected 10 fields, saw 12\\nSkipping line 8086: expected 10 fields, saw 12\\nSkipping line 8087: expected 10 fields, saw 12\\nSkipping line 8089: expected 10 fields, saw 12\\nSkipping line 8091: expected 10 fields, saw 12\\nSkipping line 8092: expected 10 fields, saw 12\\nSkipping line 8093: expected 10 fields, saw 12\\nSkipping line 8094: expected 10 fields, saw 12\\nSkipping line 8095: expected 10 fields, saw 12\\nSkipping line 8096: expected 10 fields, saw 12\\nSkipping line 8097: expected 10 fields, saw 12\\nSkipping line 8098: expected 10 fields, saw 12\\nSkipping line 8099: expected 10 fields, saw 12\\nSkipping line 8100: expected 10 fields, saw 12\\nSkipping line 8101: expected 10 fields, saw 12\\nSkipping line 8102: expected 10 fields, saw 12\\nSkipping line 8103: expected 10 fields, saw 12\\nSkipping line 8104: expected 10 fields, saw 12\\nSkipping line 8105: expected 10 fields, saw 12\\nSkipping line 8106: expected 10 fields, saw 12\\nSkipping line 8107: expected 10 fields, saw 12\\nSkipping line 8108: expected 10 fields, saw 12\\nSkipping line 8111: expected 10 fields, saw 12\\nSkipping line 8113: expected 10 fields, saw 12\\nSkipping line 8114: expected 10 fields, saw 12\\nSkipping line 8115: expected 10 fields, saw 12\\nSkipping line 8116: expected 10 fields, saw 12\\nSkipping line 8117: expected 10 fields, saw 12\\nSkipping line 8118: expected 10 fields, saw 12\\nSkipping line 8124: expected 10 fields, saw 12\\nSkipping line 8125: expected 10 fields, saw 12\\nSkipping line 8126: expected 10 fields, saw 12\\nSkipping line 8127: expected 10 fields, saw 12\\nSkipping line 8128: expected 10 fields, saw 11\\nSkipping line 8129: expected 10 fields, saw 11\\nSkipping line 8130: expected 10 fields, saw 11\\nSkipping line 8131: expected 10 fields, saw 11\\nSkipping line 8132: expected 10 fields, saw 11\\nSkipping line 8133: expected 10 fields, saw 11\\nSkipping line 8134: expected 10 fields, saw 11\\nSkipping line 8135: expected 10 fields, saw 11\\nSkipping line 8136: expected 10 fields, saw 11\\nSkipping line 8137: expected 10 fields, saw 11\\nSkipping line 8138: expected 10 fields, saw 11\\nSkipping line 8139: expected 10 fields, saw 12\\nSkipping line 8140: expected 10 fields, saw 12\\nSkipping line 8141: expected 10 fields, saw 12\\nSkipping line 8155: expected 10 fields, saw 12\\nSkipping line 8156: expected 10 fields, saw 12\\nSkipping line 8157: expected 10 fields, saw 12\\nSkipping line 8159: expected 10 fields, saw 12\\nSkipping line 8160: expected 10 fields, saw 12\\nSkipping line 8161: expected 10 fields, saw 12\\nSkipping line 8162: expected 10 fields, saw 12\\nSkipping line 8163: expected 10 fields, saw 12\\nSkipping line 8164: expected 10 fields, saw 12\\nSkipping line 8165: expected 10 fields, saw 12\\nSkipping line 8166: expected 10 fields, saw 12\\nSkipping line 8167: expected 10 fields, saw 12\\nSkipping line 8168: expected 10 fields, saw 12\\nSkipping line 8169: expected 10 fields, saw 12\\nSkipping line 8170: expected 10 fields, saw 12\\nSkipping line 8171: expected 10 fields, saw 12\\nSkipping line 8172: expected 10 fields, saw 12\\nSkipping line 8173: expected 10 fields, saw 12\\nSkipping line 8174: expected 10 fields, saw 12\\nSkipping line 8175: expected 10 fields, saw 12\\nSkipping line 8176: expected 10 fields, saw 12\\nSkipping line 8177: expected 10 fields, saw 12\\nSkipping line 8178: expected 10 fields, saw 12\\nSkipping line 8179: expected 10 fields, saw 12\\nSkipping line 8180: expected 10 fields, saw 12\\nSkipping line 8181: expected 10 fields, saw 12\\nSkipping line 8182: expected 10 fields, saw 12\\nSkipping line 8183: expected 10 fields, saw 12\\nSkipping line 8184: expected 10 fields, saw 12\\nSkipping line 8186: expected 10 fields, saw 12\\nSkipping line 8187: expected 10 fields, saw 12\\nSkipping line 8189: expected 10 fields, saw 12\\nSkipping line 8190: expected 10 fields, saw 12\\nSkipping line 8191: expected 10 fields, saw 12\\nSkipping line 8192: expected 10 fields, saw 12\\nSkipping line 8193: expected 10 fields, saw 12\\nSkipping line 8194: expected 10 fields, saw 12\\nSkipping line 8195: expected 10 fields, saw 12\\nSkipping line 8196: expected 10 fields, saw 12\\nSkipping line 8197: expected 10 fields, saw 12\\nSkipping line 8203: expected 10 fields, saw 11\\nSkipping line 8204: expected 10 fields, saw 12\\nSkipping line 8205: expected 10 fields, saw 12\\nSkipping line 8206: expected 10 fields, saw 12\\nSkipping line 8207: expected 10 fields, saw 12\\nSkipping line 8208: expected 10 fields, saw 12\\nSkipping line 8209: expected 10 fields, saw 12\\nSkipping line 8210: expected 10 fields, saw 12\\nSkipping line 8211: expected 10 fields, saw 12\\nSkipping line 8212: expected 10 fields, saw 12\\nSkipping line 8213: expected 10 fields, saw 12\\nSkipping line 8214: expected 10 fields, saw 12\\nSkipping line 8215: expected 10 fields, saw 12\\nSkipping line 8216: expected 10 fields, saw 12\\nSkipping line 8233: expected 10 fields, saw 12\\nSkipping line 8249: expected 10 fields, saw 12\\nSkipping line 8250: expected 10 fields, saw 12\\nSkipping line 8256: expected 10 fields, saw 12\\nSkipping line 8294: expected 10 fields, saw 11\\nSkipping line 8295: expected 10 fields, saw 11\\nSkipping line 8296: expected 10 fields, saw 11\\nSkipping line 8297: expected 10 fields, saw 11\\nSkipping line 8298: expected 10 fields, saw 11\\nSkipping line 8299: expected 10 fields, saw 11\\nSkipping line 8300: expected 10 fields, saw 11\\nSkipping line 8301: expected 10 fields, saw 11\\nSkipping line 8302: expected 10 fields, saw 11\\nSkipping line 8303: expected 10 fields, saw 11\\nSkipping line 8304: expected 10 fields, saw 11\\nSkipping line 8305: expected 10 fields, saw 11\\nSkipping line 8409: expected 10 fields, saw 12\\nSkipping line 8410: expected 10 fields, saw 12\\nSkipping line 8411: expected 10 fields, saw 12\\nSkipping line 8412: expected 10 fields, saw 12\\nSkipping line 8413: expected 10 fields, saw 12\\nSkipping line 8414: expected 10 fields, saw 12\\nSkipping line 8415: expected 10 fields, saw 12\\nSkipping line 8416: expected 10 fields, saw 12\\nSkipping line 8417: expected 10 fields, saw 12\\nSkipping line 8418: expected 10 fields, saw 12\\nSkipping line 8419: expected 10 fields, saw 12\\nSkipping line 8420: expected 10 fields, saw 12\\nSkipping line 8421: expected 10 fields, saw 12\\nSkipping line 8422: expected 10 fields, saw 12\\nSkipping line 8423: expected 10 fields, saw 12\\nSkipping line 8424: expected 10 fields, saw 12\\nSkipping line 8425: expected 10 fields, saw 12\\nSkipping line 8426: expected 10 fields, saw 12\\nSkipping line 8427: expected 10 fields, saw 12\\nSkipping line 8428: expected 10 fields, saw 12\\nSkipping line 8429: expected 10 fields, saw 12\\nSkipping line 8430: expected 10 fields, saw 12\\nSkipping line 8431: expected 10 fields, saw 12\\nSkipping line 8432: expected 10 fields, saw 12\\nSkipping line 8434: expected 10 fields, saw 12\\nSkipping line 8435: expected 10 fields, saw 12\\nSkipping line 8436: expected 10 fields, saw 12\\nSkipping line 8437: expected 10 fields, saw 12\\nSkipping line 8438: expected 10 fields, saw 12\\nSkipping line 8439: expected 10 fields, saw 12\\nSkipping line 8440: expected 10 fields, saw 12\\nSkipping line 8441: expected 10 fields, saw 12\\nSkipping line 8442: expected 10 fields, saw 12\\nSkipping line 8443: expected 10 fields, saw 12\\nSkipping line 8444: expected 10 fields, saw 12\\nSkipping line 8445: expected 10 fields, saw 12\\nSkipping line 8446: expected 10 fields, saw 12\\nSkipping line 8447: expected 10 fields, saw 12\\nSkipping line 8448: expected 10 fields, saw 12\\nSkipping line 8449: expected 10 fields, saw 12\\nSkipping line 8450: expected 10 fields, saw 12\\nSkipping line 8451: expected 10 fields, saw 12\\nSkipping line 8452: expected 10 fields, saw 12\\nSkipping line 8455: expected 10 fields, saw 12\\nSkipping line 8456: expected 10 fields, saw 12\\nSkipping line 8457: expected 10 fields, saw 12\\nSkipping line 8458: expected 10 fields, saw 12\\nSkipping line 8459: expected 10 fields, saw 12\\nSkipping line 8460: expected 10 fields, saw 12\\nSkipping line 8462: expected 10 fields, saw 12\\nSkipping line 8463: expected 10 fields, saw 12\\nSkipping line 8464: expected 10 fields, saw 12\\nSkipping line 8465: expected 10 fields, saw 12\\nSkipping line 8466: expected 10 fields, saw 12\\nSkipping line 8467: expected 10 fields, saw 12\\nSkipping line 8468: expected 10 fields, saw 12\\nSkipping line 8469: expected 10 fields, saw 12\\nSkipping line 8470: expected 10 fields, saw 12\\nSkipping line 8471: expected 10 fields, saw 12\\nSkipping line 8472: expected 10 fields, saw 12\\nSkipping line 8473: expected 10 fields, saw 12\\nSkipping line 8474: expected 10 fields, saw 12\\nSkipping line 8475: expected 10 fields, saw 12\\nSkipping line 8476: expected 10 fields, saw 12\\nSkipping line 8477: expected 10 fields, saw 12\\nSkipping line 8478: expected 10 fields, saw 12\\nSkipping line 8479: expected 10 fields, saw 12\\nSkipping line 8483: expected 10 fields, saw 12\\nSkipping line 8484: expected 10 fields, saw 12\\nSkipping line 8485: expected 10 fields, saw 12\\nSkipping line 8486: expected 10 fields, saw 12\\nSkipping line 8487: expected 10 fields, saw 12\\nSkipping line 8488: expected 10 fields, saw 12\\nSkipping line 8489: expected 10 fields, saw 12\\nSkipping line 8490: expected 10 fields, saw 12\\nSkipping line 8491: expected 10 fields, saw 12\\nSkipping line 8492: expected 10 fields, saw 12\\nSkipping line 8493: expected 10 fields, saw 12\\nSkipping line 8494: expected 10 fields, saw 12\\nSkipping line 8495: expected 10 fields, saw 12\\nSkipping line 8496: expected 10 fields, saw 12\\nSkipping line 8497: expected 10 fields, saw 12\\nSkipping line 8498: expected 10 fields, saw 12\\nSkipping line 8499: expected 10 fields, saw 12\\nSkipping line 8500: expected 10 fields, saw 12\\nSkipping line 8501: expected 10 fields, saw 12\\nSkipping line 8502: expected 10 fields, saw 12\\nSkipping line 8503: expected 10 fields, saw 12\\nSkipping line 8504: expected 10 fields, saw 12\\nSkipping line 8505: expected 10 fields, saw 12\\nSkipping line 8506: expected 10 fields, saw 12\\nSkipping line 8507: expected 10 fields, saw 12\\nSkipping line 8508: expected 10 fields, saw 12\\nSkipping line 8509: expected 10 fields, saw 12\\nSkipping line 8511: expected 10 fields, saw 12\\nSkipping line 8512: expected 10 fields, saw 12\\nSkipping line 8513: expected 10 fields, saw 12\\nSkipping line 8514: expected 10 fields, saw 12\\nSkipping line 8515: expected 10 fields, saw 12\\nSkipping line 8516: expected 10 fields, saw 12\\nSkipping line 8517: expected 10 fields, saw 12\\nSkipping line 8518: expected 10 fields, saw 12\\nSkipping line 8519: expected 10 fields, saw 12\\nSkipping line 8520: expected 10 fields, saw 12\\nSkipping line 8521: expected 10 fields, saw 12\\nSkipping line 8522: expected 10 fields, saw 12\\nSkipping line 8523: expected 10 fields, saw 12\\nSkipping line 8524: expected 10 fields, saw 12\\nSkipping line 8525: expected 10 fields, saw 12\\nSkipping line 8526: expected 10 fields, saw 12\\nSkipping line 8527: expected 10 fields, saw 12\\nSkipping line 8528: expected 10 fields, saw 12\\nSkipping line 8529: expected 10 fields, saw 12\\nSkipping line 8530: expected 10 fields, saw 12\\nSkipping line 8531: expected 10 fields, saw 12\\nSkipping line 8532: expected 10 fields, saw 12\\nSkipping line 8533: expected 10 fields, saw 12\\nSkipping line 8534: expected 10 fields, saw 12\\nSkipping line 8535: expected 10 fields, saw 13\\nSkipping line 8536: expected 10 fields, saw 12\\nSkipping line 8537: expected 10 fields, saw 12\\nSkipping line 8538: expected 10 fields, saw 12\\nSkipping line 8539: expected 10 fields, saw 12\\nSkipping line 8540: expected 10 fields, saw 12\\nSkipping line 8541: expected 10 fields, saw 12\\nSkipping line 8542: expected 10 fields, saw 12\\nSkipping line 8543: expected 10 fields, saw 12\\nSkipping line 8544: expected 10 fields, saw 12\\nSkipping line 8545: expected 10 fields, saw 12\\nSkipping line 8546: expected 10 fields, saw 12\\nSkipping line 8547: expected 10 fields, saw 12\\nSkipping line 8548: expected 10 fields, saw 12\\nSkipping line 8549: expected 10 fields, saw 12\\nSkipping line 8550: expected 10 fields, saw 12\\nSkipping line 8551: expected 10 fields, saw 12\\nSkipping line 8552: expected 10 fields, saw 12\\nSkipping line 8553: expected 10 fields, saw 12\\nSkipping line 8554: expected 10 fields, saw 12\\nSkipping line 8555: expected 10 fields, saw 12\\nSkipping line 8556: expected 10 fields, saw 12\\nSkipping line 8557: expected 10 fields, saw 12\\nSkipping line 8558: expected 10 fields, saw 12\\nSkipping line 8559: expected 10 fields, saw 12\\nSkipping line 8561: expected 10 fields, saw 12\\nSkipping line 8562: expected 10 fields, saw 12\\nSkipping line 8563: expected 10 fields, saw 12\\nSkipping line 8564: expected 10 fields, saw 12\\nSkipping line 8566: expected 10 fields, saw 12\\nSkipping line 8567: expected 10 fields, saw 12\\nSkipping line 8568: expected 10 fields, saw 12\\nSkipping line 8569: expected 10 fields, saw 12\\nSkipping line 8571: expected 10 fields, saw 12\\nSkipping line 8572: expected 10 fields, saw 12\\nSkipping line 8573: expected 10 fields, saw 12\\nSkipping line 8591: expected 10 fields, saw 12\\nSkipping line 8592: expected 10 fields, saw 12\\nSkipping line 8593: expected 10 fields, saw 12\\nSkipping line 8594: expected 10 fields, saw 12\\nSkipping line 8595: expected 10 fields, saw 12\\nSkipping line 8596: expected 10 fields, saw 12\\nSkipping line 8603: expected 10 fields, saw 12\\nSkipping line 8610: expected 10 fields, saw 12\\nSkipping line 8611: expected 10 fields, saw 12\\nSkipping line 8612: expected 10 fields, saw 12\\nSkipping line 8613: expected 10 fields, saw 12\\nSkipping line 8614: expected 10 fields, saw 12\\nSkipping line 8615: expected 10 fields, saw 12\\nSkipping line 8616: expected 10 fields, saw 12\\nSkipping line 8750: expected 10 fields, saw 11\\nSkipping line 8849: expected 10 fields, saw 11\\nSkipping line 8887: expected 10 fields, saw 11\\nSkipping line 8888: expected 10 fields, saw 11\\nSkipping line 8889: expected 10 fields, saw 11\\nSkipping line 8890: expected 10 fields, saw 11\\nSkipping line 8891: expected 10 fields, saw 11\\nSkipping line 8892: expected 10 fields, saw 11\\nSkipping line 8893: expected 10 fields, saw 11\\nSkipping line 8894: expected 10 fields, saw 11\\nSkipping line 8895: expected 10 fields, saw 11\\nSkipping line 8896: expected 10 fields, saw 11\\nSkipping line 8897: expected 10 fields, saw 11\\nSkipping line 8898: expected 10 fields, saw 11\\nSkipping line 8899: expected 10 fields, saw 11\\nSkipping line 8900: expected 10 fields, saw 11\\nSkipping line 8901: expected 10 fields, saw 11\\nSkipping line 8902: expected 10 fields, saw 11\\nSkipping line 8903: expected 10 fields, saw 11\\nSkipping line 8904: expected 10 fields, saw 11\\nSkipping line 8905: expected 10 fields, saw 11\\nSkipping line 8906: expected 10 fields, saw 11\\nSkipping line 8907: expected 10 fields, saw 11\\nSkipping line 8908: expected 10 fields, saw 11\\nSkipping line 8909: expected 10 fields, saw 11\\nSkipping line 8910: expected 10 fields, saw 11\\nSkipping line 8911: expected 10 fields, saw 11\\nSkipping line 8912: expected 10 fields, saw 11\\nSkipping line 8913: expected 10 fields, saw 11\\nSkipping line 8914: expected 10 fields, saw 11\\nSkipping line 8915: expected 10 fields, saw 11\\nSkipping line 8916: expected 10 fields, saw 11\\nSkipping line 8917: expected 10 fields, saw 11\\nSkipping line 8918: expected 10 fields, saw 11\\nSkipping line 8919: expected 10 fields, saw 11\\nSkipping line 8920: expected 10 fields, saw 11\\nSkipping line 8921: expected 10 fields, saw 11\\nSkipping line 8922: expected 10 fields, saw 11\\nSkipping line 8923: expected 10 fields, saw 11\\nSkipping line 8924: expected 10 fields, saw 11\\nSkipping line 8925: expected 10 fields, saw 11\\nSkipping line 8926: expected 10 fields, saw 11\\nSkipping line 8927: expected 10 fields, saw 11\\nSkipping line 8928: expected 10 fields, saw 11\\nSkipping line 8929: expected 10 fields, saw 11\\nSkipping line 8930: expected 10 fields, saw 11\\nSkipping line 8931: expected 10 fields, saw 11\\nSkipping line 8932: expected 10 fields, saw 11\\nSkipping line 8933: expected 10 fields, saw 11\\nSkipping line 8934: expected 10 fields, saw 11\\nSkipping line 8935: expected 10 fields, saw 11\\nSkipping line 8936: expected 10 fields, saw 11\\nSkipping line 8937: expected 10 fields, saw 11\\nSkipping line 8938: expected 10 fields, saw 11\\nSkipping line 8939: expected 10 fields, saw 11\\nSkipping line 8940: expected 10 fields, saw 11\\nSkipping line 8941: expected 10 fields, saw 11\\nSkipping line 8942: expected 10 fields, saw 11\\nSkipping line 8943: expected 10 fields, saw 11\\nSkipping line 8944: expected 10 fields, saw 11\\nSkipping line 8945: expected 10 fields, saw 11\\nSkipping line 8946: expected 10 fields, saw 11\\nSkipping line 8947: expected 10 fields, saw 11\\nSkipping line 8948: expected 10 fields, saw 11\\nSkipping line 8949: expected 10 fields, saw 11\\nSkipping line 8950: expected 10 fields, saw 11\\nSkipping line 8951: expected 10 fields, saw 11\\nSkipping line 8952: expected 10 fields, saw 11\\nSkipping line 8953: expected 10 fields, saw 11\\nSkipping line 8954: expected 10 fields, saw 11\\nSkipping line 8955: expected 10 fields, saw 11\\nSkipping line 8956: expected 10 fields, saw 11\\nSkipping line 8957: expected 10 fields, saw 11\\nSkipping line 8958: expected 10 fields, saw 11\\nSkipping line 8959: expected 10 fields, saw 11\\nSkipping line 8960: expected 10 fields, saw 11\\nSkipping line 8961: expected 10 fields, saw 11\\nSkipping line 8962: expected 10 fields, saw 11\\nSkipping line 8963: expected 10 fields, saw 11\\nSkipping line 8964: expected 10 fields, saw 11\\nSkipping line 8965: expected 10 fields, saw 11\\nSkipping line 8966: expected 10 fields, saw 11\\nSkipping line 8967: expected 10 fields, saw 11\\nSkipping line 8968: expected 10 fields, saw 11\\nSkipping line 8969: expected 10 fields, saw 11\\nSkipping line 8970: expected 10 fields, saw 11\\nSkipping line 8971: expected 10 fields, saw 11\\nSkipping line 8972: expected 10 fields, saw 11\\nSkipping line 8973: expected 10 fields, saw 11\\nSkipping line 8974: expected 10 fields, saw 11\\nSkipping line 8975: expected 10 fields, saw 11\\nSkipping line 8993: expected 10 fields, saw 12\\nSkipping line 8994: expected 10 fields, saw 12\\nSkipping line 8996: expected 10 fields, saw 12\\nSkipping line 9000: expected 10 fields, saw 12\\nSkipping line 9001: expected 10 fields, saw 12\\nSkipping line 9003: expected 10 fields, saw 12\\nSkipping line 9004: expected 10 fields, saw 12\\nSkipping line 9005: expected 10 fields, saw 12\\nSkipping line 9007: expected 10 fields, saw 12\\nSkipping line 9008: expected 10 fields, saw 12\\nSkipping line 9009: expected 10 fields, saw 12\\nSkipping line 9010: expected 10 fields, saw 12\\nSkipping line 9011: expected 10 fields, saw 12\\nSkipping line 9012: expected 10 fields, saw 12\\nSkipping line 9013: expected 10 fields, saw 12\\nSkipping line 9014: expected 10 fields, saw 12\\nSkipping line 9015: expected 10 fields, saw 12\\nSkipping line 9016: expected 10 fields, saw 12\\nSkipping line 9017: expected 10 fields, saw 12\\nSkipping line 9025: expected 10 fields, saw 12\\nSkipping line 9026: expected 10 fields, saw 12\\nSkipping line 9027: expected 10 fields, saw 12\\nSkipping line 9028: expected 10 fields, saw 12\\nSkipping line 9029: expected 10 fields, saw 12\\nSkipping line 9030: expected 10 fields, saw 12\\nSkipping line 9031: expected 10 fields, saw 12\\nSkipping line 9032: expected 10 fields, saw 12\\nSkipping line 9046: expected 10 fields, saw 12\\nSkipping line 9049: expected 10 fields, saw 12\\nSkipping line 9050: expected 10 fields, saw 12\\nSkipping line 9051: expected 10 fields, saw 12\\nSkipping line 9053: expected 10 fields, saw 12\\nSkipping line 9054: expected 10 fields, saw 12\\nSkipping line 9055: expected 10 fields, saw 12\\nSkipping line 9056: expected 10 fields, saw 12\\nSkipping line 9058: expected 10 fields, saw 12\\nSkipping line 9059: expected 10 fields, saw 12\\nSkipping line 9060: expected 10 fields, saw 12\\nSkipping line 9061: expected 10 fields, saw 12\\nSkipping line 9062: expected 10 fields, saw 12\\nSkipping line 9063: expected 10 fields, saw 12\\nSkipping line 9064: expected 10 fields, saw 12\\nSkipping line 9085: expected 10 fields, saw 12\\nSkipping line 9087: expected 10 fields, saw 12\\nSkipping line 9088: expected 10 fields, saw 12\\nSkipping line 9089: expected 10 fields, saw 12\\nSkipping line 9090: expected 10 fields, saw 12\\nSkipping line 9092: expected 10 fields, saw 12\\nSkipping line 9093: expected 10 fields, saw 12\\nSkipping line 9094: expected 10 fields, saw 12\\nSkipping line 9095: expected 10 fields, saw 12\\nSkipping line 9096: expected 10 fields, saw 12\\nSkipping line 9097: expected 10 fields, saw 12\\nSkipping line 9099: expected 10 fields, saw 12\\nSkipping line 9100: expected 10 fields, saw 12\\nSkipping line 9101: expected 10 fields, saw 12\\nSkipping line 9102: expected 10 fields, saw 12\\nSkipping line 9103: expected 10 fields, saw 12\\nSkipping line 9104: expected 10 fields, saw 12\\nSkipping line 9105: expected 10 fields, saw 12\\nSkipping line 9106: expected 10 fields, saw 12\\nSkipping line 9107: expected 10 fields, saw 12\\nSkipping line 9108: expected 10 fields, saw 12\\nSkipping line 9109: expected 10 fields, saw 12\\nSkipping line 9110: expected 10 fields, saw 12\\nSkipping line 9111: expected 10 fields, saw 12\\nSkipping line 9112: expected 10 fields, saw 12\\nSkipping line 9113: expected 10 fields, saw 12\\nSkipping line 9114: expected 10 fields, saw 12\\nSkipping line 9115: expected 10 fields, saw 12\\nSkipping line 9116: expected 10 fields, saw 12\\nSkipping line 9119: expected 10 fields, saw 12\\nSkipping line 9120: expected 10 fields, saw 12\\nSkipping line 9121: expected 10 fields, saw 12\\nSkipping line 9122: expected 10 fields, saw 12\\nSkipping line 9123: expected 10 fields, saw 12\\nSkipping line 9124: expected 10 fields, saw 12\\nSkipping line 9125: expected 10 fields, saw 12\\nSkipping line 9126: expected 10 fields, saw 12\\nSkipping line 9127: expected 10 fields, saw 12\\nSkipping line 9128: expected 10 fields, saw 12\\nSkipping line 9129: expected 10 fields, saw 12\\nSkipping line 9130: expected 10 fields, saw 12\\nSkipping line 9131: expected 10 fields, saw 12\\nSkipping line 9132: expected 10 fields, saw 12\\nSkipping line 9133: expected 10 fields, saw 12\\nSkipping line 9134: expected 10 fields, saw 12\\nSkipping line 9135: expected 10 fields, saw 12\\nSkipping line 9136: expected 10 fields, saw 12\\nSkipping line 9137: expected 10 fields, saw 12\\nSkipping line 9138: expected 10 fields, saw 12\\nSkipping line 9139: expected 10 fields, saw 12\\nSkipping line 9140: expected 10 fields, saw 12\\nSkipping line 9141: expected 10 fields, saw 12\\nSkipping line 9142: expected 10 fields, saw 12\\nSkipping line 9143: expected 10 fields, saw 12\\nSkipping line 9144: expected 10 fields, saw 12\\nSkipping line 9145: expected 10 fields, saw 12\\nSkipping line 9146: expected 10 fields, saw 12\\nSkipping line 9147: expected 10 fields, saw 12\\nSkipping line 9148: expected 10 fields, saw 12\\nSkipping line 9165: expected 10 fields, saw 12\\nSkipping line 9166: expected 10 fields, saw 12\\nSkipping line 9167: expected 10 fields, saw 12\\nSkipping line 9168: expected 10 fields, saw 12\\nSkipping line 9169: expected 10 fields, saw 12\\nSkipping line 9170: expected 10 fields, saw 12\\nSkipping line 9171: expected 10 fields, saw 12\\nSkipping line 9172: expected 10 fields, saw 12\\nSkipping line 9173: expected 10 fields, saw 12\\nSkipping line 9175: expected 10 fields, saw 12\\nSkipping line 9176: expected 10 fields, saw 12\\nSkipping line 9177: expected 10 fields, saw 12\\nSkipping line 9178: expected 10 fields, saw 12\\nSkipping line 9179: expected 10 fields, saw 12\\nSkipping line 9180: expected 10 fields, saw 12\\nSkipping line 9181: expected 10 fields, saw 12\\nSkipping line 9182: expected 10 fields, saw 12\\nSkipping line 9183: expected 10 fields, saw 12\\nSkipping line 9184: expected 10 fields, saw 12\\nSkipping line 9185: expected 10 fields, saw 12\\nSkipping line 9186: expected 10 fields, saw 12\\nSkipping line 9187: expected 10 fields, saw 12\\nSkipping line 9188: expected 10 fields, saw 12\\nSkipping line 9189: expected 10 fields, saw 12\\nSkipping line 9190: expected 10 fields, saw 12\\nSkipping line 9191: expected 10 fields, saw 12\\nSkipping line 9192: expected 10 fields, saw 12\\nSkipping line 9194: expected 10 fields, saw 12\\nSkipping line 9195: expected 10 fields, saw 12\\nSkipping line 9196: expected 10 fields, saw 12\\nSkipping line 9197: expected 10 fields, saw 12\\nSkipping line 9198: expected 10 fields, saw 12\\nSkipping line 9199: expected 10 fields, saw 12\\nSkipping line 9200: expected 10 fields, saw 12\\nSkipping line 9201: expected 10 fields, saw 12\\nSkipping line 9202: expected 10 fields, saw 12\\nSkipping line 9203: expected 10 fields, saw 12\\nSkipping line 9204: expected 10 fields, saw 12\\nSkipping line 9205: expected 10 fields, saw 12\\nSkipping line 9206: expected 10 fields, saw 12\\nSkipping line 9207: expected 10 fields, saw 12\\nSkipping line 9208: expected 10 fields, saw 12\\nSkipping line 9209: expected 10 fields, saw 12\\nSkipping line 9210: expected 10 fields, saw 12\\nSkipping line 9211: expected 10 fields, saw 12\\nSkipping line 9212: expected 10 fields, saw 12\\nSkipping line 9213: expected 10 fields, saw 12\\nSkipping line 9214: expected 10 fields, saw 12\\nSkipping line 9215: expected 10 fields, saw 12\\nSkipping line 9216: expected 10 fields, saw 12\\nSkipping line 9243: expected 10 fields, saw 11\\nSkipping line 9245: expected 10 fields, saw 11\\nSkipping line 9246: expected 10 fields, saw 11\\nSkipping line 9248: expected 10 fields, saw 11\\nSkipping line 10615: expected 10 fields, saw 11\\nSkipping line 10616: expected 10 fields, saw 11\\nSkipping line 10617: expected 10 fields, saw 11\\nSkipping line 10618: expected 10 fields, saw 11\\nSkipping line 10619: expected 10 fields, saw 11\\nSkipping line 10620: expected 10 fields, saw 11\\nSkipping line 10621: expected 10 fields, saw 11\\nSkipping line 10622: expected 10 fields, saw 11\\nSkipping line 10623: expected 10 fields, saw 11\\nSkipping line 10624: expected 10 fields, saw 11\\nSkipping line 10625: expected 10 fields, saw 11\\nSkipping line 10626: expected 10 fields, saw 11\\nSkipping line 10627: expected 10 fields, saw 11\\nSkipping line 10628: expected 10 fields, saw 11\\nSkipping line 10629: expected 10 fields, saw 11\\nSkipping line 10630: expected 10 fields, saw 11\\nSkipping line 10631: expected 10 fields, saw 11\\nSkipping line 10632: expected 10 fields, saw 11\\nSkipping line 10633: expected 10 fields, saw 11\\nSkipping line 10634: expected 10 fields, saw 11\\nSkipping line 10635: expected 10 fields, saw 11\\nSkipping line 10636: expected 10 fields, saw 11\\nSkipping line 10637: expected 10 fields, saw 11\\nSkipping line 10638: expected 10 fields, saw 11\\nSkipping line 10639: expected 10 fields, saw 11\\nSkipping line 10640: expected 10 fields, saw 11\\nSkipping line 10641: expected 10 fields, saw 11\\nSkipping line 10642: expected 10 fields, saw 11\\nSkipping line 10643: expected 10 fields, saw 11\\nSkipping line 10644: expected 10 fields, saw 11\\nSkipping line 10645: expected 10 fields, saw 11\\nSkipping line 10646: expected 10 fields, saw 11\\nSkipping line 10647: expected 10 fields, saw 11\\nSkipping line 10648: expected 10 fields, saw 11\\nSkipping line 10649: expected 10 fields, saw 11\\nSkipping line 10650: expected 10 fields, saw 11\\nSkipping line 10651: expected 10 fields, saw 11\\nSkipping line 10652: expected 10 fields, saw 11\\nSkipping line 10653: expected 10 fields, saw 11\\nSkipping line 10654: expected 10 fields, saw 11\\nSkipping line 10655: expected 10 fields, saw 11\\nSkipping line 10656: expected 10 fields, saw 11\\nSkipping line 10657: expected 10 fields, saw 11\\nSkipping line 10658: expected 10 fields, saw 11\\nSkipping line 10659: expected 10 fields, saw 11\\nSkipping line 10660: expected 10 fields, saw 11\\nSkipping line 10661: expected 10 fields, saw 11\\nSkipping line 10662: expected 10 fields, saw 11\\nSkipping line 10663: expected 10 fields, saw 11\\nSkipping line 10664: expected 10 fields, saw 11\\nSkipping line 10665: expected 10 fields, saw 11\\nSkipping line 10666: expected 10 fields, saw 11\\nSkipping line 10667: expected 10 fields, saw 11\\nSkipping line 10772: expected 10 fields, saw 11\\nSkipping line 10798: expected 10 fields, saw 11\\nSkipping line 10799: expected 10 fields, saw 11\\nSkipping line 12343: expected 10 fields, saw 11\\nSkipping line 12380: expected 10 fields, saw 11\\nSkipping line 12400: expected 10 fields, saw 11\\nSkipping line 12401: expected 10 fields, saw 11\\nSkipping line 12402: expected 10 fields, saw 11\\nSkipping line 12403: expected 10 fields, saw 11\\nSkipping line 12404: expected 10 fields, saw 11\\nSkipping line 12405: expected 10 fields, saw 11\\nSkipping line 12406: expected 10 fields, saw 11\\nSkipping line 12407: expected 10 fields, saw 11\\nSkipping line 12408: expected 10 fields, saw 11\\nSkipping line 12409: expected 10 fields, saw 11\\nSkipping line 12410: expected 10 fields, saw 11\\nSkipping line 12411: expected 10 fields, saw 11\\nSkipping line 12412: expected 10 fields, saw 11\\nSkipping line 12413: expected 10 fields, saw 11\\nSkipping line 12414: expected 10 fields, saw 11\\nSkipping line 12415: expected 10 fields, saw 11\\nSkipping line 12416: expected 10 fields, saw 11\\nSkipping line 12417: expected 10 fields, saw 11\\nSkipping line 12418: expected 10 fields, saw 11\\nSkipping line 12419: expected 10 fields, saw 11\\nSkipping line 12420: expected 10 fields, saw 11\\nSkipping line 12421: expected 10 fields, saw 11\\nSkipping line 12422: expected 10 fields, saw 11\\nSkipping line 12423: expected 10 fields, saw 11\\nSkipping line 12424: expected 10 fields, saw 11\\nSkipping line 12425: expected 10 fields, saw 11\\nSkipping line 12426: expected 10 fields, saw 11\\nSkipping line 12427: expected 10 fields, saw 11\\nSkipping line 12428: expected 10 fields, saw 11\\nSkipping line 12429: expected 10 fields, saw 11\\nSkipping line 12451: expected 10 fields, saw 11\\nSkipping line 12485: expected 10 fields, saw 11\\nSkipping line 12486: expected 10 fields, saw 11\\nSkipping line 12487: expected 10 fields, saw 11\\nSkipping line 12995: expected 10 fields, saw 11\\nSkipping line 12996: expected 10 fields, saw 11\\nSkipping line 12997: expected 10 fields, saw 11\\nSkipping line 12998: expected 10 fields, saw 11\\nSkipping line 12999: expected 10 fields, saw 11\\nSkipping line 13000: expected 10 fields, saw 11\\nSkipping line 13001: expected 10 fields, saw 11\\nSkipping line 13002: expected 10 fields, saw 11\\nSkipping line 13003: expected 10 fields, saw 11\\nSkipping line 13004: expected 10 fields, saw 11\\nSkipping line 13005: expected 10 fields, saw 11\\nSkipping line 13006: expected 10 fields, saw 11\\nSkipping line 13007: expected 10 fields, saw 11\\nSkipping line 13008: expected 10 fields, saw 11\\nSkipping line 13009: expected 10 fields, saw 11\\nSkipping line 13010: expected 10 fields, saw 11\\nSkipping line 13011: expected 10 fields, saw 11\\nSkipping line 13012: expected 10 fields, saw 11\\nSkipping line 13013: expected 10 fields, saw 11\\nSkipping line 13014: expected 10 fields, saw 11\\nSkipping line 13015: expected 10 fields, saw 11\\nSkipping line 13016: expected 10 fields, saw 11\\nSkipping line 13017: expected 10 fields, saw 11\\nSkipping line 13018: expected 10 fields, saw 11\\nSkipping line 13019: expected 10 fields, saw 11\\nSkipping line 13020: expected 10 fields, saw 11\\nSkipping line 13021: expected 10 fields, saw 11\\nSkipping line 13253: expected 10 fields, saw 11\\nSkipping line 13254: expected 10 fields, saw 11\\nSkipping line 13255: expected 10 fields, saw 11\\nSkipping line 13257: expected 10 fields, saw 11\\nSkipping line 13342: expected 10 fields, saw 11\\nSkipping line 13607: expected 10 fields, saw 12\\nSkipping line 13617: expected 10 fields, saw 11\\nSkipping line 13618: expected 10 fields, saw 11\\nSkipping line 13619: expected 10 fields, saw 11\\nSkipping line 13620: expected 10 fields, saw 11\\nSkipping line 13621: expected 10 fields, saw 11\\nSkipping line 13622: expected 10 fields, saw 11\\nSkipping line 13623: expected 10 fields, saw 11\\nSkipping line 13624: expected 10 fields, saw 11\\nSkipping line 13625: expected 10 fields, saw 11\\nSkipping line 13626: expected 10 fields, saw 11\\nSkipping line 13627: expected 10 fields, saw 11\\nSkipping line 13628: expected 10 fields, saw 11\\nSkipping line 13629: expected 10 fields, saw 11\\nSkipping line 13630: expected 10 fields, saw 11\\nSkipping line 13631: expected 10 fields, saw 11\\nSkipping line 13632: expected 10 fields, saw 11\\nSkipping line 13633: expected 10 fields, saw 11\\nSkipping line 13634: expected 10 fields, saw 11\\nSkipping line 13635: expected 10 fields, saw 11\\nSkipping line 13636: expected 10 fields, saw 11\\nSkipping line 13637: expected 10 fields, saw 11\\nSkipping line 13638: expected 10 fields, saw 11\\nSkipping line 13639: expected 10 fields, saw 11\\nSkipping line 13640: expected 10 fields, saw 11\\nSkipping line 13641: expected 10 fields, saw 11\\nSkipping line 13642: expected 10 fields, saw 11\\nSkipping line 13643: expected 10 fields, saw 11\\nSkipping line 13644: expected 10 fields, saw 11\\nSkipping line 13645: expected 10 fields, saw 11\\nSkipping line 13646: expected 10 fields, saw 11\\nSkipping line 13747: expected 10 fields, saw 11\\nSkipping line 13748: expected 10 fields, saw 11\\nSkipping line 13749: expected 10 fields, saw 11\\nSkipping line 13750: expected 10 fields, saw 11\\nSkipping line 13751: expected 10 fields, saw 11\\nSkipping line 13752: expected 10 fields, saw 11\\nSkipping line 13753: expected 10 fields, saw 11\\nSkipping line 13754: expected 10 fields, saw 11\\nSkipping line 13755: expected 10 fields, saw 11\\nSkipping line 13756: expected 10 fields, saw 11\\nSkipping line 13757: expected 10 fields, saw 11\\nSkipping line 13758: expected 10 fields, saw 11\\nSkipping line 13759: expected 10 fields, saw 11\\nSkipping line 13760: expected 10 fields, saw 11\\nSkipping line 13761: expected 10 fields, saw 11\\nSkipping line 13762: expected 10 fields, saw 11\\nSkipping line 13763: expected 10 fields, saw 11\\nSkipping line 13764: expected 10 fields, saw 11\\nSkipping line 13765: expected 10 fields, saw 11\\nSkipping line 13766: expected 10 fields, saw 11\\nSkipping line 13767: expected 10 fields, saw 11\\nSkipping line 13768: expected 10 fields, saw 11\\nSkipping line 13769: expected 10 fields, saw 11\\nSkipping line 13770: expected 10 fields, saw 11\\nSkipping line 13771: expected 10 fields, saw 11\\nSkipping line 13772: expected 10 fields, saw 11\\nSkipping line 13773: expected 10 fields, saw 11\\nSkipping line 13774: expected 10 fields, saw 11\\nSkipping line 13775: expected 10 fields, saw 11\\nSkipping line 13776: expected 10 fields, saw 11\\nSkipping line 13777: expected 10 fields, saw 11\\nSkipping line 13778: expected 10 fields, saw 11\\nSkipping line 13779: expected 10 fields, saw 11\\nSkipping line 13780: expected 10 fields, saw 11\\nSkipping line 13781: expected 10 fields, saw 11\\nSkipping line 13782: expected 10 fields, saw 11\\nSkipping line 13783: expected 10 fields, saw 11\\nSkipping line 13784: expected 10 fields, saw 11\\nSkipping line 13785: expected 10 fields, saw 11\\nSkipping line 13786: expected 10 fields, saw 11\\nSkipping line 13787: expected 10 fields, saw 11\\nSkipping line 13788: expected 10 fields, saw 11\\nSkipping line 13789: expected 10 fields, saw 11\\nSkipping line 13790: expected 10 fields, saw 11\\nSkipping line 13791: expected 10 fields, saw 11\\nSkipping line 13792: expected 10 fields, saw 11\\nSkipping line 13793: expected 10 fields, saw 11\\nSkipping line 13794: expected 10 fields, saw 11\\nSkipping line 13795: expected 10 fields, saw 11\\nSkipping line 13796: expected 10 fields, saw 11\\nSkipping line 13797: expected 10 fields, saw 11\\nSkipping line 13798: expected 10 fields, saw 11\\nSkipping line 13799: expected 10 fields, saw 11\\nSkipping line 13800: expected 10 fields, saw 11\\nSkipping line 13801: expected 10 fields, saw 11\\nSkipping line 13802: expected 10 fields, saw 11\\nSkipping line 13803: expected 10 fields, saw 11\\nSkipping line 13804: expected 10 fields, saw 11\\nSkipping line 13805: expected 10 fields, saw 11\\nSkipping line 13806: expected 10 fields, saw 11\\nSkipping line 13807: expected 10 fields, saw 11\\nSkipping line 13808: expected 10 fields, saw 11\\nSkipping line 13809: expected 10 fields, saw 11\\nSkipping line 13810: expected 10 fields, saw 11\\nSkipping line 13811: expected 10 fields, saw 11\\nSkipping line 13812: expected 10 fields, saw 11\\nSkipping line 13813: expected 10 fields, saw 11\\nSkipping line 13814: expected 10 fields, saw 11\\nSkipping line 13815: expected 10 fields, saw 11\\nSkipping line 13816: expected 10 fields, saw 11\\nSkipping line 13817: expected 10 fields, saw 11\\nSkipping line 13818: expected 10 fields, saw 11\\nSkipping line 13819: expected 10 fields, saw 11\\nSkipping line 13820: expected 10 fields, saw 11\\nSkipping line 13821: expected 10 fields, saw 11\\nSkipping line 13822: expected 10 fields, saw 11\\nSkipping line 13823: expected 10 fields, saw 11\\nSkipping line 13824: expected 10 fields, saw 11\\nSkipping line 13825: expected 10 fields, saw 11\\nSkipping line 13826: expected 10 fields, saw 11\\nSkipping line 13827: expected 10 fields, saw 11\\nSkipping line 13828: expected 10 fields, saw 11\\nSkipping line 13829: expected 10 fields, saw 11\\nSkipping line 13830: expected 10 fields, saw 11\\nSkipping line 13831: expected 10 fields, saw 11\\nSkipping line 13832: expected 10 fields, saw 11\\nSkipping line 13833: expected 10 fields, saw 11\\nSkipping line 13834: expected 10 fields, saw 11\\nSkipping line 13835: expected 10 fields, saw 11\\nSkipping line 13836: expected 10 fields, saw 11\\nSkipping line 13837: expected 10 fields, saw 11\\nSkipping line 13838: expected 10 fields, saw 11\\nSkipping line 13839: expected 10 fields, saw 11\\nSkipping line 13840: expected 10 fields, saw 11\\nSkipping line 13841: expected 10 fields, saw 11\\nSkipping line 13842: expected 10 fields, saw 11\\nSkipping line 13843: expected 10 fields, saw 11\\nSkipping line 13844: expected 10 fields, saw 11\\nSkipping line 13845: expected 10 fields, saw 11\\nSkipping line 13848: expected 10 fields, saw 11\\nSkipping line 13849: expected 10 fields, saw 11\\nSkipping line 13851: expected 10 fields, saw 11\\nSkipping line 14066: expected 10 fields, saw 11\\nSkipping line 14240: expected 10 fields, saw 11\\nSkipping line 14241: expected 10 fields, saw 11\\nSkipping line 14242: expected 10 fields, saw 11\\nSkipping line 14243: expected 10 fields, saw 11\\nSkipping line 14244: expected 10 fields, saw 11\\nSkipping line 14245: expected 10 fields, saw 11\\nSkipping line 14246: expected 10 fields, saw 11\\nSkipping line 14247: expected 10 fields, saw 11\\nSkipping line 14248: expected 10 fields, saw 11\\nSkipping line 14252: expected 10 fields, saw 11\\nSkipping line 14253: expected 10 fields, saw 11\\nSkipping line 14254: expected 10 fields, saw 11\\nSkipping line 14255: expected 10 fields, saw 11\\nSkipping line 14256: expected 10 fields, saw 11\\nSkipping line 14257: expected 10 fields, saw 11\\nSkipping line 14258: expected 10 fields, saw 11\\nSkipping line 14259: expected 10 fields, saw 11\\nSkipping line 14260: expected 10 fields, saw 11\\nSkipping line 14261: expected 10 fields, saw 11\\nSkipping line 14262: expected 10 fields, saw 11\\nSkipping line 14263: expected 10 fields, saw 11\\nSkipping line 14264: expected 10 fields, saw 11\\nSkipping line 14265: expected 10 fields, saw 11\\nSkipping line 14266: expected 10 fields, saw 11\\nSkipping line 14267: expected 10 fields, saw 11\\nSkipping line 14268: expected 10 fields, saw 11\\nSkipping line 14269: expected 10 fields, saw 11\\nSkipping line 14270: expected 10 fields, saw 11\\nSkipping line 14271: expected 10 fields, saw 11\\nSkipping line 14272: expected 10 fields, saw 11\\nSkipping line 14273: expected 10 fields, saw 11\\nSkipping line 14274: expected 10 fields, saw 11\\nSkipping line 14275: expected 10 fields, saw 11\\nSkipping line 14276: expected 10 fields, saw 11\\nSkipping line 14277: expected 10 fields, saw 11\\nSkipping line 14298: expected 10 fields, saw 11\\nSkipping line 14299: expected 10 fields, saw 11\\nSkipping line 14300: expected 10 fields, saw 11\\nSkipping line 14301: expected 10 fields, saw 11\\nSkipping line 14302: expected 10 fields, saw 11\\nSkipping line 14303: expected 10 fields, saw 11\\nSkipping line 14304: expected 10 fields, saw 11\\nSkipping line 14305: expected 10 fields, saw 11\\nSkipping line 14306: expected 10 fields, saw 11\\nSkipping line 14307: expected 10 fields, saw 11\\nSkipping line 14308: expected 10 fields, saw 11\\nSkipping line 14309: expected 10 fields, saw 11\\nSkipping line 14310: expected 10 fields, saw 11\\nSkipping line 14311: expected 10 fields, saw 11\\nSkipping line 14312: expected 10 fields, saw 11\\nSkipping line 14313: expected 10 fields, saw 11\\nSkipping line 14314: expected 10 fields, saw 11\\nSkipping line 14315: expected 10 fields, saw 11\\nSkipping line 14316: expected 10 fields, saw 11\\nSkipping line 14317: expected 10 fields, saw 11\\nSkipping line 14318: expected 10 fields, saw 11\\nSkipping line 14319: expected 10 fields, saw 11\\nSkipping line 14320: expected 10 fields, saw 11\\nSkipping line 14473: expected 10 fields, saw 11\\nSkipping line 14474: expected 10 fields, saw 11\\nSkipping line 14475: expected 10 fields, saw 11\\nSkipping line 14476: expected 10 fields, saw 11\\nSkipping line 18397: expected 10 fields, saw 11\\nSkipping line 18872: expected 10 fields, saw 11\\nSkipping line 18875: expected 10 fields, saw 11\\nSkipping line 18876: expected 10 fields, saw 11\\nSkipping line 18877: expected 10 fields, saw 11\\nSkipping line 18878: expected 10 fields, saw 11\\nSkipping line 18879: expected 10 fields, saw 11\\nSkipping line 18880: expected 10 fields, saw 11\\nSkipping line 18881: expected 10 fields, saw 11\\nSkipping line 18882: expected 10 fields, saw 11\\nSkipping line 18883: expected 10 fields, saw 11\\nSkipping line 18884: expected 10 fields, saw 11\\nSkipping line 18895: expected 10 fields, saw 11\\nSkipping line 18896: expected 10 fields, saw 11\\nSkipping line 18897: expected 10 fields, saw 11\\nSkipping line 18898: expected 10 fields, saw 11\\nSkipping line 18899: expected 10 fields, saw 11\\nSkipping line 18900: expected 10 fields, saw 11\\nSkipping line 18901: expected 10 fields, saw 11\\nSkipping line 18902: expected 10 fields, saw 11\\nSkipping line 18903: expected 10 fields, saw 11\\nSkipping line 18904: expected 10 fields, saw 11\\nSkipping line 18905: expected 10 fields, saw 11\\nSkipping line 18906: expected 10 fields, saw 11\\nSkipping line 18907: expected 10 fields, saw 11\\nSkipping line 18908: expected 10 fields, saw 11\\nSkipping line 18909: expected 10 fields, saw 11\\nSkipping line 18910: expected 10 fields, saw 11\\nSkipping line 18911: expected 10 fields, saw 11\\nSkipping line 18912: expected 10 fields, saw 11\\nSkipping line 18913: expected 10 fields, saw 11\\nSkipping line 18914: expected 10 fields, saw 11\\nSkipping line 18915: expected 10 fields, saw 11\\nSkipping line 18916: expected 10 fields, saw 11\\nSkipping line 18917: expected 10 fields, saw 11\\nSkipping line 18918: expected 10 fields, saw 11\\nSkipping line 18919: expected 10 fields, saw 11\\nSkipping line 18920: expected 10 fields, saw 11\\nSkipping line 18921: expected 10 fields, saw 11\\nSkipping line 18922: expected 10 fields, saw 11\\nSkipping line 18923: expected 10 fields, saw 11\\nSkipping line 18924: expected 10 fields, saw 11\\nSkipping line 18925: expected 10 fields, saw 11\\nSkipping line 18926: expected 10 fields, saw 11\\nSkipping line 18927: expected 10 fields, saw 11\\nSkipping line 18928: expected 10 fields, saw 11\\nSkipping line 18929: expected 10 fields, saw 11\\nSkipping line 18930: expected 10 fields, saw 11\\nSkipping line 18931: expected 10 fields, saw 11\\nSkipping line 18932: expected 10 fields, saw 11\\nSkipping line 18933: expected 10 fields, saw 11\\nSkipping line 18934: expected 10 fields, saw 11\\nSkipping line 18935: expected 10 fields, saw 11\\nSkipping line 18936: expected 10 fields, saw 11\\nSkipping line 18937: expected 10 fields, saw 11\\nSkipping line 18938: expected 10 fields, saw 11\\nSkipping line 18939: expected 10 fields, saw 11\\nSkipping line 18940: expected 10 fields, saw 11\\nSkipping line 18941: expected 10 fields, saw 11\\nSkipping line 18942: expected 10 fields, saw 11\\nSkipping line 18943: expected 10 fields, saw 11\\nSkipping line 18967: expected 10 fields, saw 11\\nSkipping line 18968: expected 10 fields, saw 11\\nSkipping line 18969: expected 10 fields, saw 11\\nSkipping line 18970: expected 10 fields, saw 11\\nSkipping line 18971: expected 10 fields, saw 11\\nSkipping line 18972: expected 10 fields, saw 11\\nSkipping line 18973: expected 10 fields, saw 11\\nSkipping line 18974: expected 10 fields, saw 11\\nSkipping line 18975: expected 10 fields, saw 11\\nSkipping line 18976: expected 10 fields, saw 11\\nSkipping line 18977: expected 10 fields, saw 11\\nSkipping line 18978: expected 10 fields, saw 11\\nSkipping line 18979: expected 10 fields, saw 11\\nSkipping line 18980: expected 10 fields, saw 11\\nSkipping line 18981: expected 10 fields, saw 11\\nSkipping line 18982: expected 10 fields, saw 11\\nSkipping line 18996: expected 10 fields, saw 11\\nSkipping line 18997: expected 10 fields, saw 11\\nSkipping line 18998: expected 10 fields, saw 11\\nSkipping line 18999: expected 10 fields, saw 11\\nSkipping line 19000: expected 10 fields, saw 11\\nSkipping line 19652: expected 10 fields, saw 11\\nSkipping line 19653: expected 10 fields, saw 11\\nSkipping line 19654: expected 10 fields, saw 11\\nSkipping line 19682: expected 10 fields, saw 11\\nSkipping line 19683: expected 10 fields, saw 11\\nSkipping line 19740: expected 10 fields, saw 11\\nSkipping line 19741: expected 10 fields, saw 11\\nSkipping line 19742: expected 10 fields, saw 11\\nSkipping line 19743: expected 10 fields, saw 11\\nSkipping line 19744: expected 10 fields, saw 11\\nSkipping line 19745: expected 10 fields, saw 11\\nSkipping line 19746: expected 10 fields, saw 11\\nSkipping line 19747: expected 10 fields, saw 11\\nSkipping line 19748: expected 10 fields, saw 11\\nSkipping line 19749: expected 10 fields, saw 11\\nSkipping line 19750: expected 10 fields, saw 11\\nSkipping line 19751: expected 10 fields, saw 11\\nSkipping line 19752: expected 10 fields, saw 11\\nSkipping line 19753: expected 10 fields, saw 11\\nSkipping line 19754: expected 10 fields, saw 11\\nSkipping line 19755: expected 10 fields, saw 11\\nSkipping line 19756: expected 10 fields, saw 11\\nSkipping line 19757: expected 10 fields, saw 11\\nSkipping line 19758: expected 10 fields, saw 11\\nSkipping line 19759: expected 10 fields, saw 11\\nSkipping line 19760: expected 10 fields, saw 11\\nSkipping line 19761: expected 10 fields, saw 11\\nSkipping line 19762: expected 10 fields, saw 11\\nSkipping line 19763: expected 10 fields, saw 11\\nSkipping line 19766: expected 10 fields, saw 11\\nSkipping line 19767: expected 10 fields, saw 11\\nSkipping line 19768: expected 10 fields, saw 11\\nSkipping line 19769: expected 10 fields, saw 11\\nSkipping line 19770: expected 10 fields, saw 11\\nSkipping line 19771: expected 10 fields, saw 11\\nSkipping line 19772: expected 10 fields, saw 11\\nSkipping line 19773: expected 10 fields, saw 11\\nSkipping line 19774: expected 10 fields, saw 11\\nSkipping line 19775: expected 10 fields, saw 11\\nSkipping line 19776: expected 10 fields, saw 11\\nSkipping line 19777: expected 10 fields, saw 11\\nSkipping line 19778: expected 10 fields, saw 11\\nSkipping line 19779: expected 10 fields, saw 11\\nSkipping line 19780: expected 10 fields, saw 11\\nSkipping line 19781: expected 10 fields, saw 11\\nSkipping line 19782: expected 10 fields, saw 11\\nSkipping line 19783: expected 10 fields, saw 11\\nSkipping line 19784: expected 10 fields, saw 11\\nSkipping line 19785: expected 10 fields, saw 11\\nSkipping line 19786: expected 10 fields, saw 11\\nSkipping line 19787: expected 10 fields, saw 11\\nSkipping line 19788: expected 10 fields, saw 11\\nSkipping line 19830: expected 10 fields, saw 11\\nSkipping line 19831: expected 10 fields, saw 11\\nSkipping line 19832: expected 10 fields, saw 11\\nSkipping line 19833: expected 10 fields, saw 11\\nSkipping line 19835: expected 10 fields, saw 11\\nSkipping line 19836: expected 10 fields, saw 11\\nSkipping line 19837: expected 10 fields, saw 11\\nSkipping line 19838: expected 10 fields, saw 11\\nSkipping line 19839: expected 10 fields, saw 11\\nSkipping line 19840: expected 10 fields, saw 11\\nSkipping line 19841: expected 10 fields, saw 11\\nSkipping line 19842: expected 10 fields, saw 11\\nSkipping line 19843: expected 10 fields, saw 11\\nSkipping line 19844: expected 10 fields, saw 11\\nSkipping line 19845: expected 10 fields, saw 11\\nSkipping line 19846: expected 10 fields, saw 11\\nSkipping line 19847: expected 10 fields, saw 11\\nSkipping line 19848: expected 10 fields, saw 11\\nSkipping line 19849: expected 10 fields, saw 11\\nSkipping line 19850: expected 10 fields, saw 11\\nSkipping line 19851: expected 10 fields, saw 11\\nSkipping line 19852: expected 10 fields, saw 11\\nSkipping line 19853: expected 10 fields, saw 11\\nSkipping line 19854: expected 10 fields, saw 11\\nSkipping line 19859: expected 10 fields, saw 11\\nSkipping line 19860: expected 10 fields, saw 11\\nSkipping line 19861: expected 10 fields, saw 11\\nSkipping line 19862: expected 10 fields, saw 11\\nSkipping line 19863: expected 10 fields, saw 11\\nSkipping line 19864: expected 10 fields, saw 11\\nSkipping line 19865: expected 10 fields, saw 11\\nSkipping line 19866: expected 10 fields, saw 11\\nSkipping line 19867: expected 10 fields, saw 11\\nSkipping line 19868: expected 10 fields, saw 11\\nSkipping line 19869: expected 10 fields, saw 11\\nSkipping line 19870: expected 10 fields, saw 11\\nSkipping line 19871: expected 10 fields, saw 11\\nSkipping line 19872: expected 10 fields, saw 11\\nSkipping line 19873: expected 10 fields, saw 11\\nSkipping line 19874: expected 10 fields, saw 11\\nSkipping line 19875: expected 10 fields, saw 11\\nSkipping line 19876: expected 10 fields, saw 11\\nSkipping line 19877: expected 10 fields, saw 11\\nSkipping line 19878: expected 10 fields, saw 11\\nSkipping line 19879: expected 10 fields, saw 11\\nSkipping line 19880: expected 10 fields, saw 11\\nSkipping line 19881: expected 10 fields, saw 11\\nSkipping line 19882: expected 10 fields, saw 11\\nSkipping line 19883: expected 10 fields, saw 11\\nSkipping line 19884: expected 10 fields, saw 11\\nSkipping line 19885: expected 10 fields, saw 11\\nSkipping line 19886: expected 10 fields, saw 11\\nSkipping line 19887: expected 10 fields, saw 11\\nSkipping line 19888: expected 10 fields, saw 11\\nSkipping line 19889: expected 10 fields, saw 11\\nSkipping line 19892: expected 10 fields, saw 11\\nSkipping line 19893: expected 10 fields, saw 11\\nSkipping line 19894: expected 10 fields, saw 11\\nSkipping line 19895: expected 10 fields, saw 11\\nSkipping line 19896: expected 10 fields, saw 11\\nSkipping line 19897: expected 10 fields, saw 11\\nSkipping line 19898: expected 10 fields, saw 11\\nSkipping line 19899: expected 10 fields, saw 11\\nSkipping line 19900: expected 10 fields, saw 11\\nSkipping line 19901: expected 10 fields, saw 11\\nSkipping line 19902: expected 10 fields, saw 11\\nSkipping line 19903: expected 10 fields, saw 11\\nSkipping line 19904: expected 10 fields, saw 11\\nSkipping line 19905: expected 10 fields, saw 11\\nSkipping line 19906: expected 10 fields, saw 11\\nSkipping line 19907: expected 10 fields, saw 11\\nSkipping line 19908: expected 10 fields, saw 11\\nSkipping line 19909: expected 10 fields, saw 11\\nSkipping line 19910: expected 10 fields, saw 11\\nSkipping line 19911: expected 10 fields, saw 11\\nSkipping line 19912: expected 10 fields, saw 11\\nSkipping line 19913: expected 10 fields, saw 11\\nSkipping line 19914: expected 10 fields, saw 11\\nSkipping line 19915: expected 10 fields, saw 11\\nSkipping line 19916: expected 10 fields, saw 11\\nSkipping line 19917: expected 10 fields, saw 11\\nSkipping line 19918: expected 10 fields, saw 11\\nSkipping line 19919: expected 10 fields, saw 11\\nSkipping line 19920: expected 10 fields, saw 11\\nSkipping line 19921: expected 10 fields, saw 11\\nSkipping line 19922: expected 10 fields, saw 11\\nSkipping line 19923: expected 10 fields, saw 11\\nSkipping line 19924: expected 10 fields, saw 11\\nSkipping line 19925: expected 10 fields, saw 11\\nSkipping line 19926: expected 10 fields, saw 11\\nSkipping line 19927: expected 10 fields, saw 11\\nSkipping line 19928: expected 10 fields, saw 11\\nSkipping line 19929: expected 10 fields, saw 11\\nSkipping line 19930: expected 10 fields, saw 11\\nSkipping line 19931: expected 10 fields, saw 11\\nSkipping line 19932: expected 10 fields, saw 11\\nSkipping line 20026: expected 10 fields, saw 11\\nSkipping line 20325: expected 10 fields, saw 11\\nSkipping line 20326: expected 10 fields, saw 11\\nSkipping line 20327: expected 10 fields, saw 11\\nSkipping line 20328: expected 10 fields, saw 11\\nSkipping line 20352: expected 10 fields, saw 11\\nSkipping line 20353: expected 10 fields, saw 11\\nSkipping line 20354: expected 10 fields, saw 11\\nSkipping line 20355: expected 10 fields, saw 11\\nSkipping line 20356: expected 10 fields, saw 11\\nSkipping line 20357: expected 10 fields, saw 11\\nSkipping line 20358: expected 10 fields, saw 11\\nSkipping line 20359: expected 10 fields, saw 11\\nSkipping line 20360: expected 10 fields, saw 11\\nSkipping line 20361: expected 10 fields, saw 11\\nSkipping line 20362: expected 10 fields, saw 11\\nSkipping line 20363: expected 10 fields, saw 11\\nSkipping line 20364: expected 10 fields, saw 11\\nSkipping line 20401: expected 10 fields, saw 11\\nSkipping line 20402: expected 10 fields, saw 11\\nSkipping line 20403: expected 10 fields, saw 11\\nSkipping line 20404: expected 10 fields, saw 11\\nSkipping line 20405: expected 10 fields, saw 11\\nSkipping line 20406: expected 10 fields, saw 11\\nSkipping line 20407: expected 10 fields, saw 11\\nSkipping line 20586: expected 10 fields, saw 12\\nSkipping line 20587: expected 10 fields, saw 12\\nSkipping line 20680: expected 10 fields, saw 12\\nSkipping line 20681: expected 10 fields, saw 11\\nSkipping line 20848: expected 10 fields, saw 11\\nSkipping line 20916: expected 10 fields, saw 11\\nSkipping line 20917: expected 10 fields, saw 11\\nSkipping line 20918: expected 10 fields, saw 11\\nSkipping line 20919: expected 10 fields, saw 11\\nSkipping line 20920: expected 10 fields, saw 11\\nSkipping line 20921: expected 10 fields, saw 11\\nSkipping line 20922: expected 10 fields, saw 11\\nSkipping line 20923: expected 10 fields, saw 11\\nSkipping line 20924: expected 10 fields, saw 11\\nSkipping line 20925: expected 10 fields, saw 11\\nSkipping line 20926: expected 10 fields, saw 11\\nSkipping line 20927: expected 10 fields, saw 11\\nSkipping line 20928: expected 10 fields, saw 11\\nSkipping line 20929: expected 10 fields, saw 11\\nSkipping line 20930: expected 10 fields, saw 11\\nSkipping line 20931: expected 10 fields, saw 11\\nSkipping line 20932: expected 10 fields, saw 11\\nSkipping line 20933: expected 10 fields, saw 11\\nSkipping line 20934: expected 10 fields, saw 11\\nSkipping line 20935: expected 10 fields, saw 11\\nSkipping line 20936: expected 10 fields, saw 11\\nSkipping line 20937: expected 10 fields, saw 11\\nSkipping line 20938: expected 10 fields, saw 11\\nSkipping line 20939: expected 10 fields, saw 11\\nSkipping line 20940: expected 10 fields, saw 11\\nSkipping line 20941: expected 10 fields, saw 11\\nSkipping line 20942: expected 10 fields, saw 11\\nSkipping line 20943: expected 10 fields, saw 11\\nSkipping line 20944: expected 10 fields, saw 11\\nSkipping line 20945: expected 10 fields, saw 11\\nSkipping line 20946: expected 10 fields, saw 11\\nSkipping line 20947: expected 10 fields, saw 11\\nSkipping line 20948: expected 10 fields, saw 11\\nSkipping line 20949: expected 10 fields, saw 11\\nSkipping line 20950: expected 10 fields, saw 11\\nSkipping line 20951: expected 10 fields, saw 11\\nSkipping line 20952: expected 10 fields, saw 11\\nSkipping line 20953: expected 10 fields, saw 11\\nSkipping line 20954: expected 10 fields, saw 11\\nSkipping line 20955: expected 10 fields, saw 11\\nSkipping line 20956: expected 10 fields, saw 11\\nSkipping line 20957: expected 10 fields, saw 11\\nSkipping line 20958: expected 10 fields, saw 11\\nSkipping line 20959: expected 10 fields, saw 11\\nSkipping line 20960: expected 10 fields, saw 11\\nSkipping line 20961: expected 10 fields, saw 11\\nSkipping line 20962: expected 10 fields, saw 11\\nSkipping line 20963: expected 10 fields, saw 11\\nSkipping line 20964: expected 10 fields, saw 11\\nSkipping line 20965: expected 10 fields, saw 11\\nSkipping line 20966: expected 10 fields, saw 11\\nSkipping line 20967: expected 10 fields, saw 11\\nSkipping line 20968: expected 10 fields, saw 11\\nSkipping line 20969: expected 10 fields, saw 11\\nSkipping line 20970: expected 10 fields, saw 11\\nSkipping line 20971: expected 10 fields, saw 11\\nSkipping line 20972: expected 10 fields, saw 11\\nSkipping line 20973: expected 10 fields, saw 11\\nSkipping line 20974: expected 10 fields, saw 11\\nSkipping line 20975: expected 10 fields, saw 11\\nSkipping line 20976: expected 10 fields, saw 11\\nSkipping line 20977: expected 10 fields, saw 11\\nSkipping line 20978: expected 10 fields, saw 11\\nSkipping line 20979: expected 10 fields, saw 11\\nSkipping line 20980: expected 10 fields, saw 11\\nSkipping line 20981: expected 10 fields, saw 11\\nSkipping line 20982: expected 10 fields, saw 11\\nSkipping line 20983: expected 10 fields, saw 11\\nSkipping line 20984: expected 10 fields, saw 11\\nSkipping line 20985: expected 10 fields, saw 11\\nSkipping line 20986: expected 10 fields, saw 11\\nSkipping line 20987: expected 10 fields, saw 11\\nSkipping line 20988: expected 10 fields, saw 11\\nSkipping line 20989: expected 10 fields, saw 11\\nSkipping line 20990: expected 10 fields, saw 11\\nSkipping line 20991: expected 10 fields, saw 11\\nSkipping line 20992: expected 10 fields, saw 11\\nSkipping line 20993: expected 10 fields, saw 11\\nSkipping line 20994: expected 10 fields, saw 11\\nSkipping line 20995: expected 10 fields, saw 11\\nSkipping line 20996: expected 10 fields, saw 11\\nSkipping line 20997: expected 10 fields, saw 11\\nSkipping line 20998: expected 10 fields, saw 11\\nSkipping line 20999: expected 10 fields, saw 11\\nSkipping line 21000: expected 10 fields, saw 11\\nSkipping line 21001: expected 10 fields, saw 11\\nSkipping line 21002: expected 10 fields, saw 11\\nSkipping line 21003: expected 10 fields, saw 11\\nSkipping line 21004: expected 10 fields, saw 11\\nSkipping line 21005: expected 10 fields, saw 11\\nSkipping line 21006: expected 10 fields, saw 11\\nSkipping line 21007: expected 10 fields, saw 11\\nSkipping line 21008: expected 10 fields, saw 11\\nSkipping line 21009: expected 10 fields, saw 11\\nSkipping line 21066: expected 10 fields, saw 11\\nSkipping line 21126: expected 10 fields, saw 11\\nSkipping line 21128: expected 10 fields, saw 11\\nSkipping line 21129: expected 10 fields, saw 11\\nSkipping line 21560: expected 10 fields, saw 11\\nSkipping line 21561: expected 10 fields, saw 11\\nSkipping line 21562: expected 10 fields, saw 11\\nSkipping line 21563: expected 10 fields, saw 11\\nSkipping line 21564: expected 10 fields, saw 11\\nSkipping line 21565: expected 10 fields, saw 11\\nSkipping line 21566: expected 10 fields, saw 11\\nSkipping line 21567: expected 10 fields, saw 11\\nSkipping line 21568: expected 10 fields, saw 11\\nSkipping line 21569: expected 10 fields, saw 11\\nSkipping line 21570: expected 10 fields, saw 11\\nSkipping line 21571: expected 10 fields, saw 11\\nSkipping line 21572: expected 10 fields, saw 11\\nSkipping line 21573: expected 10 fields, saw 11\\nSkipping line 21574: expected 10 fields, saw 11\\nSkipping line 21575: expected 10 fields, saw 11\\nSkipping line 21576: expected 10 fields, saw 11\\nSkipping line 21577: expected 10 fields, saw 11\\nSkipping line 21578: expected 10 fields, saw 11\\nSkipping line 21579: expected 10 fields, saw 11\\nSkipping line 21580: expected 10 fields, saw 11\\nSkipping line 21581: expected 10 fields, saw 11\\nSkipping line 21582: expected 10 fields, saw 11\\nSkipping line 21583: expected 10 fields, saw 11\\nSkipping line 21584: expected 10 fields, saw 11\\nSkipping line 21585: expected 10 fields, saw 11\\nSkipping line 21586: expected 10 fields, saw 11\\nSkipping line 21587: expected 10 fields, saw 11\\nSkipping line 21588: expected 10 fields, saw 11\\nSkipping line 21589: expected 10 fields, saw 11\\nSkipping line 21590: expected 10 fields, saw 11\\nSkipping line 21591: expected 10 fields, saw 11\\nSkipping line 21592: expected 10 fields, saw 11\\nSkipping line 21593: expected 10 fields, saw 11\\nSkipping line 21594: expected 10 fields, saw 11\\nSkipping line 21595: expected 10 fields, saw 11\\nSkipping line 21596: expected 10 fields, saw 11\\nSkipping line 21597: expected 10 fields, saw 11\\nSkipping line 21640: expected 10 fields, saw 11\\nSkipping line 21641: expected 10 fields, saw 11\\nSkipping line 21642: expected 10 fields, saw 11\\nSkipping line 21643: expected 10 fields, saw 11\\nSkipping line 21644: expected 10 fields, saw 11\\nSkipping line 21645: expected 10 fields, saw 11\\nSkipping line 21669: expected 10 fields, saw 11\\nSkipping line 21673: expected 10 fields, saw 11\\nSkipping line 21674: expected 10 fields, saw 11\\nSkipping line 21675: expected 10 fields, saw 11\\nSkipping line 21676: expected 10 fields, saw 11\\nSkipping line 21737: expected 10 fields, saw 11\\nSkipping line 21738: expected 10 fields, saw 11\\nSkipping line 21739: expected 10 fields, saw 11\\nSkipping line 21740: expected 10 fields, saw 11\\nSkipping line 21741: expected 10 fields, saw 11\\nSkipping line 21742: expected 10 fields, saw 11\\nSkipping line 21743: expected 10 fields, saw 11\\nSkipping line 21744: expected 10 fields, saw 11\\nSkipping line 21745: expected 10 fields, saw 11\\nSkipping line 21746: expected 10 fields, saw 11\\nSkipping line 21747: expected 10 fields, saw 11\\nSkipping line 21748: expected 10 fields, saw 11\\nSkipping line 21749: expected 10 fields, saw 11\\nSkipping line 21750: expected 10 fields, saw 11\\nSkipping line 21751: expected 10 fields, saw 11\\nSkipping line 21752: expected 10 fields, saw 11\\nSkipping line 21753: expected 10 fields, saw 11\\nSkipping line 21754: expected 10 fields, saw 11\\nSkipping line 21755: expected 10 fields, saw 11\\n'\n"
     ]
    }
   ],
   "source": [
    "df6 = pd.read_csv('malicious_url/malware_urls.txt',sep=',',error_bad_lines=False)"
   ]
  },
  {
   "cell_type": "code",
   "execution_count": 17,
   "metadata": {},
   "outputs": [
    {
     "data": {
      "text/html": [
       "<div>\n",
       "<style scoped>\n",
       "    .dataframe tbody tr th:only-of-type {\n",
       "        vertical-align: middle;\n",
       "    }\n",
       "\n",
       "    .dataframe tbody tr th {\n",
       "        vertical-align: top;\n",
       "    }\n",
       "\n",
       "    .dataframe thead th {\n",
       "        text-align: right;\n",
       "    }\n",
       "</style>\n",
       "<table border=\"1\" class=\"dataframe\">\n",
       "  <thead>\n",
       "    <tr style=\"text-align: right;\">\n",
       "      <th></th>\n",
       "      <th>id</th>\n",
       "      <th>dateadded</th>\n",
       "      <th>url</th>\n",
       "      <th>url_status</th>\n",
       "      <th>threat</th>\n",
       "      <th>tags</th>\n",
       "      <th>m1</th>\n",
       "      <th>m2</th>\n",
       "      <th>urlhaus_link</th>\n",
       "      <th>reporter</th>\n",
       "    </tr>\n",
       "  </thead>\n",
       "  <tbody>\n",
       "    <tr>\n",
       "      <th>0</th>\n",
       "      <td>361469</td>\n",
       "      <td>2020-05-12 05:33:05</td>\n",
       "      <td>http://95.8.55.230:23693/.i</td>\n",
       "      <td>online</td>\n",
       "      <td>malware_download</td>\n",
       "      <td>32-bit</td>\n",
       "      <td>arm</td>\n",
       "      <td>elf</td>\n",
       "      <td>https://urlhaus.abuse.ch/url/361469/</td>\n",
       "      <td>geenensp</td>\n",
       "    </tr>\n",
       "    <tr>\n",
       "      <th>1</th>\n",
       "      <td>361468</td>\n",
       "      <td>2020-05-12 05:26:42</td>\n",
       "      <td>https://drive.google.com/uc?export=download&amp;id...</td>\n",
       "      <td>online</td>\n",
       "      <td>malware_download</td>\n",
       "      <td>exe</td>\n",
       "      <td>GuLoader</td>\n",
       "      <td>https://urlhaus.abuse.ch/url/361468/</td>\n",
       "      <td>lovemalware</td>\n",
       "      <td>NaN</td>\n",
       "    </tr>\n",
       "    <tr>\n",
       "      <th>2</th>\n",
       "      <td>361467</td>\n",
       "      <td>2020-05-12 05:26:32</td>\n",
       "      <td>https://drive.google.com/uc?export=download&amp;id...</td>\n",
       "      <td>online</td>\n",
       "      <td>malware_download</td>\n",
       "      <td>exe</td>\n",
       "      <td>GuLoader</td>\n",
       "      <td>https://urlhaus.abuse.ch/url/361467/</td>\n",
       "      <td>lovemalware</td>\n",
       "      <td>NaN</td>\n",
       "    </tr>\n",
       "    <tr>\n",
       "      <th>3</th>\n",
       "      <td>361466</td>\n",
       "      <td>2020-05-12 05:26:25</td>\n",
       "      <td>https://drive.google.com/uc?export=download&amp;id...</td>\n",
       "      <td>online</td>\n",
       "      <td>malware_download</td>\n",
       "      <td>exe</td>\n",
       "      <td>GuLoader</td>\n",
       "      <td>https://urlhaus.abuse.ch/url/361466/</td>\n",
       "      <td>lovemalware</td>\n",
       "      <td>NaN</td>\n",
       "    </tr>\n",
       "    <tr>\n",
       "      <th>4</th>\n",
       "      <td>361465</td>\n",
       "      <td>2020-05-12 05:26:17</td>\n",
       "      <td>http://61.83.184.120:56504/.i</td>\n",
       "      <td>online</td>\n",
       "      <td>malware_download</td>\n",
       "      <td>32-bit</td>\n",
       "      <td>arm</td>\n",
       "      <td>elf</td>\n",
       "      <td>https://urlhaus.abuse.ch/url/361465/</td>\n",
       "      <td>geenensp</td>\n",
       "    </tr>\n",
       "  </tbody>\n",
       "</table>\n",
       "</div>"
      ],
      "text/plain": [
       "       id            dateadded  \\\n",
       "0  361469  2020-05-12 05:33:05   \n",
       "1  361468  2020-05-12 05:26:42   \n",
       "2  361467  2020-05-12 05:26:32   \n",
       "3  361466  2020-05-12 05:26:25   \n",
       "4  361465  2020-05-12 05:26:17   \n",
       "\n",
       "                                                 url url_status  \\\n",
       "0                        http://95.8.55.230:23693/.i     online   \n",
       "1  https://drive.google.com/uc?export=download&id...     online   \n",
       "2  https://drive.google.com/uc?export=download&id...     online   \n",
       "3  https://drive.google.com/uc?export=download&id...     online   \n",
       "4                      http://61.83.184.120:56504/.i     online   \n",
       "\n",
       "             threat    tags        m1                                    m2  \\\n",
       "0  malware_download  32-bit       arm                                   elf   \n",
       "1  malware_download     exe  GuLoader  https://urlhaus.abuse.ch/url/361468/   \n",
       "2  malware_download     exe  GuLoader  https://urlhaus.abuse.ch/url/361467/   \n",
       "3  malware_download     exe  GuLoader  https://urlhaus.abuse.ch/url/361466/   \n",
       "4  malware_download  32-bit       arm                                   elf   \n",
       "\n",
       "                           urlhaus_link  reporter  \n",
       "0  https://urlhaus.abuse.ch/url/361469/  geenensp  \n",
       "1                           lovemalware       NaN  \n",
       "2                           lovemalware       NaN  \n",
       "3                           lovemalware       NaN  \n",
       "4  https://urlhaus.abuse.ch/url/361465/  geenensp  "
      ]
     },
     "execution_count": 17,
     "metadata": {},
     "output_type": "execute_result"
    }
   ],
   "source": [
    "df6.head()"
   ]
  },
  {
   "cell_type": "code",
   "execution_count": 18,
   "metadata": {},
   "outputs": [
    {
     "data": {
      "text/plain": [
       "(19967, 10)"
      ]
     },
     "execution_count": 18,
     "metadata": {},
     "output_type": "execute_result"
    }
   ],
   "source": [
    "df6.shape"
   ]
  },
  {
   "cell_type": "code",
   "execution_count": 19,
   "metadata": {},
   "outputs": [],
   "source": [
    "df6 = df6[['url']]\n",
    "df6['type']='malware'"
   ]
  },
  {
   "cell_type": "code",
   "execution_count": 20,
   "metadata": {},
   "outputs": [
    {
     "data": {
      "text/html": [
       "<div>\n",
       "<style scoped>\n",
       "    .dataframe tbody tr th:only-of-type {\n",
       "        vertical-align: middle;\n",
       "    }\n",
       "\n",
       "    .dataframe tbody tr th {\n",
       "        vertical-align: top;\n",
       "    }\n",
       "\n",
       "    .dataframe thead th {\n",
       "        text-align: right;\n",
       "    }\n",
       "</style>\n",
       "<table border=\"1\" class=\"dataframe\">\n",
       "  <thead>\n",
       "    <tr style=\"text-align: right;\">\n",
       "      <th></th>\n",
       "      <th>url</th>\n",
       "      <th>type</th>\n",
       "    </tr>\n",
       "  </thead>\n",
       "  <tbody>\n",
       "    <tr>\n",
       "      <th>0</th>\n",
       "      <td>http://95.8.55.230:23693/.i</td>\n",
       "      <td>malware</td>\n",
       "    </tr>\n",
       "    <tr>\n",
       "      <th>1</th>\n",
       "      <td>https://drive.google.com/uc?export=download&amp;id...</td>\n",
       "      <td>malware</td>\n",
       "    </tr>\n",
       "    <tr>\n",
       "      <th>2</th>\n",
       "      <td>https://drive.google.com/uc?export=download&amp;id...</td>\n",
       "      <td>malware</td>\n",
       "    </tr>\n",
       "    <tr>\n",
       "      <th>3</th>\n",
       "      <td>https://drive.google.com/uc?export=download&amp;id...</td>\n",
       "      <td>malware</td>\n",
       "    </tr>\n",
       "    <tr>\n",
       "      <th>4</th>\n",
       "      <td>http://61.83.184.120:56504/.i</td>\n",
       "      <td>malware</td>\n",
       "    </tr>\n",
       "  </tbody>\n",
       "</table>\n",
       "</div>"
      ],
      "text/plain": [
       "                                                 url     type\n",
       "0                        http://95.8.55.230:23693/.i  malware\n",
       "1  https://drive.google.com/uc?export=download&id...  malware\n",
       "2  https://drive.google.com/uc?export=download&id...  malware\n",
       "3  https://drive.google.com/uc?export=download&id...  malware\n",
       "4                      http://61.83.184.120:56504/.i  malware"
      ]
     },
     "execution_count": 20,
     "metadata": {},
     "output_type": "execute_result"
    }
   ],
   "source": [
    "df6.head()"
   ]
  },
  {
   "cell_type": "code",
   "execution_count": 21,
   "metadata": {},
   "outputs": [
    {
     "data": {
      "text/plain": [
       "(555186, 2)"
      ]
     },
     "execution_count": 21,
     "metadata": {},
     "output_type": "execute_result"
    }
   ],
   "source": [
    "df_final = pd.concat([df5,df6],ignore_index=True)\n",
    "df_final.shape"
   ]
  },
  {
   "cell_type": "code",
   "execution_count": 22,
   "metadata": {},
   "outputs": [],
   "source": [
    "df_final.to_csv('malicious_final.csv',index=False)"
   ]
  },
  {
   "cell_type": "code",
   "execution_count": 30,
   "metadata": {},
   "outputs": [
    {
     "name": "stderr",
     "output_type": "stream",
     "text": [
      "b'Skipping line 18259: expected 14 fields, saw 15\\nSkipping line 18273: expected 14 fields, saw 15\\n'\n",
      "C:\\Users\\sid321axn\\Anaconda3\\lib\\site-packages\\IPython\\core\\interactiveshell.py:3057: DtypeWarning: Columns (1,2,3,11,12) have mixed types. Specify dtype option on import or set low_memory=False.\n",
      "  interactivity=interactivity, compiler=compiler, result=result)\n"
     ]
    },
    {
     "data": {
      "text/plain": [
       "(96005, 14)"
      ]
     },
     "execution_count": 30,
     "metadata": {},
     "output_type": "execute_result"
    }
   ],
   "source": [
    "df7 =pd.read_csv('malicious_url/urlset.csv',sep=',',error_bad_lines=False,encoding=\"ISO-8859-1\")\n",
    "df7.shape"
   ]
  },
  {
   "cell_type": "code",
   "execution_count": 31,
   "metadata": {},
   "outputs": [
    {
     "data": {
      "text/html": [
       "<div>\n",
       "<style scoped>\n",
       "    .dataframe tbody tr th:only-of-type {\n",
       "        vertical-align: middle;\n",
       "    }\n",
       "\n",
       "    .dataframe tbody tr th {\n",
       "        vertical-align: top;\n",
       "    }\n",
       "\n",
       "    .dataframe thead th {\n",
       "        text-align: right;\n",
       "    }\n",
       "</style>\n",
       "<table border=\"1\" class=\"dataframe\">\n",
       "  <thead>\n",
       "    <tr style=\"text-align: right;\">\n",
       "      <th></th>\n",
       "      <th>domain</th>\n",
       "      <th>ranking</th>\n",
       "      <th>mld_res</th>\n",
       "      <th>mld.ps_res</th>\n",
       "      <th>card_rem</th>\n",
       "      <th>ratio_Rrem</th>\n",
       "      <th>ratio_Arem</th>\n",
       "      <th>jaccard_RR</th>\n",
       "      <th>jaccard_RA</th>\n",
       "      <th>jaccard_AR</th>\n",
       "      <th>jaccard_AA</th>\n",
       "      <th>jaccard_ARrd</th>\n",
       "      <th>jaccard_ARrem</th>\n",
       "      <th>label</th>\n",
       "    </tr>\n",
       "  </thead>\n",
       "  <tbody>\n",
       "    <tr>\n",
       "      <th>0</th>\n",
       "      <td>nobell.it/70ffb52d079109dca5664cce6f317373782/...</td>\n",
       "      <td>10000000</td>\n",
       "      <td>1.0</td>\n",
       "      <td>0.0</td>\n",
       "      <td>18.0</td>\n",
       "      <td>107.611111</td>\n",
       "      <td>107.277778</td>\n",
       "      <td>0.0</td>\n",
       "      <td>0.0</td>\n",
       "      <td>0.0</td>\n",
       "      <td>0.0</td>\n",
       "      <td>0.8</td>\n",
       "      <td>0.795729</td>\n",
       "      <td>1.0</td>\n",
       "    </tr>\n",
       "    <tr>\n",
       "      <th>1</th>\n",
       "      <td>www.dghjdgf.com/paypal.co.uk/cycgi-bin/webscrc...</td>\n",
       "      <td>10000000</td>\n",
       "      <td>0.0</td>\n",
       "      <td>0.0</td>\n",
       "      <td>11.0</td>\n",
       "      <td>150.636364</td>\n",
       "      <td>152.272727</td>\n",
       "      <td>0.0</td>\n",
       "      <td>0.0</td>\n",
       "      <td>0.0</td>\n",
       "      <td>0.0</td>\n",
       "      <td>0</td>\n",
       "      <td>0.768577</td>\n",
       "      <td>1.0</td>\n",
       "    </tr>\n",
       "    <tr>\n",
       "      <th>2</th>\n",
       "      <td>serviciosbys.com/paypal.cgi.bin.get-into.herf....</td>\n",
       "      <td>10000000</td>\n",
       "      <td>0.0</td>\n",
       "      <td>0.0</td>\n",
       "      <td>14.0</td>\n",
       "      <td>73.500000</td>\n",
       "      <td>72.642857</td>\n",
       "      <td>0.0</td>\n",
       "      <td>0.0</td>\n",
       "      <td>0.0</td>\n",
       "      <td>0.0</td>\n",
       "      <td>0</td>\n",
       "      <td>0.726582</td>\n",
       "      <td>1.0</td>\n",
       "    </tr>\n",
       "    <tr>\n",
       "      <th>3</th>\n",
       "      <td>mail.printakid.com/www.online.americanexpress....</td>\n",
       "      <td>10000000</td>\n",
       "      <td>0.0</td>\n",
       "      <td>0.0</td>\n",
       "      <td>6.0</td>\n",
       "      <td>562.000000</td>\n",
       "      <td>590.666667</td>\n",
       "      <td>0.0</td>\n",
       "      <td>0.0</td>\n",
       "      <td>0.0</td>\n",
       "      <td>0.0</td>\n",
       "      <td>0</td>\n",
       "      <td>0.85964</td>\n",
       "      <td>1.0</td>\n",
       "    </tr>\n",
       "    <tr>\n",
       "      <th>4</th>\n",
       "      <td>thewhiskeydregs.com/wp-content/themes/widescre...</td>\n",
       "      <td>10000000</td>\n",
       "      <td>0.0</td>\n",
       "      <td>0.0</td>\n",
       "      <td>8.0</td>\n",
       "      <td>29.000000</td>\n",
       "      <td>24.125000</td>\n",
       "      <td>0.0</td>\n",
       "      <td>0.0</td>\n",
       "      <td>0.0</td>\n",
       "      <td>0.0</td>\n",
       "      <td>0</td>\n",
       "      <td>0.748971</td>\n",
       "      <td>1.0</td>\n",
       "    </tr>\n",
       "  </tbody>\n",
       "</table>\n",
       "</div>"
      ],
      "text/plain": [
       "                                              domain   ranking mld_res  \\\n",
       "0  nobell.it/70ffb52d079109dca5664cce6f317373782/...  10000000     1.0   \n",
       "1  www.dghjdgf.com/paypal.co.uk/cycgi-bin/webscrc...  10000000     0.0   \n",
       "2  serviciosbys.com/paypal.cgi.bin.get-into.herf....  10000000     0.0   \n",
       "3  mail.printakid.com/www.online.americanexpress....  10000000     0.0   \n",
       "4  thewhiskeydregs.com/wp-content/themes/widescre...  10000000     0.0   \n",
       "\n",
       "  mld.ps_res  card_rem  ratio_Rrem  ratio_Arem  jaccard_RR  jaccard_RA  \\\n",
       "0        0.0      18.0  107.611111  107.277778         0.0         0.0   \n",
       "1        0.0      11.0  150.636364  152.272727         0.0         0.0   \n",
       "2        0.0      14.0   73.500000   72.642857         0.0         0.0   \n",
       "3        0.0       6.0  562.000000  590.666667         0.0         0.0   \n",
       "4        0.0       8.0   29.000000   24.125000         0.0         0.0   \n",
       "\n",
       "   jaccard_AR  jaccard_AA jaccard_ARrd jaccard_ARrem  label  \n",
       "0         0.0         0.0          0.8      0.795729    1.0  \n",
       "1         0.0         0.0            0      0.768577    1.0  \n",
       "2         0.0         0.0            0      0.726582    1.0  \n",
       "3         0.0         0.0            0       0.85964    1.0  \n",
       "4         0.0         0.0            0      0.748971    1.0  "
      ]
     },
     "execution_count": 31,
     "metadata": {},
     "output_type": "execute_result"
    }
   ],
   "source": [
    "df7.head()"
   ]
  },
  {
   "cell_type": "code",
   "execution_count": 32,
   "metadata": {},
   "outputs": [],
   "source": [
    "df7 = df7[['domain','label']]"
   ]
  },
  {
   "cell_type": "code",
   "execution_count": 33,
   "metadata": {},
   "outputs": [
    {
     "data": {
      "text/html": [
       "<div>\n",
       "<style scoped>\n",
       "    .dataframe tbody tr th:only-of-type {\n",
       "        vertical-align: middle;\n",
       "    }\n",
       "\n",
       "    .dataframe tbody tr th {\n",
       "        vertical-align: top;\n",
       "    }\n",
       "\n",
       "    .dataframe thead th {\n",
       "        text-align: right;\n",
       "    }\n",
       "</style>\n",
       "<table border=\"1\" class=\"dataframe\">\n",
       "  <thead>\n",
       "    <tr style=\"text-align: right;\">\n",
       "      <th></th>\n",
       "      <th>domain</th>\n",
       "      <th>label</th>\n",
       "    </tr>\n",
       "  </thead>\n",
       "  <tbody>\n",
       "    <tr>\n",
       "      <th>0</th>\n",
       "      <td>nobell.it/70ffb52d079109dca5664cce6f317373782/...</td>\n",
       "      <td>1.0</td>\n",
       "    </tr>\n",
       "    <tr>\n",
       "      <th>1</th>\n",
       "      <td>www.dghjdgf.com/paypal.co.uk/cycgi-bin/webscrc...</td>\n",
       "      <td>1.0</td>\n",
       "    </tr>\n",
       "    <tr>\n",
       "      <th>2</th>\n",
       "      <td>serviciosbys.com/paypal.cgi.bin.get-into.herf....</td>\n",
       "      <td>1.0</td>\n",
       "    </tr>\n",
       "    <tr>\n",
       "      <th>3</th>\n",
       "      <td>mail.printakid.com/www.online.americanexpress....</td>\n",
       "      <td>1.0</td>\n",
       "    </tr>\n",
       "    <tr>\n",
       "      <th>4</th>\n",
       "      <td>thewhiskeydregs.com/wp-content/themes/widescre...</td>\n",
       "      <td>1.0</td>\n",
       "    </tr>\n",
       "  </tbody>\n",
       "</table>\n",
       "</div>"
      ],
      "text/plain": [
       "                                              domain  label\n",
       "0  nobell.it/70ffb52d079109dca5664cce6f317373782/...    1.0\n",
       "1  www.dghjdgf.com/paypal.co.uk/cycgi-bin/webscrc...    1.0\n",
       "2  serviciosbys.com/paypal.cgi.bin.get-into.herf....    1.0\n",
       "3  mail.printakid.com/www.online.americanexpress....    1.0\n",
       "4  thewhiskeydregs.com/wp-content/themes/widescre...    1.0"
      ]
     },
     "execution_count": 33,
     "metadata": {},
     "output_type": "execute_result"
    }
   ],
   "source": [
    "df7.head()"
   ]
  },
  {
   "cell_type": "code",
   "execution_count": 34,
   "metadata": {},
   "outputs": [
    {
     "data": {
      "text/html": [
       "<div>\n",
       "<style scoped>\n",
       "    .dataframe tbody tr th:only-of-type {\n",
       "        vertical-align: middle;\n",
       "    }\n",
       "\n",
       "    .dataframe tbody tr th {\n",
       "        vertical-align: top;\n",
       "    }\n",
       "\n",
       "    .dataframe thead th {\n",
       "        text-align: right;\n",
       "    }\n",
       "</style>\n",
       "<table border=\"1\" class=\"dataframe\">\n",
       "  <thead>\n",
       "    <tr style=\"text-align: right;\">\n",
       "      <th></th>\n",
       "      <th>domain</th>\n",
       "      <th>label</th>\n",
       "    </tr>\n",
       "  </thead>\n",
       "  <tbody>\n",
       "    <tr>\n",
       "      <th>0</th>\n",
       "      <td>nobell.it/70ffb52d079109dca5664cce6f317373782/...</td>\n",
       "      <td>benign</td>\n",
       "    </tr>\n",
       "    <tr>\n",
       "      <th>1</th>\n",
       "      <td>www.dghjdgf.com/paypal.co.uk/cycgi-bin/webscrc...</td>\n",
       "      <td>benign</td>\n",
       "    </tr>\n",
       "    <tr>\n",
       "      <th>2</th>\n",
       "      <td>serviciosbys.com/paypal.cgi.bin.get-into.herf....</td>\n",
       "      <td>benign</td>\n",
       "    </tr>\n",
       "    <tr>\n",
       "      <th>3</th>\n",
       "      <td>mail.printakid.com/www.online.americanexpress....</td>\n",
       "      <td>benign</td>\n",
       "    </tr>\n",
       "    <tr>\n",
       "      <th>4</th>\n",
       "      <td>thewhiskeydregs.com/wp-content/themes/widescre...</td>\n",
       "      <td>benign</td>\n",
       "    </tr>\n",
       "  </tbody>\n",
       "</table>\n",
       "</div>"
      ],
      "text/plain": [
       "                                              domain   label\n",
       "0  nobell.it/70ffb52d079109dca5664cce6f317373782/...  benign\n",
       "1  www.dghjdgf.com/paypal.co.uk/cycgi-bin/webscrc...  benign\n",
       "2  serviciosbys.com/paypal.cgi.bin.get-into.herf....  benign\n",
       "3  mail.printakid.com/www.online.americanexpress....  benign\n",
       "4  thewhiskeydregs.com/wp-content/themes/widescre...  benign"
      ]
     },
     "execution_count": 34,
     "metadata": {},
     "output_type": "execute_result"
    }
   ],
   "source": [
    "df7[\"label\"] = df7.label.apply(lambda  x:'benign' if x==1.0 else 'phishing')\n",
    "df7.head()\n"
   ]
  },
  {
   "cell_type": "code",
   "execution_count": 35,
   "metadata": {},
   "outputs": [
    {
     "data": {
      "text/html": [
       "<div>\n",
       "<style scoped>\n",
       "    .dataframe tbody tr th:only-of-type {\n",
       "        vertical-align: middle;\n",
       "    }\n",
       "\n",
       "    .dataframe tbody tr th {\n",
       "        vertical-align: top;\n",
       "    }\n",
       "\n",
       "    .dataframe thead th {\n",
       "        text-align: right;\n",
       "    }\n",
       "</style>\n",
       "<table border=\"1\" class=\"dataframe\">\n",
       "  <thead>\n",
       "    <tr style=\"text-align: right;\">\n",
       "      <th></th>\n",
       "      <th>url</th>\n",
       "      <th>type</th>\n",
       "    </tr>\n",
       "  </thead>\n",
       "  <tbody>\n",
       "    <tr>\n",
       "      <th>0</th>\n",
       "      <td>nobell.it/70ffb52d079109dca5664cce6f317373782/...</td>\n",
       "      <td>benign</td>\n",
       "    </tr>\n",
       "    <tr>\n",
       "      <th>1</th>\n",
       "      <td>www.dghjdgf.com/paypal.co.uk/cycgi-bin/webscrc...</td>\n",
       "      <td>benign</td>\n",
       "    </tr>\n",
       "    <tr>\n",
       "      <th>2</th>\n",
       "      <td>serviciosbys.com/paypal.cgi.bin.get-into.herf....</td>\n",
       "      <td>benign</td>\n",
       "    </tr>\n",
       "    <tr>\n",
       "      <th>3</th>\n",
       "      <td>mail.printakid.com/www.online.americanexpress....</td>\n",
       "      <td>benign</td>\n",
       "    </tr>\n",
       "    <tr>\n",
       "      <th>4</th>\n",
       "      <td>thewhiskeydregs.com/wp-content/themes/widescre...</td>\n",
       "      <td>benign</td>\n",
       "    </tr>\n",
       "  </tbody>\n",
       "</table>\n",
       "</div>"
      ],
      "text/plain": [
       "                                                 url    type\n",
       "0  nobell.it/70ffb52d079109dca5664cce6f317373782/...  benign\n",
       "1  www.dghjdgf.com/paypal.co.uk/cycgi-bin/webscrc...  benign\n",
       "2  serviciosbys.com/paypal.cgi.bin.get-into.herf....  benign\n",
       "3  mail.printakid.com/www.online.americanexpress....  benign\n",
       "4  thewhiskeydregs.com/wp-content/themes/widescre...  benign"
      ]
     },
     "execution_count": 35,
     "metadata": {},
     "output_type": "execute_result"
    }
   ],
   "source": [
    "df7.columns=['url','type']\n",
    "df7.head()"
   ]
  },
  {
   "cell_type": "code",
   "execution_count": 36,
   "metadata": {},
   "outputs": [
    {
     "data": {
      "text/plain": [
       "(651191, 2)"
      ]
     },
     "execution_count": 36,
     "metadata": {},
     "output_type": "execute_result"
    }
   ],
   "source": [
    "df_final = pd.concat([df_final,df7],ignore_index=True)\n",
    "df_final.shape"
   ]
  },
  {
   "cell_type": "code",
   "execution_count": 37,
   "metadata": {},
   "outputs": [],
   "source": [
    "df_final.to_csv('malicious_phish.csv',index=False)"
   ]
  },
  {
   "cell_type": "code",
   "execution_count": null,
   "metadata": {},
   "outputs": [],
   "source": []
  }
 ],
 "metadata": {
  "kernelspec": {
   "display_name": "Python 3",
   "language": "python",
   "name": "python3"
  },
  "language_info": {
   "codemirror_mode": {
    "name": "ipython",
    "version": 3
   },
   "file_extension": ".py",
   "mimetype": "text/x-python",
   "name": "python",
   "nbconvert_exporter": "python",
   "pygments_lexer": "ipython3",
   "version": "3.7.3"
  }
 },
 "nbformat": 4,
 "nbformat_minor": 2
}
